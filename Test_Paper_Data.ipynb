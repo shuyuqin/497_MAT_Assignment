{
 "cells": [
  {
   "cell_type": "code",
   "execution_count": null,
   "metadata": {},
   "outputs": [],
   "source": [
    "from __future__ import absolute_import, division, print_function, unicode_literals\n",
    "#\n",
    "import tensorflow as tf\n",
    "#import keras.backend.tensorflow_backend as KTF\n",
    "gpu_devices = tf.config.experimental.list_physical_devices('GPU')\n",
    "for device in gpu_devices:\n",
    "    tf.config.experimental.set_memory_growth(device,True)\n",
    "\n"
   ]
  },
  {
   "cell_type": "code",
   "execution_count": null,
   "metadata": {},
   "outputs": [],
   "source": []
  },
  {
   "cell_type": "code",
   "execution_count": 28,
   "metadata": {},
   "outputs": [],
   "source": [
    "import numpy as np\n",
    "import matplotlib\n",
    "import matplotlib.pyplot as plt\n",
    "import keras.layers as layers\n",
    "import keras\n",
    "from keras.models import Model\n",
    "from keras.layers import Input, LSTM, Dense\n",
    "from keras.models import Sequential, Input, Model\n",
    "from keras.layers import (Dense, Conv1D, Convolution2D, GRU, LSTM, Recurrent, Bidirectional, TimeDistributed,\n",
    "                          Dropout, Flatten, RepeatVector, Reshape, MaxPooling1D, UpSampling1D, BatchNormalization)\n",
    "from keras.layers.core import Lambda\n",
    "from keras.optimizers import Adam\n",
    "from keras.regularizers import l1\n",
    "from keras.models import load_model\n",
    "from sklearn import preprocessing\n",
    "from keras.models import load_model\n",
    "from sklearn.model_selection import GridSearchCV\n",
    "from keras.wrappers.scikit_learn import KerasClassifier\n",
    "from sklearn import linear_model\n",
    "import pandas as pd\n",
    "import torch\n",
    "import torch.nn as nn\n",
    "import random\n",
    "#from keras import layers as layers\n",
    "import torch.nn.functional as F\n",
    "import torch.optim as optim\n",
    "from torch.autograd import Variable\n",
    "from scipy import special\n",
    "import torchvision.datasets as dsets\n",
    "import torchvision.transforms as transforms\n",
    "import tensorflow as tf\n",
    "import tensorflow.keras.backend as K\n",
    "from keras.callbacks import ModelCheckpoint\n",
    "from sklearn.decomposition import NMF\n",
    "from scipy import io\n",
    "import numpy as np\n",
    "import os\n",
    "import os.path\n",
    "\n",
    "# # loads the custom graphing format\n",
    "# viz.format.custom_plt_format()\n",
    "\n",
    "# plt.style.use('seaborn-white')"
   ]
  },
  {
   "cell_type": "code",
   "execution_count": 2,
   "metadata": {},
   "outputs": [],
   "source": [
    "import os\n",
    "if os.path.exists(\"./Revealing-Ferroelectric-Switching-Character-Using-Deep-Recurrent-Neural-Networks\"):\n",
    "    pass\n",
    "else:\n",
    "    !git clone https://github.com/jagar2/Revealing-Ferroelectric-Switching-Character-Using-Deep-Recurrent-Neural-Networks.git"
   ]
  },
  {
   "cell_type": "code",
   "execution_count": 10,
   "metadata": {},
   "outputs": [
    {
     "name": "stdout",
     "output_type": "stream",
     "text": [
      "/Users/qinshuyu/497_MAT_Assignment/Revealing-Ferroelectric-Switching-Character-Using-Deep-Recurrent-Neural-Networks\n"
     ]
    }
   ],
   "source": [
    "cd Revealing-Ferroelectric-Switching-Character-Using-Deep-Recurrent-Neural-Networks"
   ]
  },
  {
   "cell_type": "code",
   "execution_count": 34,
   "metadata": {},
   "outputs": [
    {
     "name": "stdout",
     "output_type": "stream",
     "text": [
      "/Users/qinshuyu/497_MAT_Assignment\n"
     ]
    }
   ],
   "source": [
    "cd 497_MAT_Assignment/"
   ]
  },
  {
   "cell_type": "code",
   "execution_count": 3,
   "metadata": {},
   "outputs": [
    {
     "name": "stdout",
     "output_type": "stream",
     "text": [
      "Requirement already up-to-date: moviepy in /Users/qinshuyu/opt/anaconda3/lib/python3.7/site-packages (1.0.1)\n",
      "Requirement already up-to-date: keras in /Users/qinshuyu/opt/anaconda3/lib/python3.7/site-packages (2.3.1)\n",
      "Requirement already up-to-date: tensorflow in /Users/qinshuyu/opt/anaconda3/lib/python3.7/site-packages (2.1.0)\n",
      "Requirement already up-to-date: natsort in /Users/qinshuyu/opt/anaconda3/lib/python3.7/site-packages (7.0.1)\n",
      "Requirement already up-to-date: tqdm in /Users/qinshuyu/opt/anaconda3/lib/python3.7/site-packages (4.42.1)\n",
      "Requirement already up-to-date: scikit_image in /Users/qinshuyu/opt/anaconda3/lib/python3.7/site-packages (0.16.2)\n",
      "Requirement already up-to-date: scikit_learn in /Users/qinshuyu/opt/anaconda3/lib/python3.7/site-packages (0.22.1)\n",
      "Requirement already up-to-date: scipy in /Users/qinshuyu/opt/anaconda3/lib/python3.7/site-packages (1.4.1)\n",
      "Requirement already satisfied, skipping upgrade: requests<3.0,>=2.8.1 in /Users/qinshuyu/opt/anaconda3/lib/python3.7/site-packages (from moviepy) (2.22.0)\n",
      "Requirement already satisfied, skipping upgrade: decorator<5.0,>=4.0.2 in /Users/qinshuyu/opt/anaconda3/lib/python3.7/site-packages (from moviepy) (4.4.0)\n",
      "Requirement already satisfied, skipping upgrade: imageio-ffmpeg>=0.2.0; python_version >= \"3.4\" in /Users/qinshuyu/opt/anaconda3/lib/python3.7/site-packages (from moviepy) (0.3.0)\n",
      "Requirement already satisfied, skipping upgrade: numpy in /Users/qinshuyu/opt/anaconda3/lib/python3.7/site-packages (from moviepy) (1.17.2)\n",
      "Requirement already satisfied, skipping upgrade: imageio<3.0,>=2.5; python_version >= \"3.4\" in /Users/qinshuyu/opt/anaconda3/lib/python3.7/site-packages (from moviepy) (2.6.1)\n",
      "Requirement already satisfied, skipping upgrade: proglog<=1.0.0 in /Users/qinshuyu/opt/anaconda3/lib/python3.7/site-packages (from moviepy) (0.1.9)\n",
      "Requirement already satisfied, skipping upgrade: pyyaml in /Users/qinshuyu/opt/anaconda3/lib/python3.7/site-packages (from keras) (5.1.2)\n",
      "Requirement already satisfied, skipping upgrade: six>=1.9.0 in /Users/qinshuyu/opt/anaconda3/lib/python3.7/site-packages (from keras) (1.12.0)\n",
      "Requirement already satisfied, skipping upgrade: h5py in /Users/qinshuyu/opt/anaconda3/lib/python3.7/site-packages (from keras) (2.9.0)\n",
      "Requirement already satisfied, skipping upgrade: keras-preprocessing>=1.0.5 in /Users/qinshuyu/opt/anaconda3/lib/python3.7/site-packages (from keras) (1.1.0)\n",
      "Requirement already satisfied, skipping upgrade: keras-applications>=1.0.6 in /Users/qinshuyu/opt/anaconda3/lib/python3.7/site-packages (from keras) (1.0.8)\n",
      "Requirement already satisfied, skipping upgrade: opt-einsum>=2.3.2 in /Users/qinshuyu/opt/anaconda3/lib/python3.7/site-packages (from tensorflow) (3.1.0)\n",
      "Requirement already satisfied, skipping upgrade: wrapt>=1.11.1 in /Users/qinshuyu/opt/anaconda3/lib/python3.7/site-packages (from tensorflow) (1.11.2)\n",
      "Requirement already satisfied, skipping upgrade: grpcio>=1.8.6 in /Users/qinshuyu/opt/anaconda3/lib/python3.7/site-packages (from tensorflow) (1.25.0)\n",
      "Requirement already satisfied, skipping upgrade: absl-py>=0.7.0 in /Users/qinshuyu/opt/anaconda3/lib/python3.7/site-packages (from tensorflow) (0.8.1)\n",
      "Requirement already satisfied, skipping upgrade: protobuf>=3.8.0 in /Users/qinshuyu/opt/anaconda3/lib/python3.7/site-packages (from tensorflow) (3.11.0)\n",
      "Requirement already satisfied, skipping upgrade: tensorflow-estimator<2.2.0,>=2.1.0rc0 in /Users/qinshuyu/opt/anaconda3/lib/python3.7/site-packages (from tensorflow) (2.1.0)\n",
      "Requirement already satisfied, skipping upgrade: astor>=0.6.0 in /Users/qinshuyu/opt/anaconda3/lib/python3.7/site-packages (from tensorflow) (0.8.0)\n",
      "Requirement already satisfied, skipping upgrade: google-pasta>=0.1.6 in /Users/qinshuyu/opt/anaconda3/lib/python3.7/site-packages (from tensorflow) (0.1.8)\n",
      "Requirement already satisfied, skipping upgrade: gast==0.2.2 in /Users/qinshuyu/opt/anaconda3/lib/python3.7/site-packages (from tensorflow) (0.2.2)\n",
      "Requirement already satisfied, skipping upgrade: termcolor>=1.1.0 in /Users/qinshuyu/opt/anaconda3/lib/python3.7/site-packages (from tensorflow) (1.1.0)\n",
      "Requirement already satisfied, skipping upgrade: tensorboard<2.2.0,>=2.1.0 in /Users/qinshuyu/opt/anaconda3/lib/python3.7/site-packages (from tensorflow) (2.1.0)\n",
      "Requirement already satisfied, skipping upgrade: wheel>=0.26; python_version >= \"3\" in /Users/qinshuyu/opt/anaconda3/lib/python3.7/site-packages (from tensorflow) (0.33.6)\n",
      "Requirement already satisfied, skipping upgrade: matplotlib!=3.0.0,>=2.0.0 in /Users/qinshuyu/opt/anaconda3/lib/python3.7/site-packages (from scikit_image) (3.1.1)\n",
      "Requirement already satisfied, skipping upgrade: networkx>=2.0 in /Users/qinshuyu/opt/anaconda3/lib/python3.7/site-packages (from scikit_image) (2.3)\n",
      "Requirement already satisfied, skipping upgrade: PyWavelets>=0.4.0 in /Users/qinshuyu/opt/anaconda3/lib/python3.7/site-packages (from scikit_image) (1.0.3)\n",
      "Requirement already satisfied, skipping upgrade: pillow>=4.3.0 in /Users/qinshuyu/opt/anaconda3/lib/python3.7/site-packages (from scikit_image) (6.1.0)\n",
      "Requirement already satisfied, skipping upgrade: joblib>=0.11 in /Users/qinshuyu/opt/anaconda3/lib/python3.7/site-packages (from scikit_learn) (0.13.2)\n",
      "Requirement already satisfied, skipping upgrade: idna<2.9,>=2.5 in /Users/qinshuyu/opt/anaconda3/lib/python3.7/site-packages (from requests<3.0,>=2.8.1->moviepy) (2.8)\n",
      "Requirement already satisfied, skipping upgrade: urllib3!=1.25.0,!=1.25.1,<1.26,>=1.21.1 in /Users/qinshuyu/opt/anaconda3/lib/python3.7/site-packages (from requests<3.0,>=2.8.1->moviepy) (1.24.2)\n",
      "Requirement already satisfied, skipping upgrade: certifi>=2017.4.17 in /Users/qinshuyu/opt/anaconda3/lib/python3.7/site-packages (from requests<3.0,>=2.8.1->moviepy) (2019.9.11)\n",
      "Requirement already satisfied, skipping upgrade: chardet<3.1.0,>=3.0.2 in /Users/qinshuyu/opt/anaconda3/lib/python3.7/site-packages (from requests<3.0,>=2.8.1->moviepy) (3.0.4)\n",
      "Requirement already satisfied, skipping upgrade: setuptools in /Users/qinshuyu/opt/anaconda3/lib/python3.7/site-packages (from protobuf>=3.8.0->tensorflow) (41.4.0)\n",
      "Requirement already satisfied, skipping upgrade: markdown>=2.6.8 in /Users/qinshuyu/opt/anaconda3/lib/python3.7/site-packages (from tensorboard<2.2.0,>=2.1.0->tensorflow) (3.1.1)\n",
      "Requirement already satisfied, skipping upgrade: google-auth<2,>=1.6.3 in /Users/qinshuyu/opt/anaconda3/lib/python3.7/site-packages (from tensorboard<2.2.0,>=2.1.0->tensorflow) (1.7.1)\n",
      "Requirement already satisfied, skipping upgrade: google-auth-oauthlib<0.5,>=0.4.1 in /Users/qinshuyu/opt/anaconda3/lib/python3.7/site-packages (from tensorboard<2.2.0,>=2.1.0->tensorflow) (0.4.1)\n",
      "Requirement already satisfied, skipping upgrade: werkzeug>=0.11.15 in /Users/qinshuyu/opt/anaconda3/lib/python3.7/site-packages (from tensorboard<2.2.0,>=2.1.0->tensorflow) (0.16.0)\n",
      "Requirement already satisfied, skipping upgrade: cycler>=0.10 in /Users/qinshuyu/opt/anaconda3/lib/python3.7/site-packages (from matplotlib!=3.0.0,>=2.0.0->scikit_image) (0.10.0)\n",
      "Requirement already satisfied, skipping upgrade: kiwisolver>=1.0.1 in /Users/qinshuyu/opt/anaconda3/lib/python3.7/site-packages (from matplotlib!=3.0.0,>=2.0.0->scikit_image) (1.1.0)\n",
      "Requirement already satisfied, skipping upgrade: pyparsing!=2.0.4,!=2.1.2,!=2.1.6,>=2.0.1 in /Users/qinshuyu/opt/anaconda3/lib/python3.7/site-packages (from matplotlib!=3.0.0,>=2.0.0->scikit_image) (2.4.2)\n",
      "Requirement already satisfied, skipping upgrade: python-dateutil>=2.1 in /Users/qinshuyu/opt/anaconda3/lib/python3.7/site-packages (from matplotlib!=3.0.0,>=2.0.0->scikit_image) (2.8.0)\n",
      "Requirement already satisfied, skipping upgrade: cachetools<3.2,>=2.0.0 in /Users/qinshuyu/opt/anaconda3/lib/python3.7/site-packages (from google-auth<2,>=1.6.3->tensorboard<2.2.0,>=2.1.0->tensorflow) (3.1.1)\n",
      "Requirement already satisfied, skipping upgrade: rsa<4.1,>=3.1.4 in /Users/qinshuyu/opt/anaconda3/lib/python3.7/site-packages (from google-auth<2,>=1.6.3->tensorboard<2.2.0,>=2.1.0->tensorflow) (4.0)\n",
      "Requirement already satisfied, skipping upgrade: pyasn1-modules>=0.2.1 in /Users/qinshuyu/opt/anaconda3/lib/python3.7/site-packages (from google-auth<2,>=1.6.3->tensorboard<2.2.0,>=2.1.0->tensorflow) (0.2.7)\n",
      "Requirement already satisfied, skipping upgrade: requests-oauthlib>=0.7.0 in /Users/qinshuyu/opt/anaconda3/lib/python3.7/site-packages (from google-auth-oauthlib<0.5,>=0.4.1->tensorboard<2.2.0,>=2.1.0->tensorflow) (1.3.0)\n",
      "Requirement already satisfied, skipping upgrade: pyasn1>=0.1.3 in /Users/qinshuyu/opt/anaconda3/lib/python3.7/site-packages (from rsa<4.1,>=3.1.4->google-auth<2,>=1.6.3->tensorboard<2.2.0,>=2.1.0->tensorflow) (0.4.8)\n",
      "Requirement already satisfied, skipping upgrade: oauthlib>=3.0.0 in /Users/qinshuyu/opt/anaconda3/lib/python3.7/site-packages (from requests-oauthlib>=0.7.0->google-auth-oauthlib<0.5,>=0.4.1->tensorboard<2.2.0,>=2.1.0->tensorflow) (3.1.0)\n"
     ]
    },
    {
     "name": "stdout",
     "output_type": "stream",
     "text": [
      "Requirement already satisfied: pillow==6.1 in /Users/qinshuyu/opt/anaconda3/lib/python3.7/site-packages (6.1.0)\n",
      "Requirement already up-to-date: imageio in /Users/qinshuyu/opt/anaconda3/lib/python3.7/site-packages (2.6.1)\n",
      "Requirement already satisfied, skipping upgrade: pillow in /Users/qinshuyu/opt/anaconda3/lib/python3.7/site-packages (from imageio) (6.1.0)\n",
      "Requirement already satisfied, skipping upgrade: numpy in /Users/qinshuyu/opt/anaconda3/lib/python3.7/site-packages (from imageio) (1.17.2)\n"
     ]
    }
   ],
   "source": [
    "!pip install -U moviepy keras tensorflow natsort tqdm scikit_image scikit_learn scipy\n",
    "!pip install pillow==6.1\n",
    "!pip install -U imageio"
   ]
  },
  {
   "cell_type": "code",
   "execution_count": 37,
   "metadata": {},
   "outputs": [],
   "source": [
    "import warnings\n",
    "warnings.filterwarnings('ignore')\n",
    "import imp\n",
    "from matplotlib.ticker import FormatStrFormatter\n",
    "import matplotlib.pyplot as plt\n",
    "import codes.analysis.rnn as rnn\n",
    "import codes.util as util\n",
    "import codes.analysis.machine_learning as ml\n",
    "import codes.analysis as an\n",
    "import codes.processing as p\n",
    "import codes.viz as viz\n",
    "import codes.util.input_output as io_transfer\n",
    "\n"
   ]
  },
  {
   "cell_type": "code",
   "execution_count": 11,
   "metadata": {},
   "outputs": [],
   "source": [
    "imported = {'data': io.matlab.loadmat('./Raw_Data/Data.mat'),\n",
    "            'validation_data': io.matlab.loadmat('Raw_Data/loop_1.mat')}\n",
    "\n",
    "# extracts the important information from the raw data\n",
    "raw = {'voltage': imported['data']['Voltagedata_mixed'],\n",
    "       'piezoresponse': imported['data']['Loopdata_mixed'],\n",
    "       'amplitude': imported['data']['OutA2_mixed'],\n",
    "       'phase': imported['data']['OutPhi1_mixed'],\n",
    "       'resonance': imported['data']['Outw2_mixed'],\n",
    "       'quality_factor': imported['data']['OutQ2_mixed'],\n",
    "       'val_piezoresponse': imported['validation_data']['piezo_1'],\n",
    "       'val_resonance': imported['validation_data']['resonance_loop_1']}"
   ]
  },
  {
   "cell_type": "code",
   "execution_count": 41,
   "metadata": {},
   "outputs": [
    {
     "data": {
      "text/plain": [
       "(60, 60, 96)"
      ]
     },
     "execution_count": 41,
     "metadata": {},
     "output_type": "execute_result"
    }
   ],
   "source": [
    "raw['piezoresponse'].shape"
   ]
  },
  {
   "cell_type": "code",
   "execution_count": 38,
   "metadata": {},
   "outputs": [],
   "source": [
    "p.filters.range_filter(raw['resonance'], [1300, 1340])\n",
    "p.filters.range_filter(raw['val_resonance'], [1300, 1340])\n",
    "\n",
    "# interpolates data that is non-real. This happens when the SHO fit fails\n",
    "interpolated = {'voltage': raw['voltage'],\n",
    "                'piezoresponse': p.filters.clean_interpolate(raw['piezoresponse'],\n",
    "                                                             'linear').reshape(-1, raw['piezoresponse'].shape[2]),\n",
    "                'amplitude': p.filters.clean_interpolate(raw['amplitude'],\n",
    "                                                         'linear').reshape(-1, raw['amplitude'].shape[2]),\n",
    "                'phase': p.filters.clean_interpolate(raw['phase'],\n",
    "                                                     'linear').reshape(-1, raw['phase'].shape[2]),\n",
    "                'resonance': p.filters.clean_interpolate(raw['resonance'],\n",
    "                                                         'linear').reshape(-1, raw['resonance'].shape[2]),\n",
    "                'quality_factor': p.filters.clean_interpolate(raw['quality_factor'],\n",
    "                                                              'linear').reshape(-1, raw['quality_factor'].shape[2]),\n",
    "                'val_piezoresponse': p.filters.clean_interpolate(raw['val_piezoresponse'],\n",
    "                                                                  'linear').reshape(-1, raw['val_piezoresponse'].shape[2]),\n",
    "                'val_resonance': p.filters.clean_interpolate(raw['val_resonance'],\n",
    "                                                             'linear').reshape(-1, raw['val_resonance'].shape[2])}\n",
    "# Uses Savitzky-Golay filter to remove outlier points\n",
    "sg_filtered = {'voltage': raw['voltage'],\n",
    "               'piezoresponse': p.filters.savgol(interpolated['piezoresponse'], fit_type='linear'),\n",
    "               'amplitude': p.filters.savgol(interpolated['amplitude'], fit_type='linear'),\n",
    "               'phase': p.filters.savgol(interpolated['phase'], fit_type='linear'),\n",
    "               'resonance': p.filters.savgol(interpolated['resonance'], fit_type='linear'),\n",
    "               'quality_factor': p.filters.savgol(interpolated['quality_factor'], fit_type='linear'),\n",
    "               'val_piezoresponse': p.filters.savgol(interpolated['val_piezoresponse'], fit_type='linear'),\n",
    "               'val_resonance': p.filters.savgol(interpolated['val_resonance'], fit_type='linear')}\n",
    "\n",
    "# normalized the data. This is important for training Neural Networks\n",
    "normalized = {'voltage': raw['voltage'],\n",
    "              'piezoresponse': p.filters.normalize(sg_filtered['piezoresponse']),\n",
    "              'amplitude': p.filters.normalize(sg_filtered['amplitude']),\n",
    "              'phase': p.filters.normalize(sg_filtered['phase']),\n",
    "              'resonance': p.filters.normalize(sg_filtered['resonance']),\n",
    "              'quality_factor': p.filters.normalize(sg_filtered['quality_factor']),\n",
    "              'val_piezoresponse': p.filters.normalize(sg_filtered['val_piezoresponse'],\n",
    "                                                       sg_filtered['piezoresponse']),\n",
    "              'val_resonance': p.filters.normalize(sg_filtered['val_resonance'],\n",
    "                                                   sg_filtered['resonance'])}"
   ]
  },
  {
   "cell_type": "code",
   "execution_count": 27,
   "metadata": {},
   "outputs": [
    {
     "name": "stdout",
     "output_type": "stream",
     "text": [
      "Python: 3.7.4 (default, Aug 13 2019, 15:17:50) \n",
      "[Clang 4.0.1 (tags/RELEASE_401/final)]\n",
      "scipy: 1.4.1\n",
      "numpy: 1.17.2\n",
      "matplotlib: 3.1.1\n",
      "pandas: 0.25.1\n",
      "sklearn: 0.22.1\n"
     ]
    }
   ],
   "source": [
    "# Python version\n",
    "import sys\n",
    "print('Python: {}'.format(sys.version))\n",
    "# scipy\n",
    "import scipy\n",
    "print('scipy: {}'.format(scipy.__version__))\n",
    "# numpy\n",
    "import numpy\n",
    "print('numpy: {}'.format(numpy.__version__))\n",
    "# matplotlib\n",
    "import matplotlib\n",
    "print('matplotlib: {}'.format(matplotlib.__version__))\n",
    "# pandas\n",
    "import pandas\n",
    "print('pandas: {}'.format(pandas.__version__))\n",
    "# scikit-learn\n",
    "import sklearn\n",
    "print('sklearn: {}'.format(sklearn.__version__))"
   ]
  },
  {
   "cell_type": "code",
   "execution_count": 42,
   "metadata": {},
   "outputs": [
    {
     "data": {
      "text/plain": [
       "(3600, 96)"
      ]
     },
     "execution_count": 42,
     "metadata": {},
     "output_type": "execute_result"
    }
   ],
   "source": [
    "normalized['piezoresponse'].shape"
   ]
  },
  {
   "cell_type": "code",
   "execution_count": null,
   "metadata": {},
   "outputs": [],
   "source": []
  }
 ],
 "metadata": {
  "kernelspec": {
   "display_name": "Python 3",
   "language": "python",
   "name": "python3"
  },
  "language_info": {
   "codemirror_mode": {
    "name": "ipython",
    "version": 3
   },
   "file_extension": ".py",
   "mimetype": "text/x-python",
   "name": "python",
   "nbconvert_exporter": "python",
   "pygments_lexer": "ipython3",
   "version": "3.7.4"
  }
 },
 "nbformat": 4,
 "nbformat_minor": 2
}
