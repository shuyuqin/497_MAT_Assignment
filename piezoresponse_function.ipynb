{
 "cells": [
  {
   "cell_type": "code",
   "execution_count": null,
   "metadata": {},
   "outputs": [],
   "source": [
    "from __future__ import absolute_import, division, print_function, unicode_literals\n",
    "#\n",
    "import tensorflow as tf\n",
    "#import keras.backend.tensorflow_backend as KTF\n",
    "gpu_devices = tf.config.experimental.list_physical_devices('GPU')\n",
    "for device in gpu_devices:\n",
    "    tf.config.experimental.set_memory_growth(device,True)\n",
    "\n"
   ]
  },
  {
   "cell_type": "code",
   "execution_count": null,
   "metadata": {},
   "outputs": [],
   "source": [
    "import os\n",
    "os.environ[\"CUDA_DEVICE_ORDER\"]=\"PCI_BUS_ID\";\n",
    " \n",
    "# The GPU id to use, usually either \"0\" or \"1\";\n",
    "os.environ[\"CUDA_VISIBLE_DEVICES\"]=\"1\";  "
   ]
  },
  {
   "cell_type": "code",
   "execution_count": 3,
   "metadata": {},
   "outputs": [
    {
     "name": "stdout",
     "output_type": "stream",
     "text": [
      "1.3.1\n"
     ]
    },
    {
     "ename": "AttributeError",
     "evalue": "module 'tensorflow_core.keras.backend' has no attribute 'tensorflow_backend'",
     "output_type": "error",
     "traceback": [
      "\u001b[0;31m---------------------------------------------------------------------------\u001b[0m",
      "\u001b[0;31mAttributeError\u001b[0m                            Traceback (most recent call last)",
      "\u001b[0;32m<ipython-input-3-dc4d3693b08d>\u001b[0m in \u001b[0;36m<module>\u001b[0;34m\u001b[0m\n\u001b[1;32m      1\u001b[0m \u001b[0;32mimport\u001b[0m \u001b[0mtorch\u001b[0m\u001b[0;34m\u001b[0m\u001b[0;34m\u001b[0m\u001b[0m\n\u001b[1;32m      2\u001b[0m \u001b[0mprint\u001b[0m\u001b[0;34m(\u001b[0m\u001b[0mtorch\u001b[0m\u001b[0;34m.\u001b[0m\u001b[0m__version__\u001b[0m\u001b[0;34m)\u001b[0m\u001b[0;34m\u001b[0m\u001b[0;34m\u001b[0m\u001b[0m\n\u001b[0;32m----> 3\u001b[0;31m \u001b[0mprint\u001b[0m\u001b[0;34m(\u001b[0m\u001b[0mK\u001b[0m\u001b[0;34m.\u001b[0m\u001b[0mtensorflow_backend\u001b[0m\u001b[0;34m.\u001b[0m\u001b[0m_get_available_gpus\u001b[0m\u001b[0;34m(\u001b[0m\u001b[0;34m)\u001b[0m\u001b[0;34m)\u001b[0m\u001b[0;34m\u001b[0m\u001b[0;34m\u001b[0m\u001b[0m\n\u001b[0m",
      "\u001b[0;31mAttributeError\u001b[0m: module 'tensorflow_core.keras.backend' has no attribute 'tensorflow_backend'"
     ]
    }
   ],
   "source": [
    "import torch\n",
    "print(torch.__version__)\n",
    "print(K.tensorflow_backend._get_available_gpus())"
   ]
  },
  {
   "cell_type": "code",
   "execution_count": 2,
   "metadata": {},
   "outputs": [
    {
     "name": "stderr",
     "output_type": "stream",
     "text": [
      "Using TensorFlow backend.\n"
     ]
    }
   ],
   "source": [
    "import numpy as np\n",
    "import matplotlib\n",
    "import matplotlib.pyplot as plt\n",
    "import keras.layers as layers\n",
    "import keras\n",
    "from keras.models import Model\n",
    "from keras.layers import Input, LSTM, Dense\n",
    "from keras.models import Sequential, Input, Model\n",
    "from keras.layers import (Dense, Conv1D, Convolution2D, GRU, LSTM, Recurrent, Bidirectional, TimeDistributed,\n",
    "                          Dropout, Flatten, RepeatVector, Reshape, MaxPooling1D, UpSampling1D, BatchNormalization)\n",
    "from keras.layers.core import Lambda\n",
    "from keras.optimizers import Adam\n",
    "from keras.regularizers import l1\n",
    "from keras.models import load_model\n",
    "from sklearn import preprocessing\n",
    "from keras.models import load_model\n",
    "from sklearn.model_selection import GridSearchCV\n",
    "from keras.wrappers.scikit_learn import KerasClassifier\n",
    "from sklearn import linear_model\n",
    "import pandas as pd\n",
    "import torch\n",
    "import torch.nn as nn\n",
    "import random\n",
    "#from keras import layers as layers\n",
    "import torch.nn.functional as F\n",
    "import torch.optim as optim\n",
    "from torch.autograd import Variable\n",
    "from scipy import special\n",
    "import torchvision.datasets as dsets\n",
    "import torchvision.transforms as transforms\n",
    "import tensorflow as tf\n",
    "import tensorflow.keras.backend as K\n",
    "from keras.callbacks import ModelCheckpoint"
   ]
  },
  {
   "cell_type": "code",
   "execution_count": 4,
   "metadata": {},
   "outputs": [],
   "source": [
    "def s_1(b1, b2, Vbot, C1, D1):\n",
    "    s1 = (b1+b2)/2 + ((b2-b1)/2)*special.erfc((Vbot-C1)/D1)\n",
    "    return s1\n",
    "    \n",
    "def s_2(b3, b4, Vbot, C2, D2):\n",
    "    s2 = (b3+b4)/2 + ((b4-b3)/2)*special.erfc((Vbot-C2)/D2)\n",
    "    return s2\n",
    "\n",
    "def s_3(b5, b6, Vbot, C3, D3):\n",
    "    s3 = (b5+b6)/2 + ((b6-b5)/2)*special.erfc((Vbot-C3)/D3)\n",
    "    return s3\n",
    "\n",
    "def s_4(b7, b8, Vtop, C4, D4):\n",
    "    s4 = (b7+b8)/2 + ((b8-b7)/2)*special.erfc((Vtop-C4)/D4)\n",
    "    return s4\n",
    "\n",
    "def s_5(b9, b10, Vtop, C5, D5):\n",
    "    s5 = (b9+b10)/2 + ((b10-b9)/2)*special.erfc((Vtop-C5)/D5)\n",
    "    return s5\n",
    "\n",
    "def s_6(b11, b12, Vtop, C6, D6):\n",
    "    s6 = (b11+b12)/2 + ((b12-b11)/2)*special.erfc((Vtop-C6)/D6)\n",
    "    return s6"
   ]
  },
  {
   "cell_type": "code",
   "execution_count": 5,
   "metadata": {},
   "outputs": [],
   "source": [
    "def F_1(a1, a2, a3, a4, a7,Al1, Al2, Al3, s1, s2, s3, Vbot):\n",
    "    F1 = a1+(a1-a2)*(special.erfc((Vbot+Al1)/s1)+1)/2 + (a2-a3)*(special.erfc((Vbot+Al2)/s2)+1)/2 + (a3-a4)*(special.erfc((Vbot+Al3)/s3)+1)/2 + a7*Vtop\n",
    "    return F1\n",
    "\n",
    "def F_2(a1, a5, a6, a4, a7, Au1, Au2, Au3, s4, s5, s6, Vtop):\n",
    "    F2 = a1+(a1-a5)*(special.erfc((Vtop+Au1)/s4)+1)/2 + (a5-a6)*(special.erfc((Vtop+Au2)/s5)+1)/2 + (a6-a4)*(special.erfc((Vtop+Au3)/s6)+1)/2 + a7*Vtop\n",
    "    return F2"
   ]
  },
  {
   "cell_type": "code",
   "execution_count": 78,
   "metadata": {},
   "outputs": [],
   "source": [
    "Vbot = np.linspace(-15,15,300)\n",
    "Vtop = np.linspace(-15,15,300)\n",
    "a1 = -5\n",
    "a2 = 3\n",
    "a3 = 12\n",
    "a4 = 15\n",
    "a5 = 2\n",
    "a6 = 10\n",
    "a7 = 0.01\n",
    "b1 = 1\n",
    "b2 = 1\n",
    "b3 = 1\n",
    "b4 = 1\n",
    "b5 = 1\n",
    "b6 = 1\n",
    "b7 = 1\n",
    "b8 = 1\n",
    "b9 = 1\n",
    "b10= 1\n",
    "b11= 1\n",
    "b12= 1\n",
    "Al1= 3\n",
    "Al2= -2\n",
    "Al3= -6\n",
    "Au1= -8\n",
    "Au2= -4\n",
    "Au3= 0\n",
    "C1 = -1\n",
    "C2 = -1\n",
    "C3 = -1\n",
    "C4 = 6\n",
    "C5 = 6\n",
    "C6 = 6\n",
    "D1 = 1\n",
    "D2 = 1\n",
    "D3 = 1\n",
    "D4 = 1\n",
    "D5 = 1\n",
    "D6 = 1"
   ]
  },
  {
   "cell_type": "code",
   "execution_count": 79,
   "metadata": {},
   "outputs": [],
   "source": [
    "s1 = s_1(b1, b2, Vbot, C1, D1)\n",
    "s2 = s_2(b3, b4, Vbot, C2, D2)\n",
    "s3 = s_3(b5, b6, Vbot, C3, D3)\n",
    "s4 = s_4(b7, b8, Vtop, C4, D4)\n",
    "s5 = s_5(b9, b10, Vtop, C5, D5)\n",
    "s6 = s_6(b11, b12, Vtop, C6, D6)"
   ]
  },
  {
   "cell_type": "code",
   "execution_count": 80,
   "metadata": {},
   "outputs": [],
   "source": [
    "F1 = F_1(a1, a2, a3, a4, a7, Al1, Al2, Al3, s1, s2, s3, Vbot)\n",
    "F2 = F_2(a1, a5, a6, a4, a7, Au1, Au2, Au3, s4, s5, s6, Vtop)"
   ]
  },
  {
   "cell_type": "code",
   "execution_count": 81,
   "metadata": {},
   "outputs": [
    {
     "data": {
      "text/plain": [
       "[<matplotlib.lines.Line2D at 0x1a3e9c5a50>]"
      ]
     },
     "execution_count": 81,
     "metadata": {},
     "output_type": "execute_result"
    },
    {
     "data": {
      "image/png": "[encoded data removed]",
      "text/plain": [
       "<Figure size 432x288 with 1 Axes>"
      ]
     },
     "metadata": {
      "needs_background": "light"
     },
     "output_type": "display_data"
    }
   ],
   "source": [
    "plt.plot(Vbot,F1,'b')\n",
    "plt.plot(Vtop,F2,'r')"
   ]
  },
  {
   "cell_type": "code",
   "execution_count": 83,
   "metadata": {},
   "outputs": [
    {
     "data": {
      "text/plain": [
       "[<matplotlib.lines.Line2D at 0x1a3ec11b10>]"
      ]
     },
     "execution_count": 83,
     "metadata": {},
     "output_type": "execute_result"
    },
    {
     "data": {
      "image/png": "[encoded data removed]",
      "text/plain": [
       "<Figure size 432x288 with 1 Axes>"
      ]
     },
     "metadata": {
      "needs_background": "light"
     },
     "output_type": "display_data"
    }
   ],
   "source": [
    "plt.plot(Vtop,special.erfc((Vbot-C1)/D1),'b.')"
   ]
  },
  {
   "cell_type": "code",
   "execution_count": 32,
   "metadata": {},
   "outputs": [],
   "source": [
    "date = {'dfsa':100,'dfsad':200}"
   ]
  },
  {
   "cell_type": "code",
   "execution_count": 47,
   "metadata": {},
   "outputs": [
    {
     "name": "stdout",
     "output_type": "stream",
     "text": [
      "dfsa 100\n",
      "dfsad 200\n"
     ]
    }
   ],
   "source": [
    "for key,value in date.items():\n",
    "    print (key,value)"
   ]
  },
  {
   "cell_type": "code",
   "execution_count": 108,
   "metadata": {},
   "outputs": [],
   "source": [
    "Vbot = np.linspace(-15,15,300)\n",
    "Vtop = np.linspace(-15,15,300)\n",
    "F1 = []\n",
    "F2 = []\n",
    "\n",
    "for k in range(1000):\n",
    "    a1 = np.random.uniform(-6,-4,1)\n",
    "    a2 = np.random.uniform(2,4,1)\n",
    "    a3 = np.random.uniform(11,13,1)\n",
    "    a4 = np.random.uniform(14,16,1)\n",
    "    a5 = np.random.uniform(1,3,1)\n",
    "    a6 = np.random.uniform(9,11,1)\n",
    "    a7 = np.random.uniform(0,1,1)\n",
    "    b1 = np.random.uniform(1,1,1)\n",
    "    b2 = np.random.uniform(1,1,1)\n",
    "    b3 = np.random.uniform(1,1,1)\n",
    "    b4 = np.random.uniform(1,1,1)\n",
    "    b5 = np.random.uniform(1,1,1)\n",
    "    b6 = np.random.uniform(1,1,1)\n",
    "    b7 = np.random.uniform(1,1,1)\n",
    "    b8 = np.random.uniform(1,1,1)\n",
    "    b9 = np.random.uniform(1,1,1)\n",
    "    b10= np.random.uniform(1,1,1)\n",
    "    b11= np.random.uniform(1,1,1)\n",
    "    b12= np.random.uniform(1,1,1)\n",
    "    Al1= np.random.uniform(2,4,1)\n",
    "    Al2= np.random.uniform(-3,-1,1)\n",
    "    Al3= np.random.uniform(-7,-5,1)\n",
    "    Au1= np.random.uniform(-9,-7,1)\n",
    "    Au2= np.random.uniform(-5,-3,1)\n",
    "    Au3= np.random.uniform(-1,1,1)\n",
    "    C1 = np.random.uniform(-2,0,1)\n",
    "    C2 = np.random.uniform(-2,0,1)\n",
    "    C3 = np.random.uniform(-2,0,1)\n",
    "    C4 = np.random.uniform(5,7,1)\n",
    "    C5 = np.random.uniform(5,7,1)\n",
    "    C6 = np.random.uniform(5,7,1)\n",
    "    D1 = np.random.uniform(0,2,1)\n",
    "    D2 = np.random.uniform(0,2,1)\n",
    "    D3 = np.random.uniform(0,2,1)\n",
    "    D4 = np.random.uniform(0,2,1)\n",
    "    D5 = np.random.uniform(0,2,1)\n",
    "    D6 = np.random.uniform(0,2,1)\n",
    "    \n",
    "    s1 = s_1(b1, b2, Vbot, C1, D1)\n",
    "    s2 = s_2(b3, b4, Vbot, C2, D2)\n",
    "    s3 = s_3(b5, b6, Vbot, C3, D3)\n",
    "    s4 = s_4(b7, b8, Vtop, C4, D4)\n",
    "    s5 = s_5(b9, b10, Vtop, C5, D5)\n",
    "    s6 = s_6(b11, b12, Vtop, C6, D6)\n",
    "    \n",
    "    F1_ = F_1(a1, a2, a3, a4, a7, Al1, Al2, Al3, s1, s2, s3, Vbot)\n",
    "    F2_ = F_2(a1, a5, a6, a4, a7, Au1, Au2, Au3, s4, s5, s6, Vtop)\n",
    "    \n",
    "    F1.append(F1_)\n",
    "    F2.append(F2_)\n",
    "    \n",
    "    \n",
    "    \n",
    "    \n",
    "    \n"
   ]
  },
  {
   "cell_type": "code",
   "execution_count": 109,
   "metadata": {},
   "outputs": [],
   "source": [
    "F1 = np.asarray(F1)\n",
    "F2 = np.asarray(F2)"
   ]
  },
  {
   "cell_type": "code",
   "execution_count": 110,
   "metadata": {},
   "outputs": [
    {
     "data": {
      "image/png": "[encoded data removed]",
      "text/plain": [
       "<Figure size 576x576 with 16 Axes>"
      ]
     },
     "metadata": {
      "needs_background": "light"
     },
     "output_type": "display_data"
    }
   ],
   "source": [
    "fig, axs = plt.subplots(4, 4, figsize=(8, 8))\n",
    "axs.reshape(-1)\n",
    "for i in range (0,4):\n",
    "    for j in range(0,4):\n",
    "        k = np.random.randint(0, F1.shape[0])\n",
    "        ax = axs[i,j]\n",
    "        ax.plot(Vbot,F1[k],'r-')\n",
    "        ax.plot(Vtop,F2[k],'b-')\n",
    "        "
   ]
  },
  {
   "cell_type": "code",
   "execution_count": 91,
   "metadata": {},
   "outputs": [],
   "source": []
  },
  {
   "cell_type": "code",
   "execution_count": 93,
   "metadata": {},
   "outputs": [
    {
     "data": {
      "text/plain": [
       "(1000, 300)"
      ]
     },
     "execution_count": 93,
     "metadata": {},
     "output_type": "execute_result"
    }
   ],
   "source": [
    "F1.shape"
   ]
  },
  {
   "cell_type": "code",
   "execution_count": null,
   "metadata": {},
   "outputs": [],
   "source": []
  },
  {
   "cell_type": "code",
   "execution_count": null,
   "metadata": {},
   "outputs": [],
   "source": []
  },
  {
   "cell_type": "code",
   "execution_count": null,
   "metadata": {},
   "outputs": [],
   "source": []
  },
  {
   "cell_type": "code",
   "execution_count": null,
   "metadata": {},
   "outputs": [],
   "source": []
  },
  {
   "cell_type": "code",
   "execution_count": null,
   "metadata": {},
   "outputs": [],
   "source": []
  }
 ],
 "metadata": {
  "kernelspec": {
   "display_name": "Python 3",
   "language": "python",
   "name": "python3"
  },
  "language_info": {
   "codemirror_mode": {
    "name": "ipython",
    "version": 3
   },
   "file_extension": ".py",
   "mimetype": "text/x-python",
   "name": "python",
   "nbconvert_exporter": "python",
   "pygments_lexer": "ipython3",
   "version": "3.7.4"
  }
 },
 "nbformat": 4,
 "nbformat_minor": 2
}
