{
 "cells": [
  {
   "cell_type": "code",
   "execution_count": null,
   "metadata": {},
   "outputs": [],
   "source": [
    "from __future__ import absolute_import, division, print_function, unicode_literals\n",
    "#\n",
    "import tensorflow as tf\n",
    "#import keras.backend.tensorflow_backend as KTF\n",
    "gpu_devices = tf.config.experimental.list_physical_devices('GPU')\n",
    "for device in gpu_devices:\n",
    "    tf.config.experimental.set_memory_growth(device,True)\n",
    "\n"
   ]
  },
  {
   "cell_type": "code",
   "execution_count": null,
   "metadata": {},
   "outputs": [],
   "source": [
    "import os\n",
    "os.environ[\"CUDA_DEVICE_ORDER\"]=\"PCI_BUS_ID\";\n",
    " \n",
    "# The GPU id to use, usually either \"0\" or \"1\";\n",
    "os.environ[\"CUDA_VISIBLE_DEVICES\"]=\"1\";  "
   ]
  },
  {
   "cell_type": "code",
   "execution_count": 3,
   "metadata": {},
   "outputs": [
    {
     "name": "stdout",
     "output_type": "stream",
     "text": [
      "1.3.1\n"
     ]
    },
    {
     "ename": "AttributeError",
     "evalue": "module 'tensorflow_core.keras.backend' has no attribute 'tensorflow_backend'",
     "output_type": "error",
     "traceback": [
      "\u001b[0;31m---------------------------------------------------------------------------\u001b[0m",
      "\u001b[0;31mAttributeError\u001b[0m                            Traceback (most recent call last)",
      "\u001b[0;32m<ipython-input-3-dc4d3693b08d>\u001b[0m in \u001b[0;36m<module>\u001b[0;34m\u001b[0m\n\u001b[1;32m      1\u001b[0m \u001b[0;32mimport\u001b[0m \u001b[0mtorch\u001b[0m\u001b[0;34m\u001b[0m\u001b[0;34m\u001b[0m\u001b[0m\n\u001b[1;32m      2\u001b[0m \u001b[0mprint\u001b[0m\u001b[0;34m(\u001b[0m\u001b[0mtorch\u001b[0m\u001b[0;34m.\u001b[0m\u001b[0m__version__\u001b[0m\u001b[0;34m)\u001b[0m\u001b[0;34m\u001b[0m\u001b[0;34m\u001b[0m\u001b[0m\n\u001b[0;32m----> 3\u001b[0;31m \u001b[0mprint\u001b[0m\u001b[0;34m(\u001b[0m\u001b[0mK\u001b[0m\u001b[0;34m.\u001b[0m\u001b[0mtensorflow_backend\u001b[0m\u001b[0;34m.\u001b[0m\u001b[0m_get_available_gpus\u001b[0m\u001b[0;34m(\u001b[0m\u001b[0;34m)\u001b[0m\u001b[0;34m)\u001b[0m\u001b[0;34m\u001b[0m\u001b[0;34m\u001b[0m\u001b[0m\n\u001b[0m",
      "\u001b[0;31mAttributeError\u001b[0m: module 'tensorflow_core.keras.backend' has no attribute 'tensorflow_backend'"
     ]
    }
   ],
   "source": [
    "import torch\n",
    "print(torch.__version__)\n",
    "print(K.tensorflow_backend._get_available_gpus())"
   ]
  },
  {
   "cell_type": "code",
   "execution_count": 113,
   "metadata": {},
   "outputs": [],
   "source": [
    "import numpy as np\n",
    "import matplotlib\n",
    "import matplotlib.pyplot as plt\n",
    "import keras.layers as layers\n",
    "import keras\n",
    "from keras.models import Model\n",
    "from keras.layers import Input, LSTM, Dense\n",
    "from keras.models import Sequential, Input, Model\n",
    "from keras.layers import (Dense, Conv1D, Convolution2D, GRU, LSTM, Recurrent, Bidirectional, TimeDistributed,\n",
    "                          Dropout, Flatten, RepeatVector, Reshape, MaxPooling1D, UpSampling1D, BatchNormalization)\n",
    "from keras.layers.core import Lambda\n",
    "from keras.optimizers import Adam\n",
    "from keras.regularizers import l1\n",
    "from keras.models import load_model\n",
    "from sklearn import preprocessing\n",
    "from keras.models import load_model\n",
    "from sklearn.model_selection import GridSearchCV\n",
    "from keras.wrappers.scikit_learn import KerasClassifier\n",
    "from sklearn import linear_model\n",
    "import pandas as pd\n",
    "import torch\n",
    "import torch.nn as nn\n",
    "import random\n",
    "#from keras import layers as layers\n",
    "import torch.nn.functional as F\n",
    "import torch.optim as optim\n",
    "from torch.autograd import Variable\n",
    "from scipy import special\n",
    "import torchvision.datasets as dsets\n",
    "import torchvision.transforms as transforms\n",
    "import tensorflow as tf\n",
    "import tensorflow.keras.backend as K\n",
    "from keras.callbacks import ModelCheckpoint"
   ]
  },
  {
   "cell_type": "code",
   "execution_count": 114,
   "metadata": {},
   "outputs": [],
   "source": [
    "def s_1(b1, b2, Vbot, C1, D1):\n",
    "    s1 = (b1+b2)/2 + ((b2-b1)/2)*special.erfc((Vbot-C1)/D1)\n",
    "    return s1\n",
    "    \n",
    "def s_2(b3, b4, Vbot, C2, D2):\n",
    "    s2 = (b3+b4)/2 + ((b4-b3)/2)*special.erfc((Vbot-C2)/D2)\n",
    "    return s2\n",
    "\n",
    "def s_3(b5, b6, Vbot, C3, D3):\n",
    "    s3 = (b5+b6)/2 + ((b6-b5)/2)*special.erfc((Vbot-C3)/D3)\n",
    "    return s3\n",
    "\n",
    "def s_4(b7, b8, Vtop, C4, D4):\n",
    "    s4 = (b7+b8)/2 + ((b8-b7)/2)*special.erfc((Vtop-C4)/D4)\n",
    "    return s4\n",
    "\n",
    "def s_5(b9, b10, Vtop, C5, D5):\n",
    "    s5 = (b9+b10)/2 + ((b10-b9)/2)*special.erfc((Vtop-C5)/D5)\n",
    "    return s5\n",
    "\n",
    "def s_6(b11, b12, Vtop, C6, D6):\n",
    "    s6 = (b11+b12)/2 + ((b12-b11)/2)*special.erfc((Vtop-C6)/D6)\n",
    "    return s6"
   ]
  },
  {
   "cell_type": "code",
   "execution_count": 115,
   "metadata": {},
   "outputs": [],
   "source": [
    "def F_1(a1, a2, a3, a4, a7,Al1, Al2, Al3, s1, s2, s3, Vbot):\n",
    "    F1 = a1+(a1-a2)*(special.erfc((Vbot+Al1)/s1)+1)/2 + (a2-a3)*(special.erfc((Vbot+Al2)/s2)+1)/2 + (a3-a4)*(special.erfc((Vbot+Al3)/s3)+1)/2 + a7*Vtop\n",
    "    return F1\n",
    "\n",
    "def F_2(a1, a5, a6, a4, a7, Au1, Au2, Au3, s4, s5, s6, Vtop):\n",
    "    F2 = a1+(a1-a5)*(special.erfc((Vtop+Au1)/s4)+1)/2 + (a5-a6)*(special.erfc((Vtop+Au2)/s5)+1)/2 + (a6-a4)*(special.erfc((Vtop+Au3)/s6)+1)/2 + a7*Vtop\n",
    "    return F2"
   ]
  },
  {
   "cell_type": "code",
   "execution_count": 116,
   "metadata": {},
   "outputs": [],
   "source": [
    "Vbot = np.linspace(-15,15,96)\n",
    "Vtop = np.linspace(-15,15,96)\n",
    "a1 = -5\n",
    "a2 = 3\n",
    "a3 = 12\n",
    "a4 = 15\n",
    "a5 = 2\n",
    "a6 = 10\n",
    "a7 = 0.01\n",
    "b1 = 1\n",
    "b2 = 1\n",
    "b3 = 1\n",
    "b4 = 1\n",
    "b5 = 1\n",
    "b6 = 1\n",
    "b7 = 1\n",
    "b8 = 1\n",
    "b9 = 1\n",
    "b10= 1\n",
    "b11= 1\n",
    "b12= 1\n",
    "Al1= 3\n",
    "Al2= -2\n",
    "Al3= -6\n",
    "Au1= -8\n",
    "Au2= -4\n",
    "Au3= 0\n",
    "C1 = -1\n",
    "C2 = -1\n",
    "C3 = -1\n",
    "C4 = 6\n",
    "C5 = 6\n",
    "C6 = 6\n",
    "D1 = 1\n",
    "D2 = 1\n",
    "D3 = 1\n",
    "D4 = 1\n",
    "D5 = 1\n",
    "D6 = 1"
   ]
  },
  {
   "cell_type": "code",
   "execution_count": 117,
   "metadata": {},
   "outputs": [],
   "source": [
    "s1 = s_1(b1, b2, Vbot, C1, D1)\n",
    "s2 = s_2(b3, b4, Vbot, C2, D2)\n",
    "s3 = s_3(b5, b6, Vbot, C3, D3)\n",
    "s4 = s_4(b7, b8, Vtop, C4, D4)\n",
    "s5 = s_5(b9, b10, Vtop, C5, D5)\n",
    "s6 = s_6(b11, b12, Vtop, C6, D6)"
   ]
  },
  {
   "cell_type": "code",
   "execution_count": 118,
   "metadata": {},
   "outputs": [],
   "source": [
    "F1 = F_1(a1, a2, a3, a4, a7, Al1, Al2, Al3, s1, s2, s3, Vbot)\n",
    "F2 = F_2(a1, a5, a6, a4, a7, Au1, Au2, Au3, s4, s5, s6, Vtop)\n"
   ]
  },
  {
   "cell_type": "code",
   "execution_count": 120,
   "metadata": {},
   "outputs": [],
   "source": [
    "F1 = np.asarray(F1)\n",
    "F2 = np.asarray(F2)\n",
    "F4 = F2[0:47]\n",
    "F3 = F2[48:95]\n",
    "F5 = np.flip(F1)\n",
    "F6 = np.concatenate((F3,F5,F4),axis=None)"
   ]
  },
  {
   "cell_type": "code",
   "execution_count": 127,
   "metadata": {},
   "outputs": [
    {
     "data": {
      "text/plain": [
       "(96,)"
      ]
     },
     "execution_count": 127,
     "metadata": {},
     "output_type": "execute_result"
    }
   ],
   "source": [
    "F1.shape"
   ]
  },
  {
   "cell_type": "code",
   "execution_count": 134,
   "metadata": {},
   "outputs": [],
   "source": []
  },
  {
   "cell_type": "code",
   "execution_count": 146,
   "metadata": {},
   "outputs": [],
   "source": []
  },
  {
   "cell_type": "code",
   "execution_count": 147,
   "metadata": {},
   "outputs": [
    {
     "data": {
      "text/plain": [
       "array([-32.05668197, -31.25257948, -30.65261992, -30.28386314,\n",
       "       -30.09589376, -30.01224302, -29.96516892, -29.89421019,\n",
       "       -29.72243988, -29.3408584 , -28.63391183, -27.55429041,\n",
       "       -26.19786068, -24.79645853, -23.60591028, -22.77399826,\n",
       "       -22.29524422, -22.06664271, -21.97035109, -21.91537853,\n",
       "       -21.82903446, -21.6282493 , -21.2088805 , -20.48055342,\n",
       "       -19.43842786, -18.21180617, -17.02453598, -16.07947788,\n",
       "       -15.46054722, -15.12654198, -14.97729786, -14.92113176,\n",
       "       -14.90216857, -14.89513849, -14.89120117, -14.88791439,\n",
       "       -14.88473899, -14.88157914, -14.87842107, -14.87526316,\n",
       "       -14.87210526, -14.86894737, -14.86578947, -14.86263158,\n",
       "       -14.85947368, -14.85631579, -14.85315789, -14.85      ,\n",
       "       -14.85315789, -14.85631579, -14.85947368, -14.86263158,\n",
       "       -14.86578947, -14.86894737, -14.87210526, -14.87526316,\n",
       "       -14.87842105, -14.88157895, -14.88473684, -14.88789474,\n",
       "       -14.89105263, -14.89421053, -14.89736842, -14.90052635,\n",
       "       -14.90368463, -14.90684622, -14.91003314, -14.91337843,\n",
       "       -14.91753036, -14.92502027, -14.94368998, -14.99248836,\n",
       "       -15.10599869, -15.32842753, -15.68965442, -16.17337776,\n",
       "       -16.70662251, -17.19034834, -17.55159774, -17.77419229,\n",
       "       -17.88870473, -17.94248165, -17.98147244, -18.05711576,\n",
       "       -18.24909283, -18.6778133 , -19.47270805, -20.68688418,\n",
       "       -22.21247251, -23.78865471, -25.1276221 , -26.06308924,\n",
       "       -26.6010231 , -26.8562791 , -26.95712524, -26.99157348,\n",
       "       -27.00404294, -27.0146198 , -27.04048935, -27.11640864,\n",
       "       -27.31352208, -27.74179214, -28.51071126, -29.64751572,\n",
       "       -31.03      , -32.41248428, -33.54928873, -34.31820782,\n",
       "       -34.74647735, -34.94358546, -35.01946   , -35.04502097,\n",
       "       -35.05385015, -35.05818761, -35.06154706, -35.06473325,\n",
       "       -35.0678944 , -35.07105261, -35.07421052, -35.07736842,\n",
       "       -35.08052632, -35.08368421, -35.08684211, -35.09      ,\n",
       "       -35.09315789, -35.09631579, -35.09947368, -35.10263158,\n",
       "       -35.10578947, -35.10894737, -35.11210526, -35.11526316,\n",
       "       -35.11842105, -35.12157895, -35.12473684, -35.12789474,\n",
       "       -35.13105263, -35.13421053, -35.13736842, -35.14052632,\n",
       "       -35.14368421, -35.14684211, -35.15      , -35.15      ,\n",
       "       -35.14684211, -35.14368421, -35.14052632, -35.13736842,\n",
       "       -35.13421053, -35.13105263, -35.12789474, -35.12473684,\n",
       "       -35.12157895, -35.11842105, -35.11526316, -35.11210526,\n",
       "       -35.10894737, -35.10578947, -35.10263158, -35.09947368,\n",
       "       -35.09631579, -35.09315789, -35.09      , -35.08684211,\n",
       "       -35.08368421, -35.08052632, -35.07736842, -35.07421053,\n",
       "       -35.07105263, -35.06789474, -35.06473684, -35.06157895,\n",
       "       -35.05842105, -35.05526316, -35.05210526, -35.04894737,\n",
       "       -35.04578947, -35.04263157, -35.03947362, -35.03631509,\n",
       "       -35.03315104, -35.02994477, -35.02647455, -35.02165993,\n",
       "       -35.011282  , -34.98227109, -34.90304571, -34.71596709,\n",
       "       -34.34735762, -33.74741807])"
      ]
     },
     "execution_count": 147,
     "metadata": {},
     "output_type": "execute_result"
    }
   ],
   "source": [
    "F6"
   ]
  },
  {
   "cell_type": "code",
   "execution_count": 148,
   "metadata": {},
   "outputs": [
    {
     "data": {
      "text/plain": [
       "[<matplotlib.lines.Line2D at 0x1a406344d0>]"
      ]
     },
     "execution_count": 148,
     "metadata": {},
     "output_type": "execute_result"
    },
    {
     "data": {
      "image/png": "[encoded data removed]",
      "text/plain": [
       "<Figure size 432x288 with 1 Axes>"
      ]
     },
     "metadata": {
      "needs_background": "light"
     },
     "output_type": "display_data"
    }
   ],
   "source": [
    "plt.plot(F6,'r.')"
   ]
  },
  {
   "cell_type": "code",
   "execution_count": 174,
   "metadata": {},
   "outputs": [
    {
     "data": {
      "text/plain": [
       "array([1, 2])"
      ]
     },
     "execution_count": 174,
     "metadata": {},
     "output_type": "execute_result"
    }
   ],
   "source": [
    "a = [1,2,3,4,6]\n",
    "a = np.asarray(a)\n",
    "b=a[0:2]\n",
    "b"
   ]
  },
  {
   "cell_type": "code",
   "execution_count": 121,
   "metadata": {},
   "outputs": [
    {
     "data": {
      "text/plain": [
       "[<matplotlib.lines.Line2D at 0x1a3f1a5050>]"
      ]
     },
     "execution_count": 121,
     "metadata": {},
     "output_type": "execute_result"
    },
    {
     "data": {
      "image/png": "[encoded data removed]",
      "text/plain": [
       "<Figure size 432x288 with 1 Axes>"
      ]
     },
     "metadata": {
      "needs_background": "light"
     },
     "output_type": "display_data"
    }
   ],
   "source": [
    "plt.plot(Vbot,F1,'b')\n",
    "plt.plot(Vtop,F2,'r')"
   ]
  },
  {
   "cell_type": "code",
   "execution_count": null,
   "metadata": {},
   "outputs": [],
   "source": []
  },
  {
   "cell_type": "code",
   "execution_count": null,
   "metadata": {},
   "outputs": [],
   "source": []
  },
  {
   "cell_type": "code",
   "execution_count": null,
   "metadata": {},
   "outputs": [],
   "source": []
  },
  {
   "cell_type": "code",
   "execution_count": null,
   "metadata": {},
   "outputs": [],
   "source": []
  },
  {
   "cell_type": "code",
   "execution_count": 83,
   "metadata": {},
   "outputs": [
    {
     "data": {
      "text/plain": [
       "[<matplotlib.lines.Line2D at 0x1a3ec11b10>]"
      ]
     },
     "execution_count": 83,
     "metadata": {},
     "output_type": "execute_result"
    },
    {
     "data": {
      "image/png": "[encoded data removed]",
      "text/plain": [
       "<Figure size 432x288 with 1 Axes>"
      ]
     },
     "metadata": {
      "needs_background": "light"
     },
     "output_type": "display_data"
    }
   ],
   "source": [
    "plt.plot(Vtop,special.erfc((Vbot-C1)/D1),'b.')"
   ]
  },
  {
   "cell_type": "code",
   "execution_count": 32,
   "metadata": {},
   "outputs": [],
   "source": [
    "date = {'dfsa':100,'dfsad':200}"
   ]
  },
  {
   "cell_type": "code",
   "execution_count": 47,
   "metadata": {},
   "outputs": [
    {
     "name": "stdout",
     "output_type": "stream",
     "text": [
      "dfsa 100\n",
      "dfsad 200\n"
     ]
    }
   ],
   "source": [
    "for key,value in date.items():\n",
    "    print (key,value)"
   ]
  },
  {
   "cell_type": "code",
   "execution_count": 158,
   "metadata": {},
   "outputs": [],
   "source": [
    "Vbot = np.linspace(-15,15,96)\n",
    "Vtop = np.linspace(-15,15,96)\n",
    "F6 = []\n",
    "\n",
    "for k in range(1000):\n",
    "    a1 = np.random.uniform(-6,-4,1)\n",
    "    a2 = np.random.uniform(2,4,1)\n",
    "    a3 = np.random.uniform(11,13,1)\n",
    "    a4 = np.random.uniform(14,16,1)\n",
    "    a5 = np.random.uniform(1,3,1)\n",
    "    a6 = np.random.uniform(9,11,1)\n",
    "    a7 = np.random.uniform(0,1,1)\n",
    "    b1 = np.random.uniform(1,1,1)\n",
    "    b2 = np.random.uniform(1,1,1)\n",
    "    b3 = np.random.uniform(1,1,1)\n",
    "    b4 = np.random.uniform(1,1,1)\n",
    "    b5 = np.random.uniform(1,1,1)\n",
    "    b6 = np.random.uniform(1,1,1)\n",
    "    b7 = np.random.uniform(1,1,1)\n",
    "    b8 = np.random.uniform(1,1,1)\n",
    "    b9 = np.random.uniform(1,1,1)\n",
    "    b10= np.random.uniform(1,1,1)\n",
    "    b11= np.random.uniform(1,1,1)\n",
    "    b12= np.random.uniform(1,1,1)\n",
    "    Al1= np.random.uniform(2,4,1)\n",
    "    Al2= np.random.uniform(-3,-1,1)\n",
    "    Al3= np.random.uniform(-7,-5,1)\n",
    "    Au1= np.random.uniform(-9,-7,1)\n",
    "    Au2= np.random.uniform(-5,-3,1)\n",
    "    Au3= np.random.uniform(-1,1,1)\n",
    "    C1 = np.random.uniform(-2,0,1)\n",
    "    C2 = np.random.uniform(-2,0,1)\n",
    "    C3 = np.random.uniform(-2,0,1)\n",
    "    C4 = np.random.uniform(5,7,1)\n",
    "    C5 = np.random.uniform(5,7,1)\n",
    "    C6 = np.random.uniform(5,7,1)\n",
    "    D1 = np.random.uniform(0,2,1)\n",
    "    D2 = np.random.uniform(0,2,1)\n",
    "    D3 = np.random.uniform(0,2,1)\n",
    "    D4 = np.random.uniform(0,2,1)\n",
    "    D5 = np.random.uniform(0,2,1)\n",
    "    D6 = np.random.uniform(0,2,1)\n",
    "    \n",
    "    s1 = s_1(b1, b2, Vbot, C1, D1)\n",
    "    s2 = s_2(b3, b4, Vbot, C2, D2)\n",
    "    s3 = s_3(b5, b6, Vbot, C3, D3)\n",
    "    s4 = s_4(b7, b8, Vtop, C4, D4)\n",
    "    s5 = s_5(b9, b10, Vtop, C5, D5)\n",
    "    s6 = s_6(b11, b12, Vtop, C6, D6)\n",
    "    \n",
    "    F1 = F_1(a1, a2, a3, a4, a7, Al1, Al2, Al3, s1, s2, s3, Vbot)\n",
    "    F2 = F_2(a1, a5, a6, a4, a7, Au1, Au2, Au3, s4, s5, s6, Vtop)\n",
    "    \n",
    "    \n",
    "    F1 = np.asarray(F1)\n",
    "    F2 = np.asarray(F2)\n",
    "    F4 = F2[0:48]\n",
    "    F3 = F2[48:9]\n",
    "    F5 = np.flip(F1)\n",
    "    F6_ = np.concatenate((F3,F5,F4),axis=None)\n",
    "    F6.append(F6_)\n",
    "    \n",
    "    \n",
    "    \n",
    "    \n",
    "    \n"
   ]
  },
  {
   "cell_type": "code",
   "execution_count": 159,
   "metadata": {},
   "outputs": [
    {
     "data": {
      "text/plain": [
       "(1000, 190)"
      ]
     },
     "execution_count": 159,
     "metadata": {},
     "output_type": "execute_result"
    }
   ],
   "source": [
    "F6 = np.asarray(F6)\n",
    "F6.shape"
   ]
  },
  {
   "cell_type": "code",
   "execution_count": 154,
   "metadata": {},
   "outputs": [
    {
     "ename": "ValueError",
     "evalue": "low >= high",
     "output_type": "error",
     "traceback": [
      "\u001b[0;31m---------------------------------------------------------------------------\u001b[0m",
      "\u001b[0;31mValueError\u001b[0m                                Traceback (most recent call last)",
      "\u001b[0;32m<ipython-input-154-80f97e2116d8>\u001b[0m in \u001b[0;36m<module>\u001b[0;34m\u001b[0m\n\u001b[1;32m      3\u001b[0m \u001b[0;32mfor\u001b[0m \u001b[0mi\u001b[0m \u001b[0;32min\u001b[0m \u001b[0mrange\u001b[0m \u001b[0;34m(\u001b[0m\u001b[0;36m0\u001b[0m\u001b[0;34m,\u001b[0m\u001b[0;36m4\u001b[0m\u001b[0;34m)\u001b[0m\u001b[0;34m:\u001b[0m\u001b[0;34m\u001b[0m\u001b[0;34m\u001b[0m\u001b[0m\n\u001b[1;32m      4\u001b[0m     \u001b[0;32mfor\u001b[0m \u001b[0mj\u001b[0m \u001b[0;32min\u001b[0m \u001b[0mrange\u001b[0m\u001b[0;34m(\u001b[0m\u001b[0;36m0\u001b[0m\u001b[0;34m,\u001b[0m\u001b[0;36m4\u001b[0m\u001b[0;34m)\u001b[0m\u001b[0;34m:\u001b[0m\u001b[0;34m\u001b[0m\u001b[0;34m\u001b[0m\u001b[0m\n\u001b[0;32m----> 5\u001b[0;31m         \u001b[0mk\u001b[0m \u001b[0;34m=\u001b[0m \u001b[0mnp\u001b[0m\u001b[0;34m.\u001b[0m\u001b[0mrandom\u001b[0m\u001b[0;34m.\u001b[0m\u001b[0mrandint\u001b[0m\u001b[0;34m(\u001b[0m\u001b[0;36m0\u001b[0m\u001b[0;34m,\u001b[0m \u001b[0mF6\u001b[0m\u001b[0;34m.\u001b[0m\u001b[0mshape\u001b[0m\u001b[0;34m[\u001b[0m\u001b[0;36m0\u001b[0m\u001b[0;34m]\u001b[0m\u001b[0;34m)\u001b[0m\u001b[0;34m\u001b[0m\u001b[0;34m\u001b[0m\u001b[0m\n\u001b[0m\u001b[1;32m      6\u001b[0m         \u001b[0max\u001b[0m \u001b[0;34m=\u001b[0m \u001b[0maxs\u001b[0m\u001b[0;34m[\u001b[0m\u001b[0mi\u001b[0m\u001b[0;34m,\u001b[0m\u001b[0mj\u001b[0m\u001b[0;34m]\u001b[0m\u001b[0;34m\u001b[0m\u001b[0;34m\u001b[0m\u001b[0m\n\u001b[1;32m      7\u001b[0m         \u001b[0max\u001b[0m\u001b[0;34m.\u001b[0m\u001b[0mplot\u001b[0m\u001b[0;34m(\u001b[0m\u001b[0mF6\u001b[0m\u001b[0;34m[\u001b[0m\u001b[0mk\u001b[0m\u001b[0;34m]\u001b[0m\u001b[0;34m,\u001b[0m\u001b[0;34m'r-'\u001b[0m\u001b[0;34m)\u001b[0m\u001b[0;34m\u001b[0m\u001b[0;34m\u001b[0m\u001b[0m\n",
      "\u001b[0;32mmtrand.pyx\u001b[0m in \u001b[0;36mnumpy.random.mtrand.RandomState.randint\u001b[0;34m()\u001b[0m\n",
      "\u001b[0;32mbounded_integers.pyx\u001b[0m in \u001b[0;36mnumpy.random.bounded_integers._rand_int64\u001b[0;34m()\u001b[0m\n",
      "\u001b[0;31mValueError\u001b[0m: low >= high"
     ]
    },
    {
     "data": {
      "image/png": "[encoded data removed]",
      "text/plain": [
       "<Figure size 576x576 with 16 Axes>"
      ]
     },
     "metadata": {
      "needs_background": "light"
     },
     "output_type": "display_data"
    }
   ],
   "source": [
    "fig, axs = plt.subplots(4, 4, figsize=(8, 8))\n",
    "axs.reshape(-1)\n",
    "for i in range (0,4):\n",
    "    for j in range(0,4):\n",
    "        k = np.random.randint(0, F6.shape[0])\n",
    "        ax = axs[i,j]\n",
    "        ax.plot(F6[k],'r-')\n",
    "       \n",
    "        "
   ]
  },
  {
   "cell_type": "code",
   "execution_count": 91,
   "metadata": {},
   "outputs": [],
   "source": []
  },
  {
   "cell_type": "code",
   "execution_count": 93,
   "metadata": {},
   "outputs": [
    {
     "data": {
      "text/plain": [
       "(1000, 300)"
      ]
     },
     "execution_count": 93,
     "metadata": {},
     "output_type": "execute_result"
    }
   ],
   "source": [
    "F1.shape"
   ]
  },
  {
   "cell_type": "code",
   "execution_count": null,
   "metadata": {},
   "outputs": [],
   "source": []
  },
  {
   "cell_type": "code",
   "execution_count": null,
   "metadata": {},
   "outputs": [],
   "source": []
  },
  {
   "cell_type": "code",
   "execution_count": null,
   "metadata": {},
   "outputs": [],
   "source": []
  },
  {
   "cell_type": "code",
   "execution_count": null,
   "metadata": {},
   "outputs": [],
   "source": []
  },
  {
   "cell_type": "code",
   "execution_count": null,
   "metadata": {},
   "outputs": [],
   "source": [
    "def encode_identity_block(X, stage, block, size, n_step, drop_frac, l2_norm):\n",
    "    conv_name_base = 'res' + str(stage) + block + '_branch'\n",
    "    bn_name_base = 'enconde' + str(stage) + block + '_branch'\n",
    "    \n",
    "    X_shortcut = X\n",
    "    X = layers.Bidirectional(LSTM(size, return_sequences=True, dropout=drop_frac,\n",
    "                             activity_regularizer=l2(l2_norm)),input_shape=(n_step, 1))(X)\n",
    "    \n",
    "   # X = layers.BatchNormalization(axis = 1, name = bn_name_base + '2a')(X)\n",
    "    X = layers.Activation('relu')(X)\n",
    "    \n",
    "    X = layers.Bidirectional(LSTM(size, return_sequences=True, dropout=drop_frac,\n",
    "                             activity_regularizer=l2(l2_norm)),input_shape=(n_step, 1))(X)\n",
    "    \n",
    "   # X = layers.BatchNormalization(axis = 1, name = bn_name_base + '2b')(X)\n",
    "    X = layers.Activation('relu')(X)\n",
    "    \n",
    "    X = layers.Bidirectional(LSTM(size, return_sequences=True, dropout=drop_frac,\n",
    "                             activity_regularizer=l2(l2_norm)),input_shape=(n_step, 1))(X)\n",
    "    \n",
    "   # X = layers.BatchNormalization(axis = 1, name = bn_name_base + '2c')(X)\n",
    "    \n",
    "    X = layers.add([X, X_shortcut])\n",
    "    X = layers.Activation('relu')(X)\n",
    "    \n",
    "    return X"
   ]
  },
  {
   "cell_type": "code",
   "execution_count": null,
   "metadata": {},
   "outputs": [],
   "source": [
    "def decode_identity_block(X, stage, block, size, n_step, drop_frac, l2_norm):\n",
    "    conv_name_base = 'res' + str(stage) + block + '_branch'\n",
    "    bn_name_base = 'decode' + str(stage) + block + '_branch'\n",
    "    \n",
    "    X_shortcut = X\n",
    "    X = layers.Bidirectional(LSTM(size, return_sequences=True, dropout=drop_frac, \n",
    "                             activity_regularizer=l2(l2_norm)))(X)\n",
    "    #X = layers.BatchNormalization(axis = 1, name = bn_name_base + '2a')(X)\n",
    "    X = layers.Activation('relu')(X)\n",
    "    \n",
    "    X = layers.Bidirectional(LSTM(size, return_sequences=True, dropout=drop_frac, \n",
    "                             activity_regularizer=l2(l2_norm)))(X)\n",
    "    \n",
    "    #X = layers.BatchNormalization(axis = 1, name = bn_name_base + '2b')(X)\n",
    "    X = layers.Activation('relu')(X)\n",
    "    \n",
    "    X = layers.Bidirectional(LSTM(size, return_sequences=True, dropout=drop_frac, \n",
    "                             activity_regularizer=l2(l2_norm)))(X)\n",
    "    #X = layers.BatchNormalization(axis = 1, name = bn_name_base + '2c')(X)\n",
    "    \n",
    "    X = layers.add([X, X_shortcut])\n",
    "    X = layers.Activation('relu')(X)\n",
    "    \n",
    "    return X"
   ]
  },
  {
   "cell_type": "code",
   "execution_count": null,
   "metadata": {},
   "outputs": [],
   "source": [
    "def ResNet50(lr=3e-5, size=256, drop_frac=0, n_step=50, embedding = 64, l2_norm = 1e-4):\n",
    "\n",
    "    X_input = layers.Input(shape=(50,1))\n",
    "    X = X_input\n",
    "\n",
    "    X = encode_identity_block(X, 2, 'b', size, n_step, drop_frac, l2_norm)\n",
    "    X = encode_identity_block(X, 2, 'c', size, n_step, drop_frac, l2_norm)\n",
    "    X = encode_identity_block(X, 2, 'd', size, n_step, drop_frac, l2_norm)\n",
    "\n",
    "    X = layers.Bidirectional(LSTM(size, return_sequences=False, dropout=drop_frac,\n",
    "                             activity_regularizer=l2(l2_norm)),input_shape=(n_step, 1))(X)\n",
    "    #X = layers.BatchNormalization(axis=1, name='last_encode')(X)\n",
    "    X = layers.Activation('relu')(X)\n",
    "    X = layers.Dense(embedding,activation='relu',name='embedding_layer',activity_regularizer=l2(l2_norm))(X)\n",
    "    X = layers.RepeatVector(n_step)(X)\n",
    "    \n",
    "    X = layers.Bidirectional(LSTM(size, return_sequences=True, dropout=drop_frac, \n",
    "                             activity_regularizer=l2(l2_norm)))(X)\n",
    "    \n",
    "    #X = layers.BatchNormalization(axis = 1, name = 'fires_decode')(X)\n",
    "    X = layers.Activation('relu')(X)\n",
    "\n",
    "    X = decode_identity_block(X, 2, 'b', size, n_step, drop_frac, l2_norm)\n",
    "    X = decode_identity_block(X, 2, 'c', size, n_step, drop_frac, l2_norm)\n",
    "    X = decode_identity_block(X, 2, 'd', size, n_step, drop_frac, l2_norm)\n",
    "    \n",
    "    X = layers.BatchNormalization(axis = 1, name = 'batch_normal')(X)\n",
    "    X = layers.TimeDistributed(Dense(1, activation='linear'))(X)\n",
    "    model = Model(inputs=X_input, outputs=X, name='ResNet50')\n",
    "    model.compile(Adam(lr), loss='mse')\n",
    "\n",
    "    return model"
   ]
  },
  {
   "cell_type": "code",
   "execution_count": null,
   "metadata": {},
   "outputs": [],
   "source": []
  },
  {
   "cell_type": "code",
   "execution_count": null,
   "metadata": {},
   "outputs": [],
   "source": []
  },
  {
   "cell_type": "code",
   "execution_count": null,
   "metadata": {},
   "outputs": [],
   "source": []
  },
  {
   "cell_type": "code",
   "execution_count": null,
   "metadata": {},
   "outputs": [],
   "source": []
  },
  {
   "cell_type": "code",
   "execution_count": null,
   "metadata": {},
   "outputs": [],
   "source": []
  },
  {
   "cell_type": "code",
   "execution_count": null,
   "metadata": {},
   "outputs": [],
   "source": []
  },
  {
   "cell_type": "code",
   "execution_count": null,
   "metadata": {},
   "outputs": [],
   "source": []
  },
  {
   "cell_type": "code",
   "execution_count": null,
   "metadata": {},
   "outputs": [],
   "source": []
  },
  {
   "cell_type": "code",
   "execution_count": null,
   "metadata": {},
   "outputs": [],
   "source": []
  },
  {
   "cell_type": "code",
   "execution_count": null,
   "metadata": {},
   "outputs": [],
   "source": []
  },
  {
   "cell_type": "code",
   "execution_count": null,
   "metadata": {},
   "outputs": [],
   "source": []
  }
 ],
 "metadata": {
  "kernelspec": {
   "display_name": "Python 3",
   "language": "python",
   "name": "python3"
  },
  "language_info": {
   "codemirror_mode": {
    "name": "ipython",
    "version": 3
   },
   "file_extension": ".py",
   "mimetype": "text/x-python",
   "name": "python",
   "nbconvert_exporter": "python",
   "pygments_lexer": "ipython3",
   "version": "3.7.4"
  }
 },
 "nbformat": 4,
 "nbformat_minor": 2
}
