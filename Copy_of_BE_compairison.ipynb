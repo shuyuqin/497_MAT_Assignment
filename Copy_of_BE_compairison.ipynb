{
  "nbformat": 4,
  "nbformat_minor": 0,
  "metadata": {
    "kernelspec": {
      "display_name": "Python 3",
      "language": "python",
      "name": "python3"
    },
    "language_info": {
      "codemirror_mode": {
        "name": "ipython",
        "version": 3
      },
      "file_extension": ".py",
      "mimetype": "text/x-python",
      "name": "python",
      "nbconvert_exporter": "python",
      "pygments_lexer": "ipython3",
      "version": "3.8.5"
    },
    "colab": {
      "name": "Copy of BE_compairison.ipynb",
      "provenance": [],
      "collapsed_sections": []
    }
  },
  "cells": [
    {
      "cell_type": "markdown",
      "metadata": {
        "id": "DVe8gRi5T22m"
      },
      "source": [
        "# Configures the Notebook"
      ]
    },
    {
      "cell_type": "code",
      "metadata": {
        "colab": {
          "base_uri": "https://localhost:8080/"
        },
        "id": "ERnSenOWT22o",
        "outputId": "c4d7d396-300a-4b3d-a93a-86486a4b81d5"
      },
      "source": [
        "# Make sure needed packages are installed and up-to-date\n",
        "import sys\n",
        "!conda install --yes --prefix {sys.prefix} numpy scipy matplotlib scikit-learn Ipython ipywidgets h5py \n",
        "!{sys.executable} -m pip install -U BGlib  # this will automatically install sidpy and pyUSID as well"
      ],
      "execution_count": null,
      "outputs": [
        {
          "output_type": "stream",
          "text": [
            "/bin/bash: conda: command not found\n",
            "Collecting BGlib\n",
            "\u001b[?25l  Downloading https://files.pythonhosted.org/packages/b4/2f/d2094258a6be80cd106411a73986c264367ce55d308273a1357e6c652c63/BGlib-0.0.2-py2.py3-none-any.whl (189kB)\n",
            "\u001b[K     |████████████████████████████████| 194kB 5.3MB/s \n",
            "\u001b[?25hRequirement already satisfied, skipping upgrade: scipy>=0.17.1 in /usr/local/lib/python3.7/dist-packages (from BGlib) (1.4.1)\n",
            "Collecting pyUSID>=0.0.8\n",
            "\u001b[?25l  Downloading https://files.pythonhosted.org/packages/03/11/828e19e5218b4c384c19e2e3bac7c18842f42374d89403c9de527f200600/pyUSID-0.0.10-py2.py3-none-any.whl (66kB)\n",
            "\u001b[K     |████████████████████████████████| 71kB 5.3MB/s \n",
            "\u001b[?25hCollecting ipython>=6.0; python_version >= \"3.3\"\n",
            "\u001b[?25l  Downloading https://files.pythonhosted.org/packages/c9/b1/82cbe2b856386f44f37fdae54d9b425813bd86fe33385c9d658d64826098/ipython-7.22.0-py3-none-any.whl (785kB)\n",
            "\u001b[K     |████████████████████████████████| 788kB 13.5MB/s \n",
            "\u001b[?25hRequirement already satisfied, skipping upgrade: matplotlib>=2.0.0 in /usr/local/lib/python3.7/dist-packages (from BGlib) (3.2.2)\n",
            "Requirement already satisfied, skipping upgrade: h5py>=2.6.0 in /usr/local/lib/python3.7/dist-packages (from BGlib) (2.10.0)\n",
            "Requirement already satisfied, skipping upgrade: ipywidgets>=5.2.2 in /usr/local/lib/python3.7/dist-packages (from BGlib) (7.6.3)\n",
            "Requirement already satisfied, skipping upgrade: scikit-learn>=0.17.1 in /usr/local/lib/python3.7/dist-packages (from BGlib) (0.22.2.post1)\n",
            "Requirement already satisfied, skipping upgrade: joblib>=0.11.0 in /usr/local/lib/python3.7/dist-packages (from BGlib) (1.0.1)\n",
            "Collecting sidpy>=0.0.2\n",
            "\u001b[?25l  Downloading https://files.pythonhosted.org/packages/3d/18/78b8a5d347d654a082769d4e90bc2f1f04edc9aa0e61bd07adb4e0fd81a2/sidpy-0.0.4-py2.py3-none-any.whl (76kB)\n",
            "\u001b[K     |████████████████████████████████| 81kB 5.6MB/s \n",
            "\u001b[?25hRequirement already satisfied, skipping upgrade: six in /usr/local/lib/python3.7/dist-packages (from BGlib) (1.15.0)\n",
            "Requirement already satisfied, skipping upgrade: xlrd>=1.0.0 in /usr/local/lib/python3.7/dist-packages (from BGlib) (1.1.0)\n",
            "Collecting numpy-groupies==0.9.7\n",
            "  Downloading https://files.pythonhosted.org/packages/4c/18/e5c4c6d12ef8740106d29ea78bad2c1d218e61caa735513d3491a3a1d837/numpy_groupies-0.9.7.tar.gz\n",
            "Requirement already satisfied, skipping upgrade: psutil in /usr/local/lib/python3.7/dist-packages (from BGlib) (5.4.8)\n",
            "Requirement already satisfied, skipping upgrade: pillow in /usr/local/lib/python3.7/dist-packages (from BGlib) (7.1.2)\n",
            "Requirement already satisfied, skipping upgrade: scikit-image>=0.12.3 in /usr/local/lib/python3.7/dist-packages (from BGlib) (0.16.2)\n",
            "Requirement already satisfied, skipping upgrade: numpy>=1.13.0 in /usr/local/lib/python3.7/dist-packages (from BGlib) (1.19.5)\n",
            "Collecting cytoolz\n",
            "\u001b[?25l  Downloading https://files.pythonhosted.org/packages/58/67/1c60da8ba831bfefedb64c78b9f6820bdf58972797c95644ee3191daf27a/cytoolz-0.11.0.tar.gz (477kB)\n",
            "\u001b[K     |████████████████████████████████| 481kB 21.4MB/s \n",
            "\u001b[?25hRequirement already satisfied, skipping upgrade: toolz in /usr/local/lib/python3.7/dist-packages (from pyUSID>=0.0.8->BGlib) (0.11.1)\n",
            "Requirement already satisfied, skipping upgrade: dask>=0.10 in /usr/local/lib/python3.7/dist-packages (from pyUSID>=0.0.8->BGlib) (2.12.0)\n",
            "Requirement already satisfied, skipping upgrade: pickleshare in /usr/local/lib/python3.7/dist-packages (from ipython>=6.0; python_version >= \"3.3\"->BGlib) (0.7.5)\n",
            "Requirement already satisfied, skipping upgrade: traitlets>=4.2 in /usr/local/lib/python3.7/dist-packages (from ipython>=6.0; python_version >= \"3.3\"->BGlib) (5.0.5)\n",
            "Requirement already satisfied, skipping upgrade: jedi>=0.16 in /usr/local/lib/python3.7/dist-packages (from ipython>=6.0; python_version >= \"3.3\"->BGlib) (0.18.0)\n",
            "Requirement already satisfied, skipping upgrade: pygments in /usr/local/lib/python3.7/dist-packages (from ipython>=6.0; python_version >= \"3.3\"->BGlib) (2.6.1)\n",
            "Requirement already satisfied, skipping upgrade: decorator in /usr/local/lib/python3.7/dist-packages (from ipython>=6.0; python_version >= \"3.3\"->BGlib) (4.4.2)\n",
            "Requirement already satisfied, skipping upgrade: backcall in /usr/local/lib/python3.7/dist-packages (from ipython>=6.0; python_version >= \"3.3\"->BGlib) (0.2.0)\n",
            "Collecting prompt-toolkit!=3.0.0,!=3.0.1,<3.1.0,>=2.0.0\n",
            "\u001b[?25l  Downloading https://files.pythonhosted.org/packages/eb/e6/4b4ca4fa94462d4560ba2f4e62e62108ab07be2e16a92e594e43b12d3300/prompt_toolkit-3.0.18-py3-none-any.whl (367kB)\n",
            "\u001b[K     |████████████████████████████████| 368kB 21.2MB/s \n",
            "\u001b[?25hRequirement already satisfied, skipping upgrade: pexpect>4.3; sys_platform != \"win32\" in /usr/local/lib/python3.7/dist-packages (from ipython>=6.0; python_version >= \"3.3\"->BGlib) (4.8.0)\n",
            "Requirement already satisfied, skipping upgrade: setuptools>=18.5 in /usr/local/lib/python3.7/dist-packages (from ipython>=6.0; python_version >= \"3.3\"->BGlib) (54.2.0)\n",
            "Requirement already satisfied, skipping upgrade: pyparsing!=2.0.4,!=2.1.2,!=2.1.6,>=2.0.1 in /usr/local/lib/python3.7/dist-packages (from matplotlib>=2.0.0->BGlib) (2.4.7)\n",
            "Requirement already satisfied, skipping upgrade: kiwisolver>=1.0.1 in /usr/local/lib/python3.7/dist-packages (from matplotlib>=2.0.0->BGlib) (1.3.1)\n",
            "Requirement already satisfied, skipping upgrade: python-dateutil>=2.1 in /usr/local/lib/python3.7/dist-packages (from matplotlib>=2.0.0->BGlib) (2.8.1)\n",
            "Requirement already satisfied, skipping upgrade: cycler>=0.10 in /usr/local/lib/python3.7/dist-packages (from matplotlib>=2.0.0->BGlib) (0.10.0)\n",
            "Requirement already satisfied, skipping upgrade: widgetsnbextension~=3.5.0 in /usr/local/lib/python3.7/dist-packages (from ipywidgets>=5.2.2->BGlib) (3.5.1)\n",
            "Requirement already satisfied, skipping upgrade: ipykernel>=4.5.1 in /usr/local/lib/python3.7/dist-packages (from ipywidgets>=5.2.2->BGlib) (4.10.1)\n",
            "Requirement already satisfied, skipping upgrade: jupyterlab-widgets>=1.0.0; python_version >= \"3.6\" in /usr/local/lib/python3.7/dist-packages (from ipywidgets>=5.2.2->BGlib) (1.0.0)\n",
            "Requirement already satisfied, skipping upgrade: nbformat>=4.2.0 in /usr/local/lib/python3.7/dist-packages (from ipywidgets>=5.2.2->BGlib) (5.1.2)\n",
            "Requirement already satisfied, skipping upgrade: imageio>=2.3.0 in /usr/local/lib/python3.7/dist-packages (from scikit-image>=0.12.3->BGlib) (2.4.1)\n",
            "Requirement already satisfied, skipping upgrade: PyWavelets>=0.4.0 in /usr/local/lib/python3.7/dist-packages (from scikit-image>=0.12.3->BGlib) (1.1.1)\n",
            "Requirement already satisfied, skipping upgrade: networkx>=2.0 in /usr/local/lib/python3.7/dist-packages (from scikit-image>=0.12.3->BGlib) (2.5)\n",
            "Requirement already satisfied, skipping upgrade: ipython-genutils in /usr/local/lib/python3.7/dist-packages (from traitlets>=4.2->ipython>=6.0; python_version >= \"3.3\"->BGlib) (0.2.0)\n",
            "Requirement already satisfied, skipping upgrade: parso<0.9.0,>=0.8.0 in /usr/local/lib/python3.7/dist-packages (from jedi>=0.16->ipython>=6.0; python_version >= \"3.3\"->BGlib) (0.8.1)\n",
            "Requirement already satisfied, skipping upgrade: wcwidth in /usr/local/lib/python3.7/dist-packages (from prompt-toolkit!=3.0.0,!=3.0.1,<3.1.0,>=2.0.0->ipython>=6.0; python_version >= \"3.3\"->BGlib) (0.2.5)\n",
            "Requirement already satisfied, skipping upgrade: ptyprocess>=0.5 in /usr/local/lib/python3.7/dist-packages (from pexpect>4.3; sys_platform != \"win32\"->ipython>=6.0; python_version >= \"3.3\"->BGlib) (0.7.0)\n",
            "Requirement already satisfied, skipping upgrade: notebook>=4.4.1 in /usr/local/lib/python3.7/dist-packages (from widgetsnbextension~=3.5.0->ipywidgets>=5.2.2->BGlib) (5.3.1)\n",
            "Requirement already satisfied, skipping upgrade: jupyter-client in /usr/local/lib/python3.7/dist-packages (from ipykernel>=4.5.1->ipywidgets>=5.2.2->BGlib) (5.3.5)\n",
            "Requirement already satisfied, skipping upgrade: tornado>=4.0 in /usr/local/lib/python3.7/dist-packages (from ipykernel>=4.5.1->ipywidgets>=5.2.2->BGlib) (5.1.1)\n",
            "Requirement already satisfied, skipping upgrade: jsonschema!=2.5.0,>=2.4 in /usr/local/lib/python3.7/dist-packages (from nbformat>=4.2.0->ipywidgets>=5.2.2->BGlib) (2.6.0)\n",
            "Requirement already satisfied, skipping upgrade: jupyter-core in /usr/local/lib/python3.7/dist-packages (from nbformat>=4.2.0->ipywidgets>=5.2.2->BGlib) (4.7.1)\n",
            "Requirement already satisfied, skipping upgrade: Send2Trash in /usr/local/lib/python3.7/dist-packages (from notebook>=4.4.1->widgetsnbextension~=3.5.0->ipywidgets>=5.2.2->BGlib) (1.5.0)\n",
            "Requirement already satisfied, skipping upgrade: terminado>=0.8.1 in /usr/local/lib/python3.7/dist-packages (from notebook>=4.4.1->widgetsnbextension~=3.5.0->ipywidgets>=5.2.2->BGlib) (0.9.3)\n",
            "Requirement already satisfied, skipping upgrade: nbconvert in /usr/local/lib/python3.7/dist-packages (from notebook>=4.4.1->widgetsnbextension~=3.5.0->ipywidgets>=5.2.2->BGlib) (5.6.1)\n",
            "Requirement already satisfied, skipping upgrade: jinja2 in /usr/local/lib/python3.7/dist-packages (from notebook>=4.4.1->widgetsnbextension~=3.5.0->ipywidgets>=5.2.2->BGlib) (2.11.3)\n",
            "Requirement already satisfied, skipping upgrade: pyzmq>=13 in /usr/local/lib/python3.7/dist-packages (from jupyter-client->ipykernel>=4.5.1->ipywidgets>=5.2.2->BGlib) (22.0.3)\n",
            "Requirement already satisfied, skipping upgrade: entrypoints>=0.2.2 in /usr/local/lib/python3.7/dist-packages (from nbconvert->notebook>=4.4.1->widgetsnbextension~=3.5.0->ipywidgets>=5.2.2->BGlib) (0.3)\n",
            "Requirement already satisfied, skipping upgrade: bleach in /usr/local/lib/python3.7/dist-packages (from nbconvert->notebook>=4.4.1->widgetsnbextension~=3.5.0->ipywidgets>=5.2.2->BGlib) (3.3.0)\n",
            "Requirement already satisfied, skipping upgrade: testpath in /usr/local/lib/python3.7/dist-packages (from nbconvert->notebook>=4.4.1->widgetsnbextension~=3.5.0->ipywidgets>=5.2.2->BGlib) (0.4.4)\n",
            "Requirement already satisfied, skipping upgrade: defusedxml in /usr/local/lib/python3.7/dist-packages (from nbconvert->notebook>=4.4.1->widgetsnbextension~=3.5.0->ipywidgets>=5.2.2->BGlib) (0.7.1)\n",
            "Requirement already satisfied, skipping upgrade: mistune<2,>=0.8.1 in /usr/local/lib/python3.7/dist-packages (from nbconvert->notebook>=4.4.1->widgetsnbextension~=3.5.0->ipywidgets>=5.2.2->BGlib) (0.8.4)\n",
            "Requirement already satisfied, skipping upgrade: pandocfilters>=1.4.1 in /usr/local/lib/python3.7/dist-packages (from nbconvert->notebook>=4.4.1->widgetsnbextension~=3.5.0->ipywidgets>=5.2.2->BGlib) (1.4.3)\n",
            "Requirement already satisfied, skipping upgrade: MarkupSafe>=0.23 in /usr/local/lib/python3.7/dist-packages (from jinja2->notebook>=4.4.1->widgetsnbextension~=3.5.0->ipywidgets>=5.2.2->BGlib) (1.1.1)\n",
            "Requirement already satisfied, skipping upgrade: packaging in /usr/local/lib/python3.7/dist-packages (from bleach->nbconvert->notebook>=4.4.1->widgetsnbextension~=3.5.0->ipywidgets>=5.2.2->BGlib) (20.9)\n",
            "Requirement already satisfied, skipping upgrade: webencodings in /usr/local/lib/python3.7/dist-packages (from bleach->nbconvert->notebook>=4.4.1->widgetsnbextension~=3.5.0->ipywidgets>=5.2.2->BGlib) (0.5.1)\n",
            "Building wheels for collected packages: numpy-groupies, cytoolz\n",
            "  Building wheel for numpy-groupies (setup.py) ... \u001b[?25l\u001b[?25hdone\n",
            "  Created wheel for numpy-groupies: filename=numpy_groupies-0.9.7-cp37-none-any.whl size=21327 sha256=7c7be7c56d91222c8711abfbee349f34118f44f8c1c1b12272ac5dfbfe54daeb\n",
            "  Stored in directory: /root/.cache/pip/wheels/9e/19/02/30e0a1918ddc498ccdd5dab91b3bfce6100bfd0d416db622c9\n",
            "  Building wheel for cytoolz (setup.py) ... \u001b[?25l\u001b[?25hdone\n",
            "  Created wheel for cytoolz: filename=cytoolz-0.11.0-cp37-cp37m-linux_x86_64.whl size=1223260 sha256=9a798335d2e2a8f3f693eac8abccda6d2629e655ea70baf2a9c3e140f72e8930\n",
            "  Stored in directory: /root/.cache/pip/wheels/a1/32/3c/9c9926b510647cacdde744b2c7acdf1ccd5896fbb7f8d5df0c\n",
            "Successfully built numpy-groupies cytoolz\n",
            "\u001b[31mERROR: jupyter-console 5.2.0 has requirement prompt-toolkit<2.0.0,>=1.0.0, but you'll have prompt-toolkit 3.0.18 which is incompatible.\u001b[0m\n",
            "\u001b[31mERROR: google-colab 1.0.0 has requirement ipython~=5.5.0, but you'll have ipython 7.22.0 which is incompatible.\u001b[0m\n",
            "Installing collected packages: prompt-toolkit, ipython, cytoolz, sidpy, pyUSID, numpy-groupies, BGlib\n",
            "  Found existing installation: prompt-toolkit 1.0.18\n",
            "    Uninstalling prompt-toolkit-1.0.18:\n",
            "      Successfully uninstalled prompt-toolkit-1.0.18\n",
            "  Found existing installation: ipython 5.5.0\n",
            "    Uninstalling ipython-5.5.0:\n",
            "      Successfully uninstalled ipython-5.5.0\n",
            "Successfully installed BGlib-0.0.2 cytoolz-0.11.0 ipython-7.22.0 numpy-groupies-0.9.7 prompt-toolkit-3.0.18 pyUSID-0.0.10 sidpy-0.0.4\n"
          ],
          "name": "stdout"
        }
      ]
    },
    {
      "cell_type": "code",
      "metadata": {
        "colab": {
          "base_uri": "https://localhost:8080/"
        },
        "id": "TTza0eKQqOBI",
        "outputId": "6aa353cd-0116-4c1d-ccbc-114adf4423a7"
      },
      "source": [
        "!pip install -U pyUSID==0.0.9"
      ],
      "execution_count": null,
      "outputs": [
        {
          "output_type": "stream",
          "text": [
            "Collecting pyUSID==0.0.9\n",
            "\u001b[?25l  Downloading https://files.pythonhosted.org/packages/3f/5e/cb92d9532f404fd271236254a31902725cc957d1ac3aea3ebe10b938f8f3/pyUSID-0.0.9-py2.py3-none-any.whl (166kB)\n",
            "\u001b[K     |████████████████████████████████| 174kB 5.8MB/s \n",
            "\u001b[?25hRequirement already satisfied, skipping upgrade: numpy>=1.10 in /usr/local/lib/python3.7/dist-packages (from pyUSID==0.0.9) (1.19.5)\n",
            "Requirement already satisfied, skipping upgrade: psutil in /usr/local/lib/python3.7/dist-packages (from pyUSID==0.0.9) (5.4.8)\n",
            "Requirement already satisfied, skipping upgrade: pillow in /usr/local/lib/python3.7/dist-packages (from pyUSID==0.0.9) (7.1.2)\n",
            "Requirement already satisfied, skipping upgrade: six in /usr/local/lib/python3.7/dist-packages (from pyUSID==0.0.9) (1.15.0)\n",
            "Requirement already satisfied, skipping upgrade: matplotlib>=2.0.0 in /usr/local/lib/python3.7/dist-packages (from pyUSID==0.0.9) (3.2.2)\n",
            "Requirement already satisfied, skipping upgrade: dask>=0.10 in /usr/local/lib/python3.7/dist-packages (from pyUSID==0.0.9) (2.12.0)\n",
            "Requirement already satisfied, skipping upgrade: ipywidgets>=5.2.2 in /usr/local/lib/python3.7/dist-packages (from pyUSID==0.0.9) (7.6.3)\n",
            "Requirement already satisfied, skipping upgrade: ipython>=6.0; python_version >= \"3.3\" in /usr/local/lib/python3.7/dist-packages (from pyUSID==0.0.9) (7.22.0)\n",
            "Requirement already satisfied, skipping upgrade: toolz in /usr/local/lib/python3.7/dist-packages (from pyUSID==0.0.9) (0.11.1)\n",
            "Requirement already satisfied, skipping upgrade: joblib>=0.11.0 in /usr/local/lib/python3.7/dist-packages (from pyUSID==0.0.9) (1.0.1)\n",
            "Requirement already satisfied, skipping upgrade: h5py>=2.6.0 in /usr/local/lib/python3.7/dist-packages (from pyUSID==0.0.9) (2.10.0)\n",
            "Requirement already satisfied, skipping upgrade: sidpy>=0.0.1 in /usr/local/lib/python3.7/dist-packages (from pyUSID==0.0.9) (0.0.4)\n",
            "Requirement already satisfied, skipping upgrade: cytoolz in /usr/local/lib/python3.7/dist-packages (from pyUSID==0.0.9) (0.11.0)\n",
            "Requirement already satisfied, skipping upgrade: pyparsing!=2.0.4,!=2.1.2,!=2.1.6,>=2.0.1 in /usr/local/lib/python3.7/dist-packages (from matplotlib>=2.0.0->pyUSID==0.0.9) (2.4.7)\n",
            "Requirement already satisfied, skipping upgrade: cycler>=0.10 in /usr/local/lib/python3.7/dist-packages (from matplotlib>=2.0.0->pyUSID==0.0.9) (0.10.0)\n",
            "Requirement already satisfied, skipping upgrade: python-dateutil>=2.1 in /usr/local/lib/python3.7/dist-packages (from matplotlib>=2.0.0->pyUSID==0.0.9) (2.8.1)\n",
            "Requirement already satisfied, skipping upgrade: kiwisolver>=1.0.1 in /usr/local/lib/python3.7/dist-packages (from matplotlib>=2.0.0->pyUSID==0.0.9) (1.3.1)\n",
            "Requirement already satisfied, skipping upgrade: ipykernel>=4.5.1 in /usr/local/lib/python3.7/dist-packages (from ipywidgets>=5.2.2->pyUSID==0.0.9) (4.10.1)\n",
            "Requirement already satisfied, skipping upgrade: traitlets>=4.3.1 in /usr/local/lib/python3.7/dist-packages (from ipywidgets>=5.2.2->pyUSID==0.0.9) (5.0.5)\n",
            "Requirement already satisfied, skipping upgrade: jupyterlab-widgets>=1.0.0; python_version >= \"3.6\" in /usr/local/lib/python3.7/dist-packages (from ipywidgets>=5.2.2->pyUSID==0.0.9) (1.0.0)\n",
            "Requirement already satisfied, skipping upgrade: widgetsnbextension~=3.5.0 in /usr/local/lib/python3.7/dist-packages (from ipywidgets>=5.2.2->pyUSID==0.0.9) (3.5.1)\n",
            "Requirement already satisfied, skipping upgrade: nbformat>=4.2.0 in /usr/local/lib/python3.7/dist-packages (from ipywidgets>=5.2.2->pyUSID==0.0.9) (5.1.2)\n",
            "Requirement already satisfied, skipping upgrade: pickleshare in /usr/local/lib/python3.7/dist-packages (from ipython>=6.0; python_version >= \"3.3\"->pyUSID==0.0.9) (0.7.5)\n",
            "Requirement already satisfied, skipping upgrade: prompt-toolkit!=3.0.0,!=3.0.1,<3.1.0,>=2.0.0 in /usr/local/lib/python3.7/dist-packages (from ipython>=6.0; python_version >= \"3.3\"->pyUSID==0.0.9) (3.0.18)\n",
            "Requirement already satisfied, skipping upgrade: backcall in /usr/local/lib/python3.7/dist-packages (from ipython>=6.0; python_version >= \"3.3\"->pyUSID==0.0.9) (0.2.0)\n",
            "Requirement already satisfied, skipping upgrade: jedi>=0.16 in /usr/local/lib/python3.7/dist-packages (from ipython>=6.0; python_version >= \"3.3\"->pyUSID==0.0.9) (0.18.0)\n",
            "Requirement already satisfied, skipping upgrade: setuptools>=18.5 in /usr/local/lib/python3.7/dist-packages (from ipython>=6.0; python_version >= \"3.3\"->pyUSID==0.0.9) (54.2.0)\n",
            "Requirement already satisfied, skipping upgrade: pygments in /usr/local/lib/python3.7/dist-packages (from ipython>=6.0; python_version >= \"3.3\"->pyUSID==0.0.9) (2.6.1)\n",
            "Requirement already satisfied, skipping upgrade: decorator in /usr/local/lib/python3.7/dist-packages (from ipython>=6.0; python_version >= \"3.3\"->pyUSID==0.0.9) (4.4.2)\n",
            "Requirement already satisfied, skipping upgrade: pexpect>4.3; sys_platform != \"win32\" in /usr/local/lib/python3.7/dist-packages (from ipython>=6.0; python_version >= \"3.3\"->pyUSID==0.0.9) (4.8.0)\n",
            "Requirement already satisfied, skipping upgrade: tornado>=4.0 in /usr/local/lib/python3.7/dist-packages (from ipykernel>=4.5.1->ipywidgets>=5.2.2->pyUSID==0.0.9) (5.1.1)\n",
            "Requirement already satisfied, skipping upgrade: jupyter-client in /usr/local/lib/python3.7/dist-packages (from ipykernel>=4.5.1->ipywidgets>=5.2.2->pyUSID==0.0.9) (5.3.5)\n",
            "Requirement already satisfied, skipping upgrade: ipython-genutils in /usr/local/lib/python3.7/dist-packages (from traitlets>=4.3.1->ipywidgets>=5.2.2->pyUSID==0.0.9) (0.2.0)\n",
            "Requirement already satisfied, skipping upgrade: notebook>=4.4.1 in /usr/local/lib/python3.7/dist-packages (from widgetsnbextension~=3.5.0->ipywidgets>=5.2.2->pyUSID==0.0.9) (5.3.1)\n",
            "Requirement already satisfied, skipping upgrade: jsonschema!=2.5.0,>=2.4 in /usr/local/lib/python3.7/dist-packages (from nbformat>=4.2.0->ipywidgets>=5.2.2->pyUSID==0.0.9) (2.6.0)\n",
            "Requirement already satisfied, skipping upgrade: jupyter-core in /usr/local/lib/python3.7/dist-packages (from nbformat>=4.2.0->ipywidgets>=5.2.2->pyUSID==0.0.9) (4.7.1)\n",
            "Requirement already satisfied, skipping upgrade: wcwidth in /usr/local/lib/python3.7/dist-packages (from prompt-toolkit!=3.0.0,!=3.0.1,<3.1.0,>=2.0.0->ipython>=6.0; python_version >= \"3.3\"->pyUSID==0.0.9) (0.2.5)\n",
            "Requirement already satisfied, skipping upgrade: parso<0.9.0,>=0.8.0 in /usr/local/lib/python3.7/dist-packages (from jedi>=0.16->ipython>=6.0; python_version >= \"3.3\"->pyUSID==0.0.9) (0.8.1)\n",
            "Requirement already satisfied, skipping upgrade: ptyprocess>=0.5 in /usr/local/lib/python3.7/dist-packages (from pexpect>4.3; sys_platform != \"win32\"->ipython>=6.0; python_version >= \"3.3\"->pyUSID==0.0.9) (0.7.0)\n",
            "Requirement already satisfied, skipping upgrade: pyzmq>=13 in /usr/local/lib/python3.7/dist-packages (from jupyter-client->ipykernel>=4.5.1->ipywidgets>=5.2.2->pyUSID==0.0.9) (22.0.3)\n",
            "Requirement already satisfied, skipping upgrade: nbconvert in /usr/local/lib/python3.7/dist-packages (from notebook>=4.4.1->widgetsnbextension~=3.5.0->ipywidgets>=5.2.2->pyUSID==0.0.9) (5.6.1)\n",
            "Requirement already satisfied, skipping upgrade: Send2Trash in /usr/local/lib/python3.7/dist-packages (from notebook>=4.4.1->widgetsnbextension~=3.5.0->ipywidgets>=5.2.2->pyUSID==0.0.9) (1.5.0)\n",
            "Requirement already satisfied, skipping upgrade: jinja2 in /usr/local/lib/python3.7/dist-packages (from notebook>=4.4.1->widgetsnbextension~=3.5.0->ipywidgets>=5.2.2->pyUSID==0.0.9) (2.11.3)\n",
            "Requirement already satisfied, skipping upgrade: terminado>=0.8.1 in /usr/local/lib/python3.7/dist-packages (from notebook>=4.4.1->widgetsnbextension~=3.5.0->ipywidgets>=5.2.2->pyUSID==0.0.9) (0.9.3)\n",
            "Requirement already satisfied, skipping upgrade: bleach in /usr/local/lib/python3.7/dist-packages (from nbconvert->notebook>=4.4.1->widgetsnbextension~=3.5.0->ipywidgets>=5.2.2->pyUSID==0.0.9) (3.3.0)\n",
            "Requirement already satisfied, skipping upgrade: mistune<2,>=0.8.1 in /usr/local/lib/python3.7/dist-packages (from nbconvert->notebook>=4.4.1->widgetsnbextension~=3.5.0->ipywidgets>=5.2.2->pyUSID==0.0.9) (0.8.4)\n",
            "Requirement already satisfied, skipping upgrade: testpath in /usr/local/lib/python3.7/dist-packages (from nbconvert->notebook>=4.4.1->widgetsnbextension~=3.5.0->ipywidgets>=5.2.2->pyUSID==0.0.9) (0.4.4)\n",
            "Requirement already satisfied, skipping upgrade: pandocfilters>=1.4.1 in /usr/local/lib/python3.7/dist-packages (from nbconvert->notebook>=4.4.1->widgetsnbextension~=3.5.0->ipywidgets>=5.2.2->pyUSID==0.0.9) (1.4.3)\n",
            "Requirement already satisfied, skipping upgrade: defusedxml in /usr/local/lib/python3.7/dist-packages (from nbconvert->notebook>=4.4.1->widgetsnbextension~=3.5.0->ipywidgets>=5.2.2->pyUSID==0.0.9) (0.7.1)\n",
            "Requirement already satisfied, skipping upgrade: entrypoints>=0.2.2 in /usr/local/lib/python3.7/dist-packages (from nbconvert->notebook>=4.4.1->widgetsnbextension~=3.5.0->ipywidgets>=5.2.2->pyUSID==0.0.9) (0.3)\n",
            "Requirement already satisfied, skipping upgrade: MarkupSafe>=0.23 in /usr/local/lib/python3.7/dist-packages (from jinja2->notebook>=4.4.1->widgetsnbextension~=3.5.0->ipywidgets>=5.2.2->pyUSID==0.0.9) (1.1.1)\n",
            "Requirement already satisfied, skipping upgrade: webencodings in /usr/local/lib/python3.7/dist-packages (from bleach->nbconvert->notebook>=4.4.1->widgetsnbextension~=3.5.0->ipywidgets>=5.2.2->pyUSID==0.0.9) (0.5.1)\n",
            "Requirement already satisfied, skipping upgrade: packaging in /usr/local/lib/python3.7/dist-packages (from bleach->nbconvert->notebook>=4.4.1->widgetsnbextension~=3.5.0->ipywidgets>=5.2.2->pyUSID==0.0.9) (20.9)\n",
            "Installing collected packages: pyUSID\n",
            "  Found existing installation: pyUSID 0.0.10\n",
            "    Uninstalling pyUSID-0.0.10:\n",
            "      Successfully uninstalled pyUSID-0.0.10\n",
            "Successfully installed pyUSID-0.0.9\n"
          ],
          "name": "stdout"
        }
      ]
    },
    {
      "cell_type": "markdown",
      "metadata": {
        "id": "hn4BeRhnT22p"
      },
      "source": [
        "# Imports Packages"
      ]
    },
    {
      "cell_type": "code",
      "metadata": {
        "colab": {
          "base_uri": "https://localhost:8080/"
        },
        "id": "1Pp-gqSTT22p",
        "outputId": "e31ad6e2-a345-4768-add1-692418f77181"
      },
      "source": [
        "import gdown\n",
        "\n",
        "# Import necessary libraries:\n",
        "# General utilities:\n",
        "import os\n",
        "\n",
        "# Computation:\n",
        "import numpy as np\n",
        "import h5py\n",
        "\n",
        "# Visualization:\n",
        "import matplotlib.pyplot as plt\n",
        "from IPython.display import display, HTML\n",
        "\n",
        "# The engineering components supporting BGlib:\n",
        "import sidpy\n",
        "import pyUSID as usid\n",
        "# Finally, BGlib itself\n",
        "from BGlib import be as belib\n",
        "\n",
        "from pyUSID.io.hdf_utils import reshape_to_n_dims, get_sort_order, \\\n",
        "    get_dimensionality, get_source_dataset, get_auxiliary_datasets, \\\n",
        "    get_attr\n",
        "\n",
        "import warnings\n",
        "warnings.filterwarnings('ignore')"
      ],
      "execution_count": null,
      "outputs": [
        {
          "output_type": "stream",
          "text": [
            "/usr/local/lib/python3.7/dist-packages/pyUSID/viz/__init__.py:18: FutureWarning: Please use sidpy.viz.plot_utils instead of pyUSID.viz.plot_utils. pyUSID.plot_utils will be removed in a future release of pyUSID\n",
            "  FutureWarning)\n"
          ],
          "name": "stderr"
        }
      ]
    },
    {
      "cell_type": "markdown",
      "metadata": {
        "id": "QflBzUdRT22r"
      },
      "source": [
        "# Downloads the data file"
      ]
    },
    {
      "cell_type": "code",
      "metadata": {
        "colab": {
          "base_uri": "https://localhost:8080/",
          "height": 105
        },
        "id": "kuGZz9X-T22r",
        "outputId": "dcb5620e-f940-4824-f60f-63263c497c69"
      },
      "source": [
        "# dowloads the original experiment file\n",
        "gdown.download('https://drive.google.com/uc?export=download&id=1Q2Qo_1VGlCsVOTjQpZlE5tjoIV1etVe2', 'data_file.h5', quiet=False)"
      ],
      "execution_count": null,
      "outputs": [
        {
          "output_type": "stream",
          "text": [
            "Downloading...\n",
            "From: https://drive.google.com/uc?export=download&id=1Q2Qo_1VGlCsVOTjQpZlE5tjoIV1etVe2\n",
            "To: /content/data_file.h5\n",
            "1.80GB [00:08, 219MB/s]\n"
          ],
          "name": "stderr"
        },
        {
          "output_type": "execute_result",
          "data": {
            "application/vnd.google.colaboratory.intrinsic+json": {
              "type": "string"
            },
            "text/plain": [
              "'data_file.h5'"
            ]
          },
          "metadata": {
            "tags": []
          },
          "execution_count": 4
        }
      ]
    },
    {
      "cell_type": "code",
      "metadata": {
        "id": "ZpV9GI9BT22s"
      },
      "source": [
        "def load_data_USID(input_file_path, max_mem=1024*8, max_cores = None, results_to_new_file = False):\n",
        "\n",
        "        \n",
        "    (data_dir, filename) = os.path.split(input_file_path)\n",
        "\n",
        "    if input_file_path.endswith('.h5'):\n",
        "        # No translation here\n",
        "        h5_path = input_file_path\n",
        "        force = True # Set this to true to force patching of the datafile.\n",
        "        tl = belib.translators.LabViewH5Patcher()\n",
        "        tl.translate(h5_path, force_patch=force)\n",
        "    else:\n",
        "        # Set the data to be translated\n",
        "        self.data_path = input_file_path\n",
        "\n",
        "        (junk, base_name) = os.path.split(data_dir)\n",
        "\n",
        "        # Check if the data is in the new or old format.  Initialize the correct translator for the format.\n",
        "        if base_name == 'newdataformat':\n",
        "            (junk, base_name) = os.path.split(junk)\n",
        "            translator = belib.translators.BEPSndfTranslator(max_mem_mb=max_mem)\n",
        "        else:\n",
        "            translator = belib.translators.BEodfTranslator(max_mem_mb=max_mem)\n",
        "        if base_name.endswith('_d'):\n",
        "            base_name = base_name[:-2]\n",
        "        # Translate the data\n",
        "        print(translator)\n",
        "        h5_path = translator.translate(data_path, show_plots=True, save_plots=False)\n",
        "        \n",
        "    folder_path, h5_raw_file_name = os.path.split(h5_path)\n",
        "    h5_file = h5py.File(h5_path, 'r+')\n",
        "    print('Working on:\\n' + h5_path)\n",
        "\n",
        "    h5_main = usid.hdf_utils.find_dataset(h5_file, 'Raw_Data')[0]\n",
        "        \n",
        "    return h5_main, h5_file, h5_path"
      ],
      "execution_count": null,
      "outputs": []
    },
    {
      "cell_type": "code",
      "metadata": {
        "colab": {
          "base_uri": "https://localhost:8080/"
        },
        "id": "pEWfKVlmT22s",
        "outputId": "2650287a-ec5c-4f22-a7bd-05082fa74169"
      },
      "source": [
        "h5_main, h5_file, h5_path = load_data_USID('./data_file.h5')"
      ],
      "execution_count": null,
      "outputs": [
        {
          "output_type": "stream",
          "text": [
            "Working on:\n",
            "./data_file.h5\n"
          ],
          "name": "stdout"
        }
      ]
    },
    {
      "cell_type": "code",
      "metadata": {
        "colab": {
          "base_uri": "https://localhost:8080/"
        },
        "id": "4igGN2ZIT22t",
        "outputId": "43040c15-0b09-4e31-c0ef-a795333ca450"
      },
      "source": [
        "print('Datasets and datagroups within the file:\\n------------------------------------')\n",
        "sidpy.hdf.hdf_utils.print_tree(h5_file)\n",
        " \n",
        "print('\\nThe main dataset:\\n------------------------------------')\n",
        "print(h5_main)\n",
        "\n",
        "print('\\nMetadata or attributes in the measurement datagroup\\n------------------------------------')\n",
        "for key, val in sidpy.hdf.hdf_utils.get_attributes(h5_main.parent.parent).items():\n",
        "    print('{} : {}'.format(key, val))"
      ],
      "execution_count": null,
      "outputs": [
        {
          "output_type": "stream",
          "text": [
            "Datasets and datagroups within the file:\n",
            "------------------------------------\n",
            "/\n",
            "├ Measurement_000\n",
            "  ---------------\n",
            "  ├ Channel_000\n",
            "    -----------\n",
            "    ├ Bin_FFT\n",
            "    ├ Bin_Frequencies\n",
            "    ├ Bin_Indices\n",
            "    ├ Bin_Step\n",
            "    ├ Bin_Wfm_Type\n",
            "    ├ Excitation_Waveform\n",
            "    ├ Noise_Floor\n",
            "    ├ Position_Indices\n",
            "    ├ Position_Values\n",
            "    ├ Raw_Data\n",
            "    ├ Raw_Data-SHO_Fit_000\n",
            "      --------------------\n",
            "      ├ Fit\n",
            "      ├ Guess\n",
            "      ├ Spectroscopic_Indices\n",
            "      ├ Spectroscopic_Values\n",
            "      ├ completed_fit_positions\n",
            "      ├ completed_guess_positions\n",
            "    ├ Spatially_Averaged_Plot_Group_000\n",
            "      ---------------------------------\n",
            "      ├ Bin_Frequencies\n",
            "      ├ Max_Response\n",
            "      ├ Mean_Spectrogram\n",
            "      ├ Min_Response\n",
            "      ├ Spectroscopic_Parameter\n",
            "      ├ Step_Averaged_Response\n",
            "    ├ Spatially_Averaged_Plot_Group_001\n",
            "      ---------------------------------\n",
            "      ├ Bin_Frequencies\n",
            "      ├ Max_Response\n",
            "      ├ Mean_Spectrogram\n",
            "      ├ Min_Response\n",
            "      ├ Spectroscopic_Parameter\n",
            "      ├ Step_Averaged_Response\n",
            "    ├ Spectroscopic_Indices\n",
            "    ├ Spectroscopic_Values\n",
            "    ├ UDVS\n",
            "    ├ UDVS_Indices\n",
            "\n",
            "The main dataset:\n",
            "------------------------------------\n",
            "<HDF5 dataset \"Raw_Data\": shape (3600, 63360), type \"<c8\">\n",
            "located at: \n",
            "\t/Measurement_000/Channel_000/Raw_Data \n",
            "Data contains: \n",
            "\tPiezoresponse (V) \n",
            "Data dimensions and original shape: \n",
            "Position Dimensions: \n",
            "\tY - size: 60 \n",
            "\tX - size: 60 \n",
            "Spectroscopic Dimensions: \n",
            "\tFrequency - size: 165 \n",
            "\tDC_Offset - size: 96 \n",
            "\tField - size: 2 \n",
            "\tCycle - size: 2\n",
            "Data Type:\n",
            "\tcomplex64\n",
            "\n",
            "Metadata or attributes in the measurement datagroup\n",
            "------------------------------------\n",
            "BE_actual_duration_[s] : 0.004\n",
            "BE_amplitude_[V] : 1\n",
            "BE_auto_smoothing : auto smoothing on\n",
            "BE_band_edge_smoothing_[s] : 4832.1\n",
            "BE_band_edge_trim : 0.094742\n",
            "BE_band_width_[Hz] : 200000\n",
            "BE_bins_per_band : 0\n",
            "BE_center_frequency_[Hz] : 1310000\n",
            "BE_desired_duration_[s] : 0.004\n",
            "BE_phase_content : chirp-sinc hybrid\n",
            "BE_phase_variation : 1\n",
            "BE_points_per_BE_wave : 0\n",
            "BE_repeats : 4\n",
            "FORC_V_high1_[V] : 1\n",
            "FORC_V_high2_[V] : 10\n",
            "FORC_V_low1_[V] : -1\n",
            "FORC_V_low2_[V] : -10\n",
            "FORC_num_of_FORC_cycles : 1\n",
            "FORC_num_of_FORC_repeats : 1\n",
            "File_MDAQ_version : MDAQ_VS_090915_01\n",
            "File_date_and_time : 18-Sep-2015 18:32:14\n",
            "File_file_name : SP128_NSO\n",
            "File_file_path : C:\\Users\\Asylum User\\Documents\\Users\\Agar\\SP128_NSO\\\n",
            "File_file_suffix : 99\n",
            "IO_AO_amplifier : 10\n",
            "IO_AO_range_[V] : +/- 10\n",
            "IO_Analog_Input_1 : +/- .1V, FFT\n",
            "IO_Analog_Input_2 : off\n",
            "IO_Analog_Input_3 : off\n",
            "IO_Analog_Input_4 : off\n",
            "IO_DAQ_platform : NI 6115\n",
            "IO_rate_[Hz] : 4000000\n",
            "VS_amplitude_[V] : 16\n",
            "VS_cycle_fraction : full\n",
            "VS_cycle_phase_shift : 0\n",
            "VS_measure_in_field_loops : in and out-of-field\n",
            "VS_mode : DC modulation mode\n",
            "VS_number_of_cycles : 2\n",
            "VS_offset_[V] : 0\n",
            "VS_read_voltage_[V] : 0\n",
            "VS_set_pulse_amplitude[V] : 0\n",
            "VS_set_pulse_duration[s] : 0.002\n",
            "VS_step_edge_smoothing_[s] : 0.001\n",
            "VS_steps_per_full_cycle : 96\n",
            "data_type : BEPSData\n",
            "grid_/single : grid\n",
            "grid_contact_set_point_[V] : 1\n",
            "grid_current_col : 1\n",
            "grid_current_row : 1\n",
            "grid_cycle_time_[s] : 10\n",
            "grid_measuring : 0\n",
            "grid_moving : 0\n",
            "grid_num_cols : 60\n",
            "grid_num_rows : 60\n",
            "grid_settle_time_[s] : 0.15\n",
            "grid_time_remaining_[h;m;s] : 10\n",
            "grid_total_time_[h;m;s] : 10\n",
            "grid_transit_set_point_[V] : 0.1\n",
            "grid_transit_time_[s] : 0.15\n",
            "num_bins : 165\n",
            "num_pix : 3600\n",
            "num_udvs_steps : 384\n"
          ],
          "name": "stdout"
        }
      ]
    },
    {
      "cell_type": "code",
      "metadata": {
        "id": "qgN-7EVmT22t"
      },
      "source": [
        "def extract_basic_parameters(h5_main):\n",
        "    h5_pos_inds = h5_main.h5_pos_inds\n",
        "    pos_dims = h5_main.pos_dim_sizes\n",
        "    pos_labels = h5_main.pos_dim_labels\n",
        "    print(pos_labels, pos_dims)\n",
        "\n",
        "    h5_meas_grp = h5_main.parent.parent\n",
        "\n",
        "    parm_dict = sidpy.hdf.hdf_utils.get_attributes(h5_meas_grp)\n",
        "\n",
        "    expt_type = sidpy.hdf.hdf_utils.get_attr(h5_file, 'data_type')\n",
        "\n",
        "    is_ckpfm = expt_type == 'cKPFMData'\n",
        "    if is_ckpfm:\n",
        "        num_write_steps = parm_dict['VS_num_DC_write_steps']\n",
        "        num_read_steps = parm_dict['VS_num_read_steps']\n",
        "        num_fields = 2\n",
        "\n",
        "    if expt_type != 'BELineData':\n",
        "        vs_mode = sidpy.hdf.hdf_utils.get_attr(h5_meas_grp, 'VS_mode')\n",
        "        try:\n",
        "            field_mode = sidpy.hdf.hdf_utils.get_attr(h5_meas_grp, 'VS_measure_in_field_loops')\n",
        "        except KeyError:\n",
        "            print('field mode could not be found. Setting to default value')\n",
        "            field_mode = 'out-of-field'\n",
        "        try:\n",
        "            vs_cycle_frac = sidpy.hdf.hdf_utils.get_attr(h5_meas_grp, 'VS_cycle_fraction')\n",
        "        except KeyError:\n",
        "            print('VS cycle fraction could not be found. Setting to default value')\n",
        "            vs_cycle_frac = 'full'\n",
        "            \n",
        "    return "
      ],
      "execution_count": null,
      "outputs": []
    },
    {
      "cell_type": "code",
      "metadata": {
        "id": "I5uNDBHbT22t"
      },
      "source": [
        "def be_fit(h5_main, sho_fit_points = 5, sho_override = False, h5_sho_targ_grp = None, \\\n",
        "           max_mem=1024*8, max_cores = None):\n",
        "    sho_fitter = belib.analysis.BESHOfitter(h5_main, cores=max_cores, verbose=False, h5_target_group=h5_sho_targ_grp)\n",
        "    sho_fitter.set_up_guess(guess_func=belib.analysis.be_sho_fitter.SHOGuessFunc.complex_gaussian,\n",
        "                            num_points=sho_fit_points)\n",
        "    h5_sho_guess = sho_fitter.do_guess(override=sho_override)\n",
        "    sho_fitter.set_up_fit()\n",
        "    h5_sho_fit = sho_fitter.do_fit(override=sho_override)\n",
        "    h5_sho_grp = h5_sho_fit.parent\n",
        "    return h5_sho_fit, h5_sho_grp"
      ],
      "execution_count": null,
      "outputs": []
    },
    {
      "cell_type": "code",
      "metadata": {
        "colab": {
          "base_uri": "https://localhost:8080/"
        },
        "id": "NKLUs0MxT22u",
        "outputId": "180ed001-398b-489a-f6a7-016c574b74b5"
      },
      "source": [
        "h5_sho_fit, h5_sho_grp = be_fit(h5_main)"
      ],
      "execution_count": null,
      "outputs": [
        {
          "output_type": "stream",
          "text": [
            "Consider calling test() to check results before calling compute() which computes on the entire dataset and writes results to the HDF5 file\n",
            "\n",
            "Note: SHO_Fit has already been performed with the same parameters before. These results will be returned by compute() by default. Set override to True to force fresh computation\n",
            "\n",
            "[<HDF5 group \"/Measurement_000/Channel_000/Raw_Data-SHO_Fit_000\" (7 members)>]\n",
            "\n",
            "Note: SHO_Fit has already been performed with the same parameters before. These results will be returned by compute() by default. Set override to True to force fresh computation\n",
            "\n",
            "[<HDF5 group \"/Measurement_000/Channel_000/Raw_Data-SHO_Fit_000\" (7 members)>]\n",
            "Returned previously computed results at /Measurement_000/Channel_000/Raw_Data-SHO_Fit_000\n",
            "\n",
            "Note: SHO_Fit has already been performed with the same parameters before. These results will be returned by compute() by default. Set override to True to force fresh computation\n",
            "\n",
            "[<HDF5 group \"/Measurement_000/Channel_000/Raw_Data-SHO_Fit_000\" (7 members)>]\n",
            "Returned previously computed results at /Measurement_000/Channel_000/Raw_Data-SHO_Fit_000\n"
          ],
          "name": "stdout"
        }
      ]
    },
    {
      "cell_type": "code",
      "metadata": {
        "id": "eao77JmXT22u"
      },
      "source": [
        "def fit_loop_function(h5_file, h5_sho_fit, loop_success = False, h5_loop_group = None,\\\n",
        "                      results_to_new_file = False, max_mem=1024*8, max_cores = None):\n",
        "    \n",
        "    expt_type = sidpy.hdf.hdf_utils.get_attr(h5_file, 'data_type')\n",
        "    h5_meas_grp = h5_main.parent.parent\n",
        "    vs_mode = sidpy.hdf.hdf_utils.get_attr(h5_meas_grp, 'VS_mode')\n",
        "    \n",
        "    try:\n",
        "        vs_cycle_frac = sidpy.hdf.hdf_utils.get_attr(h5_meas_grp, 'VS_cycle_fraction')\n",
        "    except KeyError:\n",
        "        print('VS cycle fraction could not be found. Setting to default value')\n",
        "        vs_cycle_frac = 'full'\n",
        "        \n",
        "    if results_to_new_file:\n",
        "        h5_loop_file_path = os.path.join(folder_path, \n",
        "                                         h5_raw_file_name.replace('.h5', '_loop_fit.h5'))\n",
        "        print('\\n\\nLoop Fits will be written to:\\n' + h5_loop_file_path + '\\n\\n')\n",
        "        f_open_mode = 'w'\n",
        "        if os.path.exists(h5_loop_file_path):\n",
        "            f_open_mode = 'r+'\n",
        "        h5_loop_file = h5py.File(h5_loop_file_path, mode=f_open_mode)\n",
        "        h5_loop_group = h5_loop_file\n",
        "        \n",
        "    loop_fitter = belib.analysis.BELoopFitter(h5_sho_fit, expt_type, vs_mode, vs_cycle_frac,\n",
        "                                           cores=max_cores, h5_target_group=h5_loop_group, \n",
        "                                           verbose=False)\n",
        "    loop_fitter.set_up_guess()\n",
        "    h5_loop_guess = loop_fitter.do_guess(override=False)\n",
        "    # Calling explicitely here since Fitter won't do it automatically\n",
        "    h5_guess_loop_parms = loop_fitter.extract_loop_parameters(h5_loop_guess)\n",
        "\n",
        "    loop_fitter.set_up_fit()\n",
        "    h5_loop_fit = loop_fitter.do_fit(override=False)\n",
        "    h5_loop_group = h5_loop_fit.parent\n",
        "    loop_success = True\n",
        "    return h5_loop_fit, h5_loop_group"
      ],
      "execution_count": null,
      "outputs": []
    },
    {
      "cell_type": "code",
      "metadata": {
        "colab": {
          "base_uri": "https://localhost:8080/"
        },
        "id": "p_O9w-WDT22v",
        "outputId": "37a0bb1e-b903-4cb0-fa16-e8fcaa4d39a6"
      },
      "source": [
        "h5_loop_fit, h5_loop_group = fit_loop_function(h5_file, h5_sho_fit)"
      ],
      "execution_count": null,
      "outputs": [
        {
          "output_type": "stream",
          "text": [
            "Consider calling test() to check results before calling compute() which computes on the entire dataset and writes results to the HDF5 file\n",
            "\tThis class (likely) supports interruption and resuming of computations!\n",
            "\tIf you are operating in a python console, press Ctrl+C or Cmd+C to abort\n",
            "\tIf you are in a Jupyter notebook, click on \"Kernel\">>\"Interrupt\"\n",
            "\tIf you are operating on a cluster and your job gets killed, re-run the job to resume\n",
            "\n",
            "Rank 0 - 100% complete. Time remaining: 0.0 msec\n",
            "Finished processing the entire dataset!\n",
            "\n",
            "Note: Loop_Fit has already been performed with the same parameters before. These results will be returned by compute() by default. Set override to True to force fresh computation\n",
            "\n",
            "[<HDF5 group \"/Measurement_000/Channel_000/Raw_Data-SHO_Fit_000/Fit-Loop_Fit_000\" (7 members)>]\n",
            "Resuming computation. 0% completed already\n",
            "\tThis class (likely) supports interruption and resuming of computations!\n",
            "\tIf you are operating in a python console, press Ctrl+C or Cmd+C to abort\n",
            "\tIf you are in a Jupyter notebook, click on \"Kernel\">>\"Interrupt\"\n",
            "\tIf you are operating on a cluster and your job gets killed, re-run the job to resume\n",
            "\n",
            "Rank 0 - 100% complete. Time remaining: 0.0 msec\n",
            "Finished processing the entire dataset!\n"
          ],
          "name": "stdout"
        }
      ]
    },
    {
      "cell_type": "code",
      "metadata": {
        "colab": {
          "base_uri": "https://localhost:8080/"
        },
        "id": "Vg-DzfEwT22v",
        "outputId": "fe297d6c-d1de-4c78-9872-6eaf2f35d86f"
      },
      "source": [
        "sidpy.hdf_utils.print_tree(h5_file)"
      ],
      "execution_count": null,
      "outputs": [
        {
          "output_type": "stream",
          "text": [
            "/\n",
            "├ Measurement_000\n",
            "  ---------------\n",
            "  ├ Channel_000\n",
            "    -----------\n",
            "    ├ Bin_FFT\n",
            "    ├ Bin_Frequencies\n",
            "    ├ Bin_Indices\n",
            "    ├ Bin_Step\n",
            "    ├ Bin_Wfm_Type\n",
            "    ├ Excitation_Waveform\n",
            "    ├ Noise_Floor\n",
            "    ├ Position_Indices\n",
            "    ├ Position_Values\n",
            "    ├ Raw_Data\n",
            "    ├ Raw_Data-SHO_Fit_000\n",
            "      --------------------\n",
            "      ├ Fit\n",
            "      ├ Fit-Loop_Fit_000\n",
            "        ----------------\n",
            "        ├ Fit\n",
            "        ├ Fit_Loop_Parameters\n",
            "        ├ Guess\n",
            "        ├ Guess_Loop_Parameters\n",
            "        ├ Loop_Metrics\n",
            "        ├ Loop_Metrics_Indices\n",
            "        ├ Loop_Metrics_Values\n",
            "        ├ Projected_Loops\n",
            "        ├ completed_fit_positions\n",
            "        ├ completed_guess_positions\n",
            "      ├ Guess\n",
            "      ├ Spectroscopic_Indices\n",
            "      ├ Spectroscopic_Values\n",
            "      ├ completed_fit_positions\n",
            "      ├ completed_guess_positions\n",
            "      ├ completed_positions\n",
            "    ├ Spatially_Averaged_Plot_Group_000\n",
            "      ---------------------------------\n",
            "      ├ Bin_Frequencies\n",
            "      ├ Max_Response\n",
            "      ├ Mean_Spectrogram\n",
            "      ├ Min_Response\n",
            "      ├ Spectroscopic_Parameter\n",
            "      ├ Step_Averaged_Response\n",
            "    ├ Spatially_Averaged_Plot_Group_001\n",
            "      ---------------------------------\n",
            "      ├ Bin_Frequencies\n",
            "      ├ Max_Response\n",
            "      ├ Mean_Spectrogram\n",
            "      ├ Min_Response\n",
            "      ├ Spectroscopic_Parameter\n",
            "      ├ Step_Averaged_Response\n",
            "    ├ Spectroscopic_Indices\n",
            "    ├ Spectroscopic_Values\n",
            "    ├ UDVS\n",
            "    ├ UDVS_Indices\n"
          ],
          "name": "stdout"
        }
      ]
    },
    {
      "cell_type": "code",
      "metadata": {
        "colab": {
          "base_uri": "https://localhost:8080/"
        },
        "id": "i4QAIm8AT22w",
        "outputId": "3ff312e8-b380-4057-bafd-33f57c79700b"
      },
      "source": [
        "step_chan='DC_Offset'\n",
        "cmap=None\n",
        "\n",
        "h5_projected_loops = sidpy.hdf_utils.find_dataset(h5_file, 'Projected_Loops')[0]\n",
        "h5_loop_guess = sidpy.hdf_utils.find_dataset(h5_file, 'Guess')[-2:][0]\n",
        "h5_loop_fit = sidpy.hdf_utils.find_dataset(h5_file, 'Fit')[-1:][0]\n",
        "\n",
        "# Prepare some variables for plotting loops fits and guesses\n",
        "# Plot the Loop Guess and Fit Results\n",
        "proj_nd, _ = reshape_to_n_dims(h5_projected_loops)\n",
        "guess_nd, _ = reshape_to_n_dims(h5_loop_guess)\n",
        "fit_nd, _ = reshape_to_n_dims(h5_loop_fit)\n",
        "\n",
        "h5_projected_loops = h5_loop_guess.parent['Projected_Loops']\n",
        "h5_proj_spec_inds = get_auxiliary_datasets(h5_projected_loops,\n",
        "                                           aux_dset_name='Spectroscopic_Indices')[-1]\n",
        "h5_proj_spec_vals = get_auxiliary_datasets(h5_projected_loops,\n",
        "                                           aux_dset_name='Spectroscopic_Values')[-1]\n",
        "h5_pos_inds = get_auxiliary_datasets(h5_projected_loops,\n",
        "                                     aux_dset_name='Position_Indices')[-1]\n",
        "pos_nd, _ = reshape_to_n_dims(h5_pos_inds, h5_pos=h5_pos_inds)\n",
        "pos_dims = list(pos_nd.shape[:h5_pos_inds.shape[1]])\n",
        "pos_labels = get_attr(h5_pos_inds, 'labels')\n",
        "\n",
        "\n",
        "# reshape the vdc_vec into DC_step by Loop\n",
        "spec_nd, _ = reshape_to_n_dims(h5_proj_spec_vals, h5_spec=h5_proj_spec_inds)\n",
        "loop_spec_dims = np.array(spec_nd.shape[1:])\n",
        "loop_spec_labels = get_attr(h5_proj_spec_vals, 'labels')\n",
        "\n",
        "spec_step_dim_ind = np.where(loop_spec_labels == step_chan)[0][0]\n",
        "\n",
        "# # move the step dimension to be the first after all position dimensions\n",
        "rest_loop_dim_order = list(range(len(pos_dims), len(proj_nd.shape)))\n",
        "rest_loop_dim_order.pop(spec_step_dim_ind)\n",
        "new_order = list(range(len(pos_dims))) + [len(pos_dims) + spec_step_dim_ind] + rest_loop_dim_order\n",
        "\n",
        "new_spec_order = np.array(new_order[len(pos_dims):], dtype=np.uint32) - len(pos_dims)\n",
        "\n",
        "# Also reshape the projected loops to Positions-DC_Step-Loop\n",
        "final_loop_shape = pos_dims + [loop_spec_dims[spec_step_dim_ind]] + [-1]\n",
        "proj_nd2 = np.moveaxis(proj_nd, spec_step_dim_ind + len(pos_dims), len(pos_dims))\n",
        "proj_nd_3 = np.reshape(proj_nd2, final_loop_shape)\n",
        "\n",
        "# Do the same for the guess and fit datasets\n",
        "guess_3d = np.reshape(guess_nd, pos_dims + [-1])\n",
        "fit_3d = np.reshape(fit_nd, pos_dims + [-1])\n",
        "\n",
        "# Get the bias vector:\n",
        "spec_nd2 = np.moveaxis(spec_nd[spec_step_dim_ind], spec_step_dim_ind, 0)\n",
        "bias_vec = np.reshape(spec_nd2, final_loop_shape[len(pos_dims):])\n",
        "\n",
        "# Shift the bias vector and the loops by a quarter cycle\n",
        "shift_ind = int(-1 * bias_vec.shape[0] / 4)\n",
        "bias_shifted = np.roll(bias_vec, shift_ind, axis=0)\n",
        "proj_nd_shifted = np.roll(proj_nd_3, shift_ind, axis=len(pos_dims))"
      ],
      "execution_count": null,
      "outputs": [
        {
          "output_type": "stream",
          "text": [
            "No spectroscopic datasets found as attributes of /Measurement_000/Channel_000/Position_Indices\n",
            "No position datasets found as attributes of /Measurement_000/Channel_000/Raw_Data-SHO_Fit_000/Spectroscopic_Values\n"
          ],
          "name": "stdout"
        }
      ]
    },
    {
      "cell_type": "code",
      "metadata": {
        "colab": {
          "base_uri": "https://localhost:8080/"
        },
        "id": "d8LziKUST22w",
        "outputId": "0ec0af2d-2edb-4946-e12b-7acd65ea642c"
      },
      "source": [
        "guess_3d.shape"
      ],
      "execution_count": null,
      "outputs": [
        {
          "output_type": "execute_result",
          "data": {
            "text/plain": [
              "(60, 60, 4)"
            ]
          },
          "metadata": {
            "tags": []
          },
          "execution_count": 15
        }
      ]
    },
    {
      "cell_type": "code",
      "metadata": {
        "colab": {
          "base_uri": "https://localhost:8080/",
          "height": 282
        },
        "id": "flRn95q-T22x",
        "outputId": "417a90d0-18a1-4c72-e8c2-fc04dea17454"
      },
      "source": [
        "plt.plot(bias_vec[:,0], proj_nd[20,20,:,1,1])"
      ],
      "execution_count": null,
      "outputs": [
        {
          "output_type": "execute_result",
          "data": {
            "text/plain": [
              "[<matplotlib.lines.Line2D at 0x7f55bb8e5890>]"
            ]
          },
          "metadata": {
            "tags": []
          },
          "execution_count": 16
        },
        {
          "output_type": "display_data",
          "data": {
            "image/png": "[encoded data removed]",
            "text/plain": [
              "<Figure size 432x288 with 1 Axes>"
            ]
          },
          "metadata": {
            "tags": [],
            "needs_background": "light"
          }
        }
      ]
    },
    {
      "cell_type": "code",
      "metadata": {
        "colab": {
          "base_uri": "https://localhost:8080/"
        },
        "id": "bVbWcxy8T22x",
        "outputId": "416c7b1a-24d1-46c1-a0ad-81a492dd7566"
      },
      "source": [
        "proj_nd[20,20,:,1,0].shape"
      ],
      "execution_count": null,
      "outputs": [
        {
          "output_type": "execute_result",
          "data": {
            "text/plain": [
              "(96,)"
            ]
          },
          "metadata": {
            "tags": []
          },
          "execution_count": 17
        }
      ]
    },
    {
      "cell_type": "code",
      "metadata": {
        "colab": {
          "base_uri": "https://localhost:8080/",
          "height": 282
        },
        "id": "xkxJTv9lT22x",
        "outputId": "4b0153bd-9ec4-4469-e180-5a237cde6e60"
      },
      "source": [
        "plt.plot(bias_vec[:,2])"
      ],
      "execution_count": null,
      "outputs": [
        {
          "output_type": "execute_result",
          "data": {
            "text/plain": [
              "[<matplotlib.lines.Line2D at 0x7f55bccb23d0>]"
            ]
          },
          "metadata": {
            "tags": []
          },
          "execution_count": 18
        },
        {
          "output_type": "display_data",
          "data": {
            "image/png": "[encoded data removed]",
            "text/plain": [
              "<Figure size 432x288 with 1 Axes>"
            ]
          },
          "metadata": {
            "tags": [],
            "needs_background": "light"
          }
        }
      ]
    },
    {
      "cell_type": "code",
      "metadata": {
        "colab": {
          "base_uri": "https://localhost:8080/",
          "height": 351
        },
        "id": "txdKxzRST22y",
        "outputId": "99438dcb-40b5-49d1-cdc1-0f6a3a2a9f93"
      },
      "source": [
        "import codes.util.core as core\n",
        "import codes.util.file as file\n",
        "import codes.util.machine_learning as ml\n",
        "import codes.util.dictionary_learning as dl"
      ],
      "execution_count": null,
      "outputs": [
        {
          "output_type": "error",
          "ename": "ModuleNotFoundError",
          "evalue": "ignored",
          "traceback": [
            "\u001b[0;31m---------------------------------------------------------------------------\u001b[0m",
            "\u001b[0;31mModuleNotFoundError\u001b[0m                       Traceback (most recent call last)",
            "\u001b[0;32m<ipython-input-19-6ea5b7c9d1eb>\u001b[0m in \u001b[0;36m<module>\u001b[0;34m\u001b[0m\n\u001b[0;32m----> 1\u001b[0;31m \u001b[0;32mimport\u001b[0m \u001b[0mcodes\u001b[0m\u001b[0;34m.\u001b[0m\u001b[0mutil\u001b[0m\u001b[0;34m.\u001b[0m\u001b[0mcore\u001b[0m \u001b[0;32mas\u001b[0m \u001b[0mcore\u001b[0m\u001b[0;34m\u001b[0m\u001b[0;34m\u001b[0m\u001b[0m\n\u001b[0m\u001b[1;32m      2\u001b[0m \u001b[0;32mimport\u001b[0m \u001b[0mcodes\u001b[0m\u001b[0;34m.\u001b[0m\u001b[0mutil\u001b[0m\u001b[0;34m.\u001b[0m\u001b[0mfile\u001b[0m \u001b[0;32mas\u001b[0m \u001b[0mfile\u001b[0m\u001b[0;34m\u001b[0m\u001b[0;34m\u001b[0m\u001b[0m\n\u001b[1;32m      3\u001b[0m \u001b[0;32mimport\u001b[0m \u001b[0mcodes\u001b[0m\u001b[0;34m.\u001b[0m\u001b[0mutil\u001b[0m\u001b[0;34m.\u001b[0m\u001b[0mmachine_learning\u001b[0m \u001b[0;32mas\u001b[0m \u001b[0mml\u001b[0m\u001b[0;34m\u001b[0m\u001b[0;34m\u001b[0m\u001b[0m\n\u001b[1;32m      4\u001b[0m \u001b[0;32mimport\u001b[0m \u001b[0mcodes\u001b[0m\u001b[0;34m.\u001b[0m\u001b[0mutil\u001b[0m\u001b[0;34m.\u001b[0m\u001b[0mdictionary_learning\u001b[0m \u001b[0;32mas\u001b[0m \u001b[0mdl\u001b[0m\u001b[0;34m\u001b[0m\u001b[0;34m\u001b[0m\u001b[0m\n",
            "\u001b[0;31mModuleNotFoundError\u001b[0m: No module named 'codes'",
            "",
            "\u001b[0;31m---------------------------------------------------------------------------\u001b[0;32m\nNOTE: If your import is failing due to a missing package, you can\nmanually install dependencies using either !pip or !apt.\n\nTo view examples of installing some common dependencies, click the\n\"Open Examples\" button below.\n\u001b[0;31m---------------------------------------------------------------------------\u001b[0m\n"
          ]
        }
      ]
    },
    {
      "cell_type": "code",
      "metadata": {
        "id": "l7zsAgxqT22y"
      },
      "source": [
        "%load_ext autoreload\n",
        "%autoreload 2\n",
        "import tensorflow as tf\n",
        "import numpy as np\n",
        "from skimage import io\n",
        "import string\n",
        "import datetime\n",
        "#import tensorflow_probability as tfp\n",
        "import sys\n",
        "#sys.path.append('/content/pyNSID/')\n",
        "#import pyNSID as nsid\n",
        "import matplotlib.pyplot as plt\n",
        "#import sidpy as sid\n",
        "#import h5py\n",
        "from sklearn.metrics import mean_squared_error\n",
        "from sklearn.metrics import mean_absolute_error\n",
        "from sklearn.cluster import KMeans\n",
        "from os.path import join as pjoin\n",
        "from scipy import ndimage\n",
        "import os\n",
        "from numpy.random import seed\n",
        "from tqdm import tqdm\n",
        "from sklearn.decomposition import PCA, NMF, DictionaryLearning\n",
        "import matplotlib.colors\n",
        "import warnings\n",
        "warnings.filterwarnings('ignore')\n",
        "from matplotlib.ticker import FormatStrFormatter\n",
        "from sklearn.decomposition import NMF\n",
        "from scipy import io as ios\n",
        "import os.path\n",
        "from matplotlib import cm\n",
        "from scipy.signal import savgol_filter as sg\n",
        "from scipy import interpolate\n",
        "from IPython.core.display import display, HTML\n",
        "display(HTML(\"<style>.container { width:100% !important; }</style>\"))\n",
        "import pandas as pd"
      ],
      "execution_count": null,
      "outputs": []
    },
    {
      "cell_type": "code",
      "metadata": {
        "id": "kYPvSYVDT22y"
      },
      "source": [
        "# imports the raw band excitation data dictionary learning\n",
        "imported = {'data': ios.matlab.loadmat('./Data.mat'),\n",
        "            'validation_data': ios.matlab.loadmat('./loop_1.mat')}"
      ],
      "execution_count": null,
      "outputs": []
    },
    {
      "cell_type": "code",
      "metadata": {
        "id": "I1vdK_G4T22z"
      },
      "source": [
        "# extracts the important information from the raw data\n",
        "raw = {'voltage': imported['data']['Voltagedata_mixed'],\n",
        "       'piezoresponse': imported['data']['Loopdata_mixed'],\n",
        "       'amplitude': imported['data']['OutA2_mixed'],\n",
        "       'phase': imported['data']['OutPhi2_mixed'],\n",
        "       'resonance': imported['data']['Outw2_mixed'],\n",
        "       'quality_factor': imported['data']['OutQ2_mixed'],\n",
        "       'val_piezoresponse': imported['validation_data']['piezo_1'],\n",
        "       'val_resonance': imported['validation_data']['resonance_loop_1']}"
      ],
      "execution_count": null,
      "outputs": []
    },
    {
      "cell_type": "code",
      "metadata": {
        "id": "yBMwUQqpT22z"
      },
      "source": [
        "np.random.randint(0,60,2)"
      ],
      "execution_count": null,
      "outputs": []
    },
    {
      "cell_type": "code",
      "metadata": {
        "id": "HUNpA21VT22z"
      },
      "source": [
        "# this transposes the raw data just for compairison\n",
        "raw['val_piezoresponse']= np.transpose(raw['val_piezoresponse'],(1,0,2))"
      ],
      "execution_count": null,
      "outputs": []
    },
    {
      "cell_type": "code",
      "metadata": {
        "id": "KjYvqD7DT220"
      },
      "source": [
        "i = np.random.randint(0,60,2)\n",
        "\n",
        "plt.plot(bias_vec[:,0], proj_nd[i[0],i[1],:,1,0])\n",
        "plt.plot(bias_vec[:,0], proj_nd[i[0],i[1],:,1,1])\n",
        "plt.plot(bias_vec[:,0], raw['val_piezoresponse'][i[0],i[1],:], 'r')\n",
        "plt.plot(bias_vec[:,0], raw['piezoresponse'][i[0],i[1],:], 'r')"
      ],
      "execution_count": null,
      "outputs": []
    },
    {
      "cell_type": "code",
      "metadata": {
        "id": "cw68OV8hT223"
      },
      "source": [
        "plt.plot(bias_vec[:,0], proj_nd_['Frequency [Hz]'][20,20,:,1,1])"
      ],
      "execution_count": null,
      "outputs": []
    },
    {
      "cell_type": "code",
      "metadata": {
        "id": "vfBZkmhYT224"
      },
      "source": [
        "plt.imshow(np.transpose(raw['resonance'],(1,0,2))[:,:,20])"
      ],
      "execution_count": null,
      "outputs": []
    },
    {
      "cell_type": "code",
      "metadata": {
        "id": "S85aWJfST224"
      },
      "source": [
        "plt.imshow(proj_nd_['Frequency [Hz]'][:,:,20,1,0])"
      ],
      "execution_count": null,
      "outputs": []
    },
    {
      "cell_type": "code",
      "metadata": {
        "id": "HvwpWu6BT225"
      },
      "source": [
        "plt.plot(bias_vec[:,0], proj_nd_['Frequency [Hz]'][20,20,:,1,1])\n",
        "plt.plot(bias_vec[:,0], np.transpose(raw['resonance'],(1,0,2))[20,20,:]*1000,'r')"
      ],
      "execution_count": null,
      "outputs": []
    },
    {
      "cell_type": "code",
      "metadata": {
        "id": "0xBTUgeiT225"
      },
      "source": [
        "plt.plot(bias_vec[:,0], np.transpose(raw['resonance'],(1,0,2))[20,20,:],'r')"
      ],
      "execution_count": null,
      "outputs": []
    },
    {
      "cell_type": "code",
      "metadata": {
        "id": "lcuRd5HzT225"
      },
      "source": [
        "i = np.random.randint(0,60,2)\n",
        "\n",
        "plt.plot(bias_vec[:,0], proj_nd[i[0],i[1],:,1,0])\n",
        "plt.plot(bias_vec[:,0], proj_nd[i[0],i[1],:,1,1])\n",
        "plt.plot(vol, raw['val_piezoresponse'][i[0],i[1],:], 'r')\n",
        "plt.plot(vol, raw['piezoresponse'][i[0],i[1],:], 'r')"
      ],
      "execution_count": null,
      "outputs": []
    },
    {
      "cell_type": "code",
      "metadata": {
        "id": "ow2SWpe4T226"
      },
      "source": [
        "#Extract voltage data\n",
        "v_cycle = imported['data']['VoltageDC_mixed'][:,0].squeeze()"
      ],
      "execution_count": null,
      "outputs": []
    },
    {
      "cell_type": "code",
      "metadata": {
        "id": "0HTRkUSIT226"
      },
      "source": [
        "plt.plot(v_cycle)"
      ],
      "execution_count": null,
      "outputs": []
    },
    {
      "cell_type": "code",
      "metadata": {
        "id": "v4Ve7N0iT226"
      },
      "source": [
        "i = np.random.randint(0,60,2)\n",
        "\n",
        "plt.plot(proj_nd[i[0],i[1],:,1,0])\n",
        "plt.plot(proj_nd[i[0],i[1],:,1,1])\n",
        "plt.plot(raw['val_piezoresponse'][i[0],i[1],:], 'r')\n",
        "plt.plot(raw['piezoresponse'][i[0],i[1],:], 'r')"
      ],
      "execution_count": null,
      "outputs": []
    },
    {
      "cell_type": "code",
      "metadata": {
        "id": "UFX2UH_nT227"
      },
      "source": [
        "plt.plot(vol)"
      ],
      "execution_count": null,
      "outputs": []
    },
    {
      "cell_type": "code",
      "metadata": {
        "id": "GuCfuvpdT227"
      },
      "source": [
        "vol = np.load('voltage.npy')"
      ],
      "execution_count": null,
      "outputs": []
    },
    {
      "cell_type": "code",
      "metadata": {
        "id": "d09dvUjKT227"
      },
      "source": [
        "?? sidpy.io.interface_utils.cr"
      ],
      "execution_count": null,
      "outputs": []
    },
    {
      "cell_type": "code",
      "metadata": {
        "id": "8bXm36QnU7W6"
      },
      "source": [
        "?? belib.analysis.BESHOfitter"
      ],
      "execution_count": null,
      "outputs": []
    },
    {
      "cell_type": "code",
      "metadata": {
        "id": "9CmbQTEjXu8h"
      },
      "source": [
        "sidpy.hdf_utils.print_tree(h5_file)"
      ],
      "execution_count": null,
      "outputs": []
    },
    {
      "cell_type": "code",
      "metadata": {
        "id": "w3J2Fp4yYwAH"
      },
      "source": [
        "h5_projected_loops = sidpy.hdf_utils.find_dataset(h5_file, 'Projected_Loops')"
      ],
      "execution_count": null,
      "outputs": []
    },
    {
      "cell_type": "code",
      "metadata": {
        "id": "S5JghMRDeA-q"
      },
      "source": [
        "h5_projected_loops"
      ],
      "execution_count": null,
      "outputs": []
    },
    {
      "cell_type": "code",
      "metadata": {
        "id": "a5ub5cGda0wV"
      },
      "source": [
        "sidpy.hdf.hdf_utils.get_attributes(h5_main.parent.parent)"
      ],
      "execution_count": null,
      "outputs": []
    },
    {
      "cell_type": "code",
      "metadata": {
        "id": "Z460_sLgXjOx"
      },
      "source": [
        "?? write_main_dataset"
      ],
      "execution_count": null,
      "outputs": []
    },
    {
      "cell_type": "code",
      "metadata": {
        "id": "FFemuQSzdxkN"
      },
      "source": [
        "h5_main.shape[0]"
      ],
      "execution_count": null,
      "outputs": []
    },
    {
      "cell_type": "code",
      "metadata": {
        "id": "5BAz3N_rdrip"
      },
      "source": [
        "np.random.randint"
      ],
      "execution_count": null,
      "outputs": []
    },
    {
      "cell_type": "code",
      "metadata": {
        "id": "gk3uDgOcW4BO"
      },
      "source": [
        "h5_result_group = sidpy.hdf.prov_utils.find_results_groups(h5_main, 'Raw_Data-SHO_Fit_000')\n",
        "num_udvs_steps = sidpy.hdf.hdf_utils.get_attributes(h5_main.parent.parent,attr_names='num_udvs_steps')\n",
        "\n",
        "self._h5_guess = write_main_dataset(# The result group where to save the data\n",
        "                                    h5_result_group,\n",
        "                                        (h5_main.shape[0],\n",
        "                                          num_udvs_steps),\n",
        "                                        'Random', # main dataset Name\n",
        "                                        'some_data', # Name of the physical quantity to store\n",
        "                                        'none',\n",
        "                                        None, None,\n",
        "                                        h5_pos_inds=h5_main.h5_pos_inds,\n",
        "                                        h5_pos_vals=h5_main.h5_pos_vals,\n",
        "                                        h5_spec_inds=h5_sho_inds,\n",
        "                                        h5_spec_vals=h5_sho_vals,\n",
        "                                        chunks=(1, num_udvs_steps),\n",
        "                                        dtype=sho32,\n",
        "                                        main_dset_attrs=self.parms_dict)"
      ],
      "execution_count": null,
      "outputs": []
    }
  ]
}