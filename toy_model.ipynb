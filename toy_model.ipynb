{
 "cells": [
  {
   "cell_type": "code",
   "execution_count": 1,
   "metadata": {},
   "outputs": [],
   "source": [
    "# print(K.tensorflow_backend._get_available_gpus())\n",
    "from __future__ import absolute_import, division, print_function, unicode_literals\n",
    "#\n",
    "import tensorflow as tf\n",
    "#import keras.backend.tensorflow_backend as KTF\n",
    "gpu_devices = tf.config.experimental.list_physical_devices('GPU')\n",
    "for device in gpu_devices:\n",
    "    tf.config.experimental.set_memory_growth(device,True)"
   ]
  },
  {
   "cell_type": "code",
   "execution_count": 17,
   "metadata": {},
   "outputs": [
    {
     "data": {
      "text/plain": [
       "<tensorflow.python.eager.context._EagerDeviceContext at 0x7fdb602166d0>"
      ]
     },
     "execution_count": 17,
     "metadata": {},
     "output_type": "execute_result"
    }
   ],
   "source": [
    "tf.device('/device:XLA_GPU:0')"
   ]
  },
  {
   "cell_type": "code",
   "execution_count": 18,
   "metadata": {},
   "outputs": [],
   "source": [
    "import os\n",
    "os.environ[\"CUDA_DEVICE_ORDER\"]=\"PCI_BUS_ID\"   # see issue #152\n",
    "os.environ[\"CUDA_VISIBLE_DEVICES\"]=\"0\""
   ]
  },
  {
   "cell_type": "code",
   "execution_count": 2,
   "metadata": {},
   "outputs": [
    {
     "name": "stdout",
     "output_type": "stream",
     "text": [
      "['/device:CPU:0', '/device:XLA_CPU:0', '/device:XLA_GPU:0', '/device:XLA_GPU:1']\n"
     ]
    }
   ],
   "source": [
    "from tensorflow.python.client import device_lib\n",
    "\n",
    "def get_available_devices():\n",
    "    local_device_protos = device_lib.list_local_devices()\n",
    "    return [x.name for x in local_device_protos]\n",
    "\n",
    "print(get_available_devices())\n"
   ]
  },
  {
   "cell_type": "code",
   "execution_count": 182,
   "metadata": {},
   "outputs": [],
   "source": [
    "import numpy as np\n",
    "import matplotlib\n",
    "import matplotlib.pyplot as plt\n",
    "import tensorflow.keras.layers as layers\n",
    "import tensorflow.keras\n",
    "from tensorflow.keras.models import Model\n",
    "from tensorflow.keras.layers import Input, LSTM, Dense\n",
    "from tensorflow.keras.models import Sequential, Model\n",
    "from tensorflow.keras.layers import (Attention,MaxPool1D,Dense, Conv1D, Convolution2D, GRU, LSTM, Bidirectional, TimeDistributed,\n",
    "                          Dropout, Flatten, LayerNormalization,RepeatVector, Reshape, MaxPooling1D, UpSampling1D, BatchNormalization)\n",
    "from tensorflow.keras.layers import Layer\n",
    "from tensorflow.keras.optimizers import Adam\n",
    "from tensorflow.keras.regularizers import l1, l2\n",
    "from tensorflow.keras.models import load_model\n",
    "from sklearn import preprocessing\n",
    "from tensorflow.keras.models import load_model\n",
    "from sklearn.model_selection import GridSearchCV\n",
    "from tensorflow.keras.wrappers.scikit_learn import KerasClassifier\n",
    "from sklearn import linear_model\n",
    "import pandas as pd\n",
    "import torch\n",
    "import torch.nn as nn\n",
    "import random\n",
    "#from keras import layers as layers\n",
    "import torch.nn.functional as F\n",
    "import torch.optim as optim\n",
    "from torch.autograd import Variable\n",
    "from scipy import special\n",
    "import torchvision.datasets as dsets\n",
    "import torchvision.transforms as transforms\n",
    "import tensorflow as tf\n",
    "import tensorflow.keras.backend as K\n",
    "from tensorflow.keras.callbacks import ModelCheckpoint\n",
    "#from keras_self_attention import SeqSelfAttention\n",
    "\n",
    "from sklearn.preprocessing import StandardScaler"
   ]
  },
  {
   "cell_type": "code",
   "execution_count": 198,
   "metadata": {},
   "outputs": [],
   "source": [
    "from keras.datasets import mnist\n",
    "import numpy as np\n",
    "(x_train, y_train), (x_test, y_test) = mnist.load_data()"
   ]
  },
  {
   "cell_type": "code",
   "execution_count": 199,
   "metadata": {},
   "outputs": [],
   "source": [
    "scaler = StandardScaler()\n",
    "\n",
    "x_train = x_train.reshape((len(x_train), np.prod(x_train.shape[1:])))\n",
    "x_test = x_test.reshape((len(x_test), np.prod(x_test.shape[1:])))\n",
    "\n",
    "x_train = scaler.fit_transform(x_train.astype('float32')) \n",
    "x_test = scaler.transform(x_test.astype('float32'))"
   ]
  },
  {
   "cell_type": "code",
   "execution_count": 200,
   "metadata": {},
   "outputs": [
    {
     "data": {
      "text/plain": [
       "<matplotlib.colorbar.Colorbar at 0x7fdb92fa5fd0>"
      ]
     },
     "execution_count": 200,
     "metadata": {},
     "output_type": "execute_result"
    },
    {
     "data": {
      "image/png": "[encoded data removed]",
      "text/plain": [
       "<Figure size 432x288 with 2 Axes>"
      ]
     },
     "metadata": {
      "needs_background": "light"
     },
     "output_type": "display_data"
    }
   ],
   "source": [
    "plt.imshow(x_test[0,:].reshape(28,28))\n",
    "plt.colorbar()"
   ]
  },
  {
   "cell_type": "code",
   "execution_count": null,
   "metadata": {},
   "outputs": [],
   "source": []
  },
  {
   "cell_type": "code",
   "execution_count": 12,
   "metadata": {},
   "outputs": [],
   "source": [
    "def encode_identity_block(n_step=784,lr = 3e-4, drop_frac=0, l1_norm  = 0):\n",
    "    \n",
    "    X_input = layers.Input(shape=(n_step,1))\n",
    "    X = X_input\n",
    "    X = layers.Dense(24,activation='relu',name= 'encoder_dense')(X)\n",
    "   # X = layers.add([X, X_shortcut])\n",
    "    X = layers.BatchNormalization(axis=1)(X)\n",
    "    X = layers.Activation('relu')(X) \n",
    "    model = Model(inputs=X_input, outputs=X, name='ResNet50')\n",
    "    model.compile(Adam(lr), loss='mse')\n",
    "    return model\n"
   ]
  },
  {
   "cell_type": "code",
   "execution_count": 13,
   "metadata": {},
   "outputs": [],
   "source": [
    "encoderlayer = encode_identity_block()"
   ]
  },
  {
   "cell_type": "code",
   "execution_count": 14,
   "metadata": {},
   "outputs": [
    {
     "name": "stdout",
     "output_type": "stream",
     "text": [
      "Model: \"ResNet50\"\n",
      "_________________________________________________________________\n",
      "Layer (type)                 Output Shape              Param #   \n",
      "=================================================================\n",
      "input_3 (InputLayer)         [(None, 784, 1)]          0         \n",
      "_________________________________________________________________\n",
      "encoder_dense (Dense)        (None, 784, 24)           48        \n",
      "_________________________________________________________________\n",
      "batch_normalization_2 (Batch (None, 784, 24)           3136      \n",
      "_________________________________________________________________\n",
      "activation_2 (Activation)    (None, 784, 24)           0         \n",
      "=================================================================\n",
      "Total params: 3,184\n",
      "Trainable params: 1,616\n",
      "Non-trainable params: 1,568\n",
      "_________________________________________________________________\n"
     ]
    }
   ],
   "source": [
    "encoderlayer.summary()"
   ]
  },
  {
   "cell_type": "code",
   "execution_count": 42,
   "metadata": {},
   "outputs": [
    {
     "name": "stdout",
     "output_type": "stream",
     "text": [
      "Model: \"model_5\"\n",
      "_________________________________________________________________\n",
      "Layer (type)                 Output Shape              Param #   \n",
      "=================================================================\n",
      "input_8 (InputLayer)         [(None, 784)]             0         \n",
      "_________________________________________________________________\n",
      "dense_24 (Dense)             (None, 128)               100480    \n",
      "_________________________________________________________________\n",
      "dense_25 (Dense)             (None, 64)                8256      \n",
      "_________________________________________________________________\n",
      "dense_26 (Dense)             (None, 32)                2080      \n",
      "_________________________________________________________________\n",
      "dense_27 (Dense)             (None, 16)                528       \n",
      "_________________________________________________________________\n",
      "dense_28 (Dense)             (None, 64)                1088      \n",
      "_________________________________________________________________\n",
      "dense_29 (Dense)             (None, 128)               8320      \n",
      "_________________________________________________________________\n",
      "dense_30 (Dense)             (None, 784)               101136    \n",
      "=================================================================\n",
      "Total params: 221,888\n",
      "Trainable params: 221,888\n",
      "Non-trainable params: 0\n",
      "_________________________________________________________________\n"
     ]
    }
   ],
   "source": [
    "autoencoder.summary()"
   ]
  },
  {
   "cell_type": "code",
   "execution_count": 108,
   "metadata": {},
   "outputs": [],
   "source": [
    "layer_name = 'dense_55'\n",
    "intermediate_layer_model = Model(inputs=autoencoder.input,\n",
    "                                 outputs=autoencoder.get_layer(layer_name).output)\n",
    "intermediate_output = intermediate_layer_model.predict(x_test_3d)"
   ]
  },
  {
   "cell_type": "code",
   "execution_count": 112,
   "metadata": {},
   "outputs": [
    {
     "data": {
      "text/plain": [
       "(10000, 16)"
      ]
     },
     "execution_count": 112,
     "metadata": {},
     "output_type": "execute_result"
    }
   ],
   "source": [
    "intermediate_output.shape"
   ]
  },
  {
   "cell_type": "code",
   "execution_count": 110,
   "metadata": {},
   "outputs": [
    {
     "data": {
      "text/plain": [
       "(32, 16)"
      ]
     },
     "execution_count": 110,
     "metadata": {},
     "output_type": "execute_result"
    }
   ],
   "source": [
    "autoencoder.get_layer('dense_55').get_weights()[0].shape"
   ]
  },
  {
   "cell_type": "code",
   "execution_count": 43,
   "metadata": {},
   "outputs": [
    {
     "ename": "TypeError",
     "evalue": "'list' object is not callable",
     "output_type": "error",
     "traceback": [
      "\u001b[0;31m---------------------------------------------------------------------------\u001b[0m",
      "\u001b[0;31mTypeError\u001b[0m                                 Traceback (most recent call last)",
      "\u001b[0;32m<ipython-input-43-5b0620a1f81c>\u001b[0m in \u001b[0;36m<module>\u001b[0;34m\u001b[0m\n\u001b[0;32m----> 1\u001b[0;31m \u001b[0mautoencoder\u001b[0m\u001b[0;34m.\u001b[0m\u001b[0mlayers\u001b[0m\u001b[0;34m(\u001b[0m\u001b[0;34m'dense_27'\u001b[0m\u001b[0;34m)\u001b[0m\u001b[0;34m\u001b[0m\u001b[0;34m\u001b[0m\u001b[0m\n\u001b[0m",
      "\u001b[0;31mTypeError\u001b[0m: 'list' object is not callable"
     ]
    }
   ],
   "source": [
    "autoencoder.layers('dense_27')"
   ]
  },
  {
   "cell_type": "code",
   "execution_count": 35,
   "metadata": {},
   "outputs": [],
   "source": [
    "input_img = Input(shape=(784,))\n",
    "encoded = Dense(128, activation='relu')(input_img)\n",
    "encoded = Dense(64, activation='relu')(encoded)\n",
    "encoded = Dense(32, activation='relu')(encoded)\n",
    "\n",
    "\n",
    "embedding = Dense(16, activation='relu',activity_regularizer=l1(1e-4))(encoded)\n",
    "\n",
    "decoded = Dense(64, activation='relu')(embedding)\n",
    "decoded = Dense(128, activation='relu')(decoded)\n",
    "decoded = Dense(784, activation='relu')(decoded)"
   ]
  },
  {
   "cell_type": "code",
   "execution_count": 36,
   "metadata": {},
   "outputs": [],
   "source": [
    "autoencoder = Model(input_img, decoded)\n",
    "autoencoder.compile(optimizer='adam', loss='mse')"
   ]
  },
  {
   "cell_type": "code",
   "execution_count": 37,
   "metadata": {},
   "outputs": [
    {
     "name": "stdout",
     "output_type": "stream",
     "text": [
      "Train on 60000 samples, validate on 10000 samples\n",
      "Epoch 1/50\n",
      "60000/60000 [==============================] - 2s 36us/sample - loss: 0.0536 - val_loss: 0.0371\n",
      "Epoch 2/50\n",
      "60000/60000 [==============================] - 1s 21us/sample - loss: 0.0327 - val_loss: 0.0292\n",
      "Epoch 3/50\n",
      "60000/60000 [==============================] - 1s 21us/sample - loss: 0.0277 - val_loss: 0.0260\n",
      "Epoch 4/50\n",
      "60000/60000 [==============================] - 1s 20us/sample - loss: 0.0254 - val_loss: 0.0242\n",
      "Epoch 5/50\n",
      "60000/60000 [==============================] - 1s 21us/sample - loss: 0.0241 - val_loss: 0.0234\n",
      "Epoch 6/50\n",
      "60000/60000 [==============================] - 1s 21us/sample - loss: 0.0233 - val_loss: 0.0229\n",
      "Epoch 7/50\n",
      "60000/60000 [==============================] - 1s 21us/sample - loss: 0.0227 - val_loss: 0.0222\n",
      "Epoch 8/50\n",
      "60000/60000 [==============================] - 1s 21us/sample - loss: 0.0222 - val_loss: 0.0217\n",
      "Epoch 9/50\n",
      "60000/60000 [==============================] - 1s 22us/sample - loss: 0.0218 - val_loss: 0.0214\n",
      "Epoch 10/50\n",
      "60000/60000 [==============================] - 1s 21us/sample - loss: 0.0214 - val_loss: 0.0211\n",
      "Epoch 11/50\n",
      "60000/60000 [==============================] - 1s 20us/sample - loss: 0.0212 - val_loss: 0.0207\n",
      "Epoch 12/50\n",
      "60000/60000 [==============================] - 1s 21us/sample - loss: 0.0206 - val_loss: 0.0204\n",
      "Epoch 13/50\n",
      "60000/60000 [==============================] - 1s 21us/sample - loss: 0.0204 - val_loss: 0.0202\n",
      "Epoch 14/50\n",
      "60000/60000 [==============================] - 1s 21us/sample - loss: 0.0202 - val_loss: 0.0199\n",
      "Epoch 15/50\n",
      "60000/60000 [==============================] - 1s 21us/sample - loss: 0.0200 - val_loss: 0.0199\n",
      "Epoch 16/50\n",
      "60000/60000 [==============================] - 1s 21us/sample - loss: 0.0198 - val_loss: 0.0196\n",
      "Epoch 17/50\n",
      "60000/60000 [==============================] - 1s 22us/sample - loss: 0.0196 - val_loss: 0.0194\n",
      "Epoch 18/50\n",
      "60000/60000 [==============================] - 2s 30us/sample - loss: 0.0194 - val_loss: 0.0193\n",
      "Epoch 19/50\n",
      "60000/60000 [==============================] - 1s 18us/sample - loss: 0.0192 - val_loss: 0.0191\n",
      "Epoch 20/50\n",
      "60000/60000 [==============================] - 1s 21us/sample - loss: 0.0191 - val_loss: 0.0188\n",
      "Epoch 21/50\n",
      "60000/60000 [==============================] - 1s 21us/sample - loss: 0.0189 - val_loss: 0.0189\n",
      "Epoch 22/50\n",
      "60000/60000 [==============================] - 1s 21us/sample - loss: 0.0188 - val_loss: 0.0188\n",
      "Epoch 23/50\n",
      "60000/60000 [==============================] - 1s 21us/sample - loss: 0.0187 - val_loss: 0.0186\n",
      "Epoch 24/50\n",
      "60000/60000 [==============================] - 1s 21us/sample - loss: 0.0186 - val_loss: 0.0186\n",
      "Epoch 25/50\n",
      "60000/60000 [==============================] - 1s 22us/sample - loss: 0.0185 - val_loss: 0.0187\n",
      "Epoch 26/50\n",
      "60000/60000 [==============================] - 1s 21us/sample - loss: 0.0184 - val_loss: 0.0184\n",
      "Epoch 27/50\n",
      "60000/60000 [==============================] - 1s 21us/sample - loss: 0.0183 - val_loss: 0.0183\n",
      "Epoch 28/50\n",
      "60000/60000 [==============================] - 1s 21us/sample - loss: 0.0183 - val_loss: 0.0185\n",
      "Epoch 29/50\n",
      "60000/60000 [==============================] - 1s 22us/sample - loss: 0.0182 - val_loss: 0.0182\n",
      "Epoch 30/50\n",
      "60000/60000 [==============================] - 1s 21us/sample - loss: 0.0181 - val_loss: 0.0182\n",
      "Epoch 31/50\n",
      "60000/60000 [==============================] - 1s 21us/sample - loss: 0.0180 - val_loss: 0.0181\n",
      "Epoch 32/50\n",
      "60000/60000 [==============================] - 1s 21us/sample - loss: 0.0179 - val_loss: 0.0181\n",
      "Epoch 33/50\n",
      "60000/60000 [==============================] - 1s 21us/sample - loss: 0.0179 - val_loss: 0.0179\n",
      "Epoch 34/50\n",
      "60000/60000 [==============================] - 1s 21us/sample - loss: 0.0178 - val_loss: 0.0179\n",
      "Epoch 35/50\n",
      "60000/60000 [==============================] - 1s 21us/sample - loss: 0.0178 - val_loss: 0.0179\n",
      "Epoch 36/50\n",
      "60000/60000 [==============================] - 1s 21us/sample - loss: 0.0177 - val_loss: 0.0177\n",
      "Epoch 37/50\n",
      "60000/60000 [==============================] - 1s 21us/sample - loss: 0.0176 - val_loss: 0.0176\n",
      "Epoch 38/50\n",
      "60000/60000 [==============================] - 1s 21us/sample - loss: 0.0175 - val_loss: 0.0175\n",
      "Epoch 39/50\n",
      "60000/60000 [==============================] - 1s 21us/sample - loss: 0.0174 - val_loss: 0.0176\n",
      "Epoch 40/50\n",
      "60000/60000 [==============================] - 1s 21us/sample - loss: 0.0173 - val_loss: 0.0174\n",
      "Epoch 41/50\n",
      "60000/60000 [==============================] - 1s 21us/sample - loss: 0.0172 - val_loss: 0.0173\n",
      "Epoch 42/50\n",
      "60000/60000 [==============================] - 1s 21us/sample - loss: 0.0172 - val_loss: 0.0172\n",
      "Epoch 43/50\n",
      "60000/60000 [==============================] - 1s 21us/sample - loss: 0.0171 - val_loss: 0.0171\n",
      "Epoch 44/50\n",
      "60000/60000 [==============================] - 1s 21us/sample - loss: 0.0170 - val_loss: 0.0171\n",
      "Epoch 45/50\n",
      "60000/60000 [==============================] - 1s 21us/sample - loss: 0.0169 - val_loss: 0.0170\n",
      "Epoch 46/50\n",
      "60000/60000 [==============================] - 1s 21us/sample - loss: 0.0169 - val_loss: 0.0170\n",
      "Epoch 47/50\n",
      "60000/60000 [==============================] - 1s 21us/sample - loss: 0.0169 - val_loss: 0.0169\n",
      "Epoch 48/50\n",
      "60000/60000 [==============================] - 1s 21us/sample - loss: 0.0168 - val_loss: 0.0171\n",
      "Epoch 49/50\n",
      "60000/60000 [==============================] - 1s 21us/sample - loss: 0.0168 - val_loss: 0.0169\n",
      "Epoch 50/50\n",
      "60000/60000 [==============================] - 1s 21us/sample - loss: 0.0167 - val_loss: 0.0168\n"
     ]
    },
    {
     "data": {
      "text/plain": [
       "<tensorflow.python.keras.callbacks.History at 0x7fadec43e510>"
      ]
     },
     "execution_count": 37,
     "metadata": {},
     "output_type": "execute_result"
    }
   ],
   "source": [
    "autoencoder.fit(x_train, x_train,\n",
    "                epochs=50,\n",
    "                batch_size=256,\n",
    "                shuffle=True,\n",
    "                validation_data=(x_test, x_test))"
   ]
  },
  {
   "cell_type": "code",
   "execution_count": 38,
   "metadata": {},
   "outputs": [],
   "source": [
    "decoded_imgs = autoencoder.predict(x_test)"
   ]
  },
  {
   "cell_type": "code",
   "execution_count": null,
   "metadata": {},
   "outputs": [],
   "source": []
  },
  {
   "cell_type": "code",
   "execution_count": null,
   "metadata": {},
   "outputs": [],
   "source": []
  },
  {
   "cell_type": "code",
   "execution_count": null,
   "metadata": {},
   "outputs": [],
   "source": []
  },
  {
   "cell_type": "code",
   "execution_count": null,
   "metadata": {},
   "outputs": [],
   "source": []
  },
  {
   "cell_type": "code",
   "execution_count": 30,
   "metadata": {},
   "outputs": [
    {
     "data": {
      "image/png": "[encoded data removed]",
      "text/plain": [
       "<Figure size 1440x288 with 20 Axes>"
      ]
     },
     "metadata": {
      "needs_background": "light"
     },
     "output_type": "display_data"
    }
   ],
   "source": [
    "# use Matplotlib (don't ask)\n",
    "import matplotlib.pyplot as plt\n",
    "\n",
    "n = 10  # how many digits we will display\n",
    "plt.figure(figsize=(20, 4))\n",
    "for i in range(n):\n",
    "    # display original\n",
    "    ax = plt.subplot(2, n, i + 1)\n",
    "    plt.imshow(x_test[i].reshape(28, 28))\n",
    "    plt.gray()\n",
    "    ax.get_xaxis().set_visible(False)\n",
    "    ax.get_yaxis().set_visible(False)\n",
    "\n",
    "    # display reconstruction\n",
    "    ax = plt.subplot(2, n, i + 1 + n)\n",
    "    plt.imshow(decoded_imgs[i].reshape(28, 28))\n",
    "    plt.gray()\n",
    "    ax.get_xaxis().set_visible(False)\n",
    "    ax.get_yaxis().set_visible(False)\n",
    "plt.show()"
   ]
  },
  {
   "cell_type": "code",
   "execution_count": 39,
   "metadata": {},
   "outputs": [
    {
     "data": {
      "image/png": "[encoded data removed]",
      "text/plain": [
       "<Figure size 1440x288 with 20 Axes>"
      ]
     },
     "metadata": {
      "needs_background": "light"
     },
     "output_type": "display_data"
    }
   ],
   "source": [
    "import matplotlib.pyplot as plt\n",
    "\n",
    "n = 10  # how many digits we will display\n",
    "plt.figure(figsize=(20, 4))\n",
    "for i in range(n):\n",
    "    # display original\n",
    "    ax = plt.subplot(2, n, i + 1)\n",
    "    plt.imshow(x_test[i].reshape(28, 28))\n",
    "    plt.gray()\n",
    "    ax.get_xaxis().set_visible(False)\n",
    "    ax.get_yaxis().set_visible(False)\n",
    "\n",
    "    # display reconstruction\n",
    "    ax = plt.subplot(2, n, i + 1 + n)\n",
    "    plt.imshow(decoded_imgs[i].reshape(28, 28))\n",
    "    plt.gray()\n",
    "    ax.get_xaxis().set_visible(False)\n",
    "    ax.get_yaxis().set_visible(False)\n",
    "plt.show()"
   ]
  },
  {
   "cell_type": "code",
   "execution_count": null,
   "metadata": {},
   "outputs": [],
   "source": [
    "x = tf.transpose(x, (0, 2, 1)) "
   ]
  },
  {
   "cell_type": "code",
   "execution_count": 90,
   "metadata": {},
   "outputs": [],
   "source": [
    "input_img = Input(shape=(784,1))\n",
    "encoded = Dense(256, activation='relu')(input_img)\n",
    "encoded = tf.transpose(encoded, (0, 2, 1)) \n",
    "encoded = Conv1D(128, kernel_size = 2, strides=2, activation='relu',data_format='channels_last')(encoded)\n",
    "#encoded = Conv1D(64, kernel_size = 2,strides=2, activation='relu',data_format='channels_first')(encoded)\n",
    "encoded = Conv1D(32, kernel_size = 2,strides=2, activation='relu',data_format='channels_last')(encoded)\n",
    "\n",
    "encoded = tf.transpose(encoded, (0, 2, 1))\n",
    "encoded = Bidirectional(LSTM(16, return_sequences=False,\n",
    "                             activity_regularizer=l1(1e-4)))(encoded)\n",
    "\n",
    "\n",
    "embedding = Dense(16, activation='relu',activity_regularizer=l1(1e-4))(encoded)\n",
    "repeat = RepeatVector(64)(embedding)\n",
    "\n",
    "\n",
    "repeat = tf.transpose(repeat,(0,2,1))\n",
    "attention = Attention()([repeat,repeat])\n",
    "\n",
    "decoded = Conv1D(64, kernel_size = 2,strides=2, activation='relu',data_format='channels_last')(attention)\n",
    "decoded = Conv1D(128, kernel_size = 2,strides=2, activation='relu',data_format='channels_last')(decoded)\n",
    "decoded = Conv1D(784, kernel_size = 2,strides=2, activation='relu',data_format='channels_last')(decoded)\n",
    "#decoded = Conv1D(784, kernel_size = 2,strides=2, activation='relu',data_format='channels_first')(decoded)\n",
    "decoded = tf.transpose(decoded, (0, 2, 1))\n",
    "# decoded = Bidirectional(LSTM(392, return_sequences=False,\n",
    "#                              activity_regularizer=l1(1e-4)))(decoded)\n",
    "decoded = Dense(1,activation='linear')(decoded)"
   ]
  },
  {
   "cell_type": "code",
   "execution_count": 91,
   "metadata": {},
   "outputs": [],
   "source": [
    "autoencoder = Model(input_img, decoded)\n",
    "autoencoder.compile(optimizer='adam', loss='mse')"
   ]
  },
  {
   "cell_type": "code",
   "execution_count": 81,
   "metadata": {},
   "outputs": [
    {
     "data": {
      "text/plain": [
       "TensorShape([None, None, 784, 1])"
      ]
     },
     "execution_count": 81,
     "metadata": {},
     "output_type": "execute_result"
    }
   ],
   "source": [
    "input_img.shape"
   ]
  },
  {
   "cell_type": "code",
   "execution_count": 84,
   "metadata": {},
   "outputs": [
    {
     "data": {
      "text/plain": [
       "[<matplotlib.lines.Line2D at 0x7fdb97c8fc90>]"
      ]
     },
     "execution_count": 84,
     "metadata": {},
     "output_type": "execute_result"
    },
    {
     "data": {
      "image/png": "[encoded data removed]",
      "text/plain": [
       "<Figure size 432x288 with 1 Axes>"
      ]
     },
     "metadata": {
      "needs_background": "light"
     },
     "output_type": "display_data"
    }
   ],
   "source": [
    "plt.plot(x_test[0,:])"
   ]
  },
  {
   "cell_type": "code",
   "execution_count": 127,
   "metadata": {},
   "outputs": [],
   "source": []
  },
  {
   "cell_type": "code",
   "execution_count": 135,
   "metadata": {},
   "outputs": [],
   "source": [
    "from keras.layers import Input, Dense, Conv2D, MaxPooling2D, UpSampling2D\n",
    "from keras.models import Model\n",
    "from keras import backend as K\n",
    "\n",
    "input_img = Input(shape=(28, 28, 1))  # adapt this if using `channels_first` image data format\n",
    "x = Conv2D(16, (3, 3), activation='relu', padding='same')(input_img)\n",
    "x = MaxPooling2D((2, 2), padding='same')(x)\n",
    "x = Conv2D(8, (3, 3), activation='relu', padding='same')(x)\n",
    "x = MaxPooling2D((2, 2), padding='same')(x)\n",
    "x = Conv2D(8, (3, 3), activation='relu', padding='same')(x)\n",
    "encoded = MaxPooling2D((2, 2), padding='same')(x)\n",
    "\n",
    "# at this point the representation is (4, 4, 8) i.e. 128-dimensional\n",
    "\n",
    "x = Conv2D(8, (3, 3), activation='relu', padding='same')(encoded)\n",
    "x = UpSampling2D((2, 2))(x)\n",
    "x = Conv2D(8, (3, 3), activation='relu', padding='same')(x)\n",
    "x = UpSampling2D((2, 2))(x)\n",
    "x = Conv2D(16, (3, 3), activation='relu')(x)\n",
    "x = UpSampling2D((2, 2))(x)\n",
    "decoded = Conv2D(1, (3, 3), activation='sigmoid', padding='same')(x)\n",
    "\n",
    "autoencoder = Model(input_img, decoded)\n",
    "autoencoder.compile(optimizer='adadelta', loss='binary_crossentropy')"
   ]
  },
  {
   "cell_type": "code",
   "execution_count": 136,
   "metadata": {},
   "outputs": [],
   "source": [
    "from keras.datasets import mnist\n",
    "import numpy as np\n",
    "\n",
    "(x_train, _), (x_test, _) = mnist.load_data()\n",
    "\n",
    "x_train = x_train.astype('float32') / 255.\n",
    "x_test = x_test.astype('float32') / 255.\n",
    "x_train = np.reshape(x_train, (len(x_train), 28, 28, 1))  # adapt this if using `channels_first` image data format\n",
    "x_test = np.reshape(x_test, (len(x_test), 28, 28, 1))  # adapt this if using `channels_first` image data format"
   ]
  },
  {
   "cell_type": "code",
   "execution_count": 137,
   "metadata": {},
   "outputs": [
    {
     "data": {
      "text/plain": [
       "(60000, 28, 28, 1)"
      ]
     },
     "execution_count": 137,
     "metadata": {},
     "output_type": "execute_result"
    }
   ],
   "source": [
    "x_train.shape"
   ]
  },
  {
   "cell_type": "code",
   "execution_count": 138,
   "metadata": {},
   "outputs": [
    {
     "name": "stdout",
     "output_type": "stream",
     "text": [
      "Train on 60000 samples, validate on 10000 samples\n",
      "Epoch 1/50\n",
      "60000/60000 [==============================] - 16s 271us/step - loss: 0.2156 - val_loss: 0.1649\n",
      "Epoch 2/50\n",
      "18304/60000 [========>.....................] - ETA: 10s - loss: 0.1633"
     ]
    },
    {
     "ename": "KeyboardInterrupt",
     "evalue": "",
     "output_type": "error",
     "traceback": [
      "\u001b[0;31m---------------------------------------------------------------------------\u001b[0m",
      "\u001b[0;31mKeyboardInterrupt\u001b[0m                         Traceback (most recent call last)",
      "\u001b[0;32m<ipython-input-138-dcb374fd4a68>\u001b[0m in \u001b[0;36m<module>\u001b[0;34m\u001b[0m\n\u001b[1;32m      3\u001b[0m                 \u001b[0mbatch_size\u001b[0m\u001b[0;34m=\u001b[0m\u001b[0;36m128\u001b[0m\u001b[0;34m,\u001b[0m\u001b[0;34m\u001b[0m\u001b[0;34m\u001b[0m\u001b[0m\n\u001b[1;32m      4\u001b[0m                 \u001b[0mshuffle\u001b[0m\u001b[0;34m=\u001b[0m\u001b[0;32mTrue\u001b[0m\u001b[0;34m,\u001b[0m\u001b[0;34m\u001b[0m\u001b[0;34m\u001b[0m\u001b[0m\n\u001b[0;32m----> 5\u001b[0;31m                 validation_data=(x_test, x_test))\n\u001b[0m",
      "\u001b[0;32m~/anaconda3/lib/python3.7/site-packages/keras/engine/training.py\u001b[0m in \u001b[0;36mfit\u001b[0;34m(self, x, y, batch_size, epochs, verbose, callbacks, validation_split, validation_data, shuffle, class_weight, sample_weight, initial_epoch, steps_per_epoch, validation_steps, validation_freq, max_queue_size, workers, use_multiprocessing, **kwargs)\u001b[0m\n\u001b[1;32m   1237\u001b[0m                                         \u001b[0msteps_per_epoch\u001b[0m\u001b[0;34m=\u001b[0m\u001b[0msteps_per_epoch\u001b[0m\u001b[0;34m,\u001b[0m\u001b[0;34m\u001b[0m\u001b[0;34m\u001b[0m\u001b[0m\n\u001b[1;32m   1238\u001b[0m                                         \u001b[0mvalidation_steps\u001b[0m\u001b[0;34m=\u001b[0m\u001b[0mvalidation_steps\u001b[0m\u001b[0;34m,\u001b[0m\u001b[0;34m\u001b[0m\u001b[0;34m\u001b[0m\u001b[0m\n\u001b[0;32m-> 1239\u001b[0;31m                                         validation_freq=validation_freq)\n\u001b[0m\u001b[1;32m   1240\u001b[0m \u001b[0;34m\u001b[0m\u001b[0m\n\u001b[1;32m   1241\u001b[0m     def evaluate(self,\n",
      "\u001b[0;32m~/anaconda3/lib/python3.7/site-packages/keras/engine/training_arrays.py\u001b[0m in \u001b[0;36mfit_loop\u001b[0;34m(model, fit_function, fit_inputs, out_labels, batch_size, epochs, verbose, callbacks, val_function, val_inputs, shuffle, initial_epoch, steps_per_epoch, validation_steps, validation_freq)\u001b[0m\n\u001b[1;32m    190\u001b[0m                                     'pass shuffle=\"batch\".')\n\u001b[1;32m    191\u001b[0m                 \u001b[0mbatch_logs\u001b[0m \u001b[0;34m=\u001b[0m \u001b[0;34m{\u001b[0m\u001b[0;34m'batch'\u001b[0m\u001b[0;34m:\u001b[0m \u001b[0mbatch_index\u001b[0m\u001b[0;34m,\u001b[0m \u001b[0;34m'size'\u001b[0m\u001b[0;34m:\u001b[0m \u001b[0mlen\u001b[0m\u001b[0;34m(\u001b[0m\u001b[0mbatch_ids\u001b[0m\u001b[0;34m)\u001b[0m\u001b[0;34m}\u001b[0m\u001b[0;34m\u001b[0m\u001b[0;34m\u001b[0m\u001b[0m\n\u001b[0;32m--> 192\u001b[0;31m                 \u001b[0mcallbacks\u001b[0m\u001b[0;34m.\u001b[0m\u001b[0m_call_batch_hook\u001b[0m\u001b[0;34m(\u001b[0m\u001b[0;34m'train'\u001b[0m\u001b[0;34m,\u001b[0m \u001b[0;34m'begin'\u001b[0m\u001b[0;34m,\u001b[0m \u001b[0mbatch_index\u001b[0m\u001b[0;34m,\u001b[0m \u001b[0mbatch_logs\u001b[0m\u001b[0;34m)\u001b[0m\u001b[0;34m\u001b[0m\u001b[0;34m\u001b[0m\u001b[0m\n\u001b[0m\u001b[1;32m    193\u001b[0m                 \u001b[0;32mfor\u001b[0m \u001b[0mi\u001b[0m \u001b[0;32min\u001b[0m \u001b[0mindices_for_conversion_to_dense\u001b[0m\u001b[0;34m:\u001b[0m\u001b[0;34m\u001b[0m\u001b[0;34m\u001b[0m\u001b[0m\n\u001b[1;32m    194\u001b[0m                     \u001b[0mins_batch\u001b[0m\u001b[0;34m[\u001b[0m\u001b[0mi\u001b[0m\u001b[0;34m]\u001b[0m \u001b[0;34m=\u001b[0m \u001b[0mins_batch\u001b[0m\u001b[0;34m[\u001b[0m\u001b[0mi\u001b[0m\u001b[0;34m]\u001b[0m\u001b[0;34m.\u001b[0m\u001b[0mtoarray\u001b[0m\u001b[0;34m(\u001b[0m\u001b[0;34m)\u001b[0m\u001b[0;34m\u001b[0m\u001b[0;34m\u001b[0m\u001b[0m\n",
      "\u001b[0;32m~/anaconda3/lib/python3.7/site-packages/keras/callbacks/callbacks.py\u001b[0m in \u001b[0;36m_call_batch_hook\u001b[0;34m(self, mode, hook, batch, logs)\u001b[0m\n\u001b[1;32m     86\u001b[0m         \u001b[0mself\u001b[0m\u001b[0;34m.\u001b[0m\u001b[0m_delta_ts\u001b[0m\u001b[0;34m[\u001b[0m\u001b[0mhook_name\u001b[0m\u001b[0;34m]\u001b[0m\u001b[0;34m.\u001b[0m\u001b[0mappend\u001b[0m\u001b[0;34m(\u001b[0m\u001b[0mtime\u001b[0m\u001b[0;34m.\u001b[0m\u001b[0mtime\u001b[0m\u001b[0;34m(\u001b[0m\u001b[0;34m)\u001b[0m \u001b[0;34m-\u001b[0m \u001b[0mt_before_callbacks\u001b[0m\u001b[0;34m)\u001b[0m\u001b[0;34m\u001b[0m\u001b[0;34m\u001b[0m\u001b[0m\n\u001b[1;32m     87\u001b[0m \u001b[0;34m\u001b[0m\u001b[0m\n\u001b[0;32m---> 88\u001b[0;31m         \u001b[0mdelta_t_median\u001b[0m \u001b[0;34m=\u001b[0m \u001b[0mnp\u001b[0m\u001b[0;34m.\u001b[0m\u001b[0mmedian\u001b[0m\u001b[0;34m(\u001b[0m\u001b[0mself\u001b[0m\u001b[0;34m.\u001b[0m\u001b[0m_delta_ts\u001b[0m\u001b[0;34m[\u001b[0m\u001b[0mhook_name\u001b[0m\u001b[0;34m]\u001b[0m\u001b[0;34m)\u001b[0m\u001b[0;34m\u001b[0m\u001b[0;34m\u001b[0m\u001b[0m\n\u001b[0m\u001b[1;32m     89\u001b[0m         if (self._delta_t_batch > 0. and\n\u001b[1;32m     90\u001b[0m            \u001b[0mdelta_t_median\u001b[0m \u001b[0;34m>\u001b[0m \u001b[0;36m0.95\u001b[0m \u001b[0;34m*\u001b[0m \u001b[0mself\u001b[0m\u001b[0;34m.\u001b[0m\u001b[0m_delta_t_batch\u001b[0m \u001b[0;32mand\u001b[0m\u001b[0;34m\u001b[0m\u001b[0;34m\u001b[0m\u001b[0m\n",
      "\u001b[0;32m<__array_function__ internals>\u001b[0m in \u001b[0;36mmedian\u001b[0;34m(*args, **kwargs)\u001b[0m\n",
      "\u001b[0;32m~/anaconda3/lib/python3.7/site-packages/numpy/lib/function_base.py\u001b[0m in \u001b[0;36mmedian\u001b[0;34m(a, axis, out, overwrite_input, keepdims)\u001b[0m\n\u001b[1;32m   3500\u001b[0m     \"\"\"\n\u001b[1;32m   3501\u001b[0m     r, k = _ureduce(a, func=_median, axis=axis, out=out,\n\u001b[0;32m-> 3502\u001b[0;31m                     overwrite_input=overwrite_input)\n\u001b[0m\u001b[1;32m   3503\u001b[0m     \u001b[0;32mif\u001b[0m \u001b[0mkeepdims\u001b[0m\u001b[0;34m:\u001b[0m\u001b[0;34m\u001b[0m\u001b[0;34m\u001b[0m\u001b[0m\n\u001b[1;32m   3504\u001b[0m         \u001b[0;32mreturn\u001b[0m \u001b[0mr\u001b[0m\u001b[0;34m.\u001b[0m\u001b[0mreshape\u001b[0m\u001b[0;34m(\u001b[0m\u001b[0mk\u001b[0m\u001b[0;34m)\u001b[0m\u001b[0;34m\u001b[0m\u001b[0;34m\u001b[0m\u001b[0m\n",
      "\u001b[0;32m~/anaconda3/lib/python3.7/site-packages/numpy/lib/function_base.py\u001b[0m in \u001b[0;36m_ureduce\u001b[0;34m(a, func, **kwargs)\u001b[0m\n\u001b[1;32m   3408\u001b[0m         \u001b[0mkeepdim\u001b[0m \u001b[0;34m=\u001b[0m \u001b[0;34m(\u001b[0m\u001b[0;36m1\u001b[0m\u001b[0;34m,\u001b[0m\u001b[0;34m)\u001b[0m \u001b[0;34m*\u001b[0m \u001b[0ma\u001b[0m\u001b[0;34m.\u001b[0m\u001b[0mndim\u001b[0m\u001b[0;34m\u001b[0m\u001b[0;34m\u001b[0m\u001b[0m\n\u001b[1;32m   3409\u001b[0m \u001b[0;34m\u001b[0m\u001b[0m\n\u001b[0;32m-> 3410\u001b[0;31m     \u001b[0mr\u001b[0m \u001b[0;34m=\u001b[0m \u001b[0mfunc\u001b[0m\u001b[0;34m(\u001b[0m\u001b[0ma\u001b[0m\u001b[0;34m,\u001b[0m \u001b[0;34m**\u001b[0m\u001b[0mkwargs\u001b[0m\u001b[0;34m)\u001b[0m\u001b[0;34m\u001b[0m\u001b[0;34m\u001b[0m\u001b[0m\n\u001b[0m\u001b[1;32m   3411\u001b[0m     \u001b[0;32mreturn\u001b[0m \u001b[0mr\u001b[0m\u001b[0;34m,\u001b[0m \u001b[0mkeepdim\u001b[0m\u001b[0;34m\u001b[0m\u001b[0;34m\u001b[0m\u001b[0m\n\u001b[1;32m   3412\u001b[0m \u001b[0;34m\u001b[0m\u001b[0m\n",
      "\u001b[0;32m~/anaconda3/lib/python3.7/site-packages/numpy/lib/function_base.py\u001b[0m in \u001b[0;36m_median\u001b[0;34m(a, axis, out, overwrite_input)\u001b[0m\n\u001b[1;32m   3535\u001b[0m         \u001b[0mpart\u001b[0m \u001b[0;34m=\u001b[0m \u001b[0mpartition\u001b[0m\u001b[0;34m(\u001b[0m\u001b[0ma\u001b[0m\u001b[0;34m,\u001b[0m \u001b[0mkth\u001b[0m\u001b[0;34m,\u001b[0m \u001b[0maxis\u001b[0m\u001b[0;34m=\u001b[0m\u001b[0maxis\u001b[0m\u001b[0;34m)\u001b[0m\u001b[0;34m\u001b[0m\u001b[0;34m\u001b[0m\u001b[0m\n\u001b[1;32m   3536\u001b[0m \u001b[0;34m\u001b[0m\u001b[0m\n\u001b[0;32m-> 3537\u001b[0;31m     \u001b[0;32mif\u001b[0m \u001b[0mpart\u001b[0m\u001b[0;34m.\u001b[0m\u001b[0mshape\u001b[0m \u001b[0;34m==\u001b[0m \u001b[0;34m(\u001b[0m\u001b[0;34m)\u001b[0m\u001b[0;34m:\u001b[0m\u001b[0;34m\u001b[0m\u001b[0;34m\u001b[0m\u001b[0m\n\u001b[0m\u001b[1;32m   3538\u001b[0m         \u001b[0;31m# make 0-D arrays work\u001b[0m\u001b[0;34m\u001b[0m\u001b[0;34m\u001b[0m\u001b[0;34m\u001b[0m\u001b[0m\n\u001b[1;32m   3539\u001b[0m         \u001b[0;32mreturn\u001b[0m \u001b[0mpart\u001b[0m\u001b[0;34m.\u001b[0m\u001b[0mitem\u001b[0m\u001b[0;34m(\u001b[0m\u001b[0;34m)\u001b[0m\u001b[0;34m\u001b[0m\u001b[0;34m\u001b[0m\u001b[0m\n",
      "\u001b[0;31mKeyboardInterrupt\u001b[0m: "
     ]
    }
   ],
   "source": [
    "autoencoder.fit(x_train, x_train,\n",
    "                epochs=50,\n",
    "                batch_size=128,\n",
    "                shuffle=True,\n",
    "                validation_data=(x_test, x_test))"
   ]
  },
  {
   "cell_type": "code",
   "execution_count": 139,
   "metadata": {},
   "outputs": [
    {
     "name": "stdout",
     "output_type": "stream",
     "text": [
      "Model: \"model_1\"\n",
      "_________________________________________________________________\n",
      "Layer (type)                 Output Shape              Param #   \n",
      "=================================================================\n",
      "input_26 (InputLayer)        (None, 28, 28, 1)         0         \n",
      "_________________________________________________________________\n",
      "conv2d_15 (Conv2D)           (None, 28, 28, 16)        160       \n",
      "_________________________________________________________________\n",
      "max_pooling2d_7 (MaxPooling2 (None, 14, 14, 16)        0         \n",
      "_________________________________________________________________\n",
      "conv2d_16 (Conv2D)           (None, 14, 14, 8)         1160      \n",
      "_________________________________________________________________\n",
      "max_pooling2d_8 (MaxPooling2 (None, 7, 7, 8)           0         \n",
      "_________________________________________________________________\n",
      "conv2d_17 (Conv2D)           (None, 7, 7, 8)           584       \n",
      "_________________________________________________________________\n",
      "max_pooling2d_9 (MaxPooling2 (None, 4, 4, 8)           0         \n",
      "_________________________________________________________________\n",
      "conv2d_18 (Conv2D)           (None, 4, 4, 8)           584       \n",
      "_________________________________________________________________\n",
      "up_sampling2d_7 (UpSampling2 (None, 8, 8, 8)           0         \n",
      "_________________________________________________________________\n",
      "conv2d_19 (Conv2D)           (None, 8, 8, 8)           584       \n",
      "_________________________________________________________________\n",
      "up_sampling2d_8 (UpSampling2 (None, 16, 16, 8)         0         \n",
      "_________________________________________________________________\n",
      "conv2d_20 (Conv2D)           (None, 14, 14, 16)        1168      \n",
      "_________________________________________________________________\n",
      "up_sampling2d_9 (UpSampling2 (None, 28, 28, 16)        0         \n",
      "_________________________________________________________________\n",
      "conv2d_21 (Conv2D)           (None, 28, 28, 1)         145       \n",
      "=================================================================\n",
      "Total params: 4,385\n",
      "Trainable params: 4,385\n",
      "Non-trainable params: 0\n",
      "_________________________________________________________________\n"
     ]
    }
   ],
   "source": [
    "autoencoder.summary()"
   ]
  },
  {
   "cell_type": "code",
   "execution_count": 147,
   "metadata": {},
   "outputs": [],
   "source": [
    "input_img = Input(shape=(784, 1))  # adapt this if using `channels_first` image data format\n",
    "x = Conv1D(16, 3, activation='relu', padding='same')(input_img)"
   ]
  },
  {
   "cell_type": "code",
   "execution_count": 201,
   "metadata": {},
   "outputs": [],
   "source": [
    "input_img = Input(shape=(784, 1))  # adapt this if using `channels_first` image data format\n",
    "x = Conv1D(16, 3, activation='relu', padding='same')(input_img)\n",
    "x = MaxPooling1D(2, padding='same')(x)\n",
    "x = Conv1D(8, 3, activation='relu', padding='same')(x)\n",
    "x = MaxPooling1D(2, padding='same')(x)\n",
    "x = Conv1D(8, 3, activation='relu', padding='same')(x)\n",
    "encoded = MaxPooling1D(2, padding='same')(x)\n",
    "\n",
    "\n",
    "# at this point the representation is (4, 4, 8) i.e. 128-dimensional\n",
    "\n",
    "x = Conv1D(8, 3, activation='relu', padding='same')(encoded)\n",
    "x = UpSampling1D(2)(x)\n",
    "x = Conv1D(8, 3, activation='relu', padding='same')(x)\n",
    "x = UpSampling1D(2)(x)\n",
    "x = Conv1D(16, 3, activation='relu', padding='same')(x)\n",
    "x = UpSampling1D(2)(x)\n",
    "decoded = Conv1D(1, 3, activation='linear', padding='same')(x)\n",
    "\n",
    "autoencoder = Model(input_img, decoded)\n",
    "autoencoder.compile(optimizer='adam', loss='mse')"
   ]
  },
  {
   "cell_type": "code",
   "execution_count": 202,
   "metadata": {},
   "outputs": [
    {
     "name": "stdout",
     "output_type": "stream",
     "text": [
      "Model: \"model_21\"\n",
      "_________________________________________________________________\n",
      "Layer (type)                 Output Shape              Param #   \n",
      "=================================================================\n",
      "input_39 (InputLayer)        [(None, 784, 1)]          0         \n",
      "_________________________________________________________________\n",
      "conv1d_121 (Conv1D)          (None, 784, 16)           64        \n",
      "_________________________________________________________________\n",
      "max_pooling1d_15 (MaxPooling (None, 392, 16)           0         \n",
      "_________________________________________________________________\n",
      "conv1d_122 (Conv1D)          (None, 392, 8)            392       \n",
      "_________________________________________________________________\n",
      "max_pooling1d_16 (MaxPooling (None, 196, 8)            0         \n",
      "_________________________________________________________________\n",
      "conv1d_123 (Conv1D)          (None, 196, 8)            200       \n",
      "_________________________________________________________________\n",
      "max_pooling1d_17 (MaxPooling (None, 98, 8)             0         \n",
      "_________________________________________________________________\n",
      "conv1d_124 (Conv1D)          (None, 98, 8)             200       \n",
      "_________________________________________________________________\n",
      "up_sampling1d_15 (UpSampling (None, 196, 8)            0         \n",
      "_________________________________________________________________\n",
      "conv1d_125 (Conv1D)          (None, 196, 8)            200       \n",
      "_________________________________________________________________\n",
      "up_sampling1d_16 (UpSampling (None, 392, 8)            0         \n",
      "_________________________________________________________________\n",
      "conv1d_126 (Conv1D)          (None, 392, 16)           400       \n",
      "_________________________________________________________________\n",
      "up_sampling1d_17 (UpSampling (None, 784, 16)           0         \n",
      "_________________________________________________________________\n",
      "conv1d_127 (Conv1D)          (None, 784, 1)            49        \n",
      "=================================================================\n",
      "Total params: 1,505\n",
      "Trainable params: 1,505\n",
      "Non-trainable params: 0\n",
      "_________________________________________________________________\n"
     ]
    }
   ],
   "source": [
    "autoencoder.summary()"
   ]
  },
  {
   "cell_type": "code",
   "execution_count": 203,
   "metadata": {},
   "outputs": [
    {
     "name": "stdout",
     "output_type": "stream",
     "text": [
      "Train on 60000 samples, validate on 10000 samples\n",
      "Epoch 1/50\n",
      "60000/60000 [==============================] - 13s 213us/sample - loss: 0.6216 - val_loss: 0.3914\n",
      "Epoch 2/50\n",
      "60000/60000 [==============================] - 10s 162us/sample - loss: 0.3141 - val_loss: 0.2588\n",
      "Epoch 3/50\n",
      "60000/60000 [==============================] - 10s 165us/sample - loss: 0.2396 - val_loss: 0.2124\n",
      "Epoch 4/50\n",
      "60000/60000 [==============================] - 10s 166us/sample - loss: 0.2032 - val_loss: 0.1883\n",
      "Epoch 5/50\n",
      "60000/60000 [==============================] - 10s 163us/sample - loss: 0.1800 - val_loss: 0.1685\n",
      "Epoch 6/50\n",
      "60000/60000 [==============================] - 10s 164us/sample - loss: 0.1620 - val_loss: 0.1543\n",
      "Epoch 7/50\n",
      "60000/60000 [==============================] - 9s 158us/sample - loss: 0.1491 - val_loss: 0.1431\n",
      "Epoch 8/50\n",
      "60000/60000 [==============================] - 10s 160us/sample - loss: 0.1389 - val_loss: 0.1333\n",
      "Epoch 9/50\n",
      "60000/60000 [==============================] - 10s 165us/sample - loss: 0.1303 - val_loss: 0.1252\n",
      "Epoch 10/50\n",
      "60000/60000 [==============================] - 10s 166us/sample - loss: 0.1229 - val_loss: 0.1185\n",
      "Epoch 11/50\n",
      "60000/60000 [==============================] - 10s 164us/sample - loss: 0.1167 - val_loss: 0.1118\n",
      "Epoch 12/50\n",
      "60000/60000 [==============================] - 10s 165us/sample - loss: 0.1112 - val_loss: 0.1084\n",
      "Epoch 13/50\n",
      "60000/60000 [==============================] - 10s 166us/sample - loss: 0.1066 - val_loss: 0.1029\n",
      "Epoch 14/50\n",
      "60000/60000 [==============================] - 10s 165us/sample - loss: 0.1024 - val_loss: 0.0999\n",
      "Epoch 15/50\n",
      "60000/60000 [==============================] - 10s 166us/sample - loss: 0.0994 - val_loss: 0.0962\n",
      "Epoch 16/50\n",
      "60000/60000 [==============================] - 10s 166us/sample - loss: 0.0961 - val_loss: 0.0947\n",
      "Epoch 17/50\n",
      "60000/60000 [==============================] - 10s 166us/sample - loss: 0.0934 - val_loss: 0.0941\n",
      "Epoch 18/50\n",
      "60000/60000 [==============================] - 9s 155us/sample - loss: 0.0910 - val_loss: 0.0896\n",
      "Epoch 19/50\n",
      "60000/60000 [==============================] - 10s 165us/sample - loss: 0.0883 - val_loss: 0.0869\n",
      "Epoch 20/50\n",
      "60000/60000 [==============================] - 10s 167us/sample - loss: 0.0860 - val_loss: 0.0854\n",
      "Epoch 21/50\n",
      "60000/60000 [==============================] - 10s 166us/sample - loss: 0.0841 - val_loss: 0.0829\n",
      "Epoch 22/50\n",
      "60000/60000 [==============================] - 10s 165us/sample - loss: 0.0822 - val_loss: 0.0807\n",
      "Epoch 23/50\n",
      "60000/60000 [==============================] - 10s 166us/sample - loss: 0.0806 - val_loss: 0.0798\n",
      "Epoch 24/50\n",
      "60000/60000 [==============================] - 10s 164us/sample - loss: 0.0789 - val_loss: 0.0786\n",
      "Epoch 25/50\n",
      "60000/60000 [==============================] - 10s 168us/sample - loss: 0.0774 - val_loss: 0.0768\n",
      "Epoch 26/50\n",
      "60000/60000 [==============================] - 10s 165us/sample - loss: 0.0759 - val_loss: 0.0748\n",
      "Epoch 27/50\n",
      "60000/60000 [==============================] - 10s 165us/sample - loss: 0.0752 - val_loss: 0.0729\n",
      "Epoch 28/50\n",
      "60000/60000 [==============================] - 9s 155us/sample - loss: 0.0736 - val_loss: 0.0727\n",
      "Epoch 29/50\n",
      "60000/60000 [==============================] - 10s 166us/sample - loss: 0.0725 - val_loss: 0.0714\n",
      "Epoch 30/50\n",
      "60000/60000 [==============================] - 10s 164us/sample - loss: 0.0716 - val_loss: 0.0702\n",
      "Epoch 31/50\n",
      "60000/60000 [==============================] - 10s 167us/sample - loss: 0.0705 - val_loss: 0.0696\n",
      "Epoch 32/50\n",
      "60000/60000 [==============================] - 10s 165us/sample - loss: 0.0696 - val_loss: 0.0701\n",
      "Epoch 33/50\n",
      "60000/60000 [==============================] - 10s 167us/sample - loss: 0.0688 - val_loss: 0.0674\n",
      "Epoch 34/50\n",
      "60000/60000 [==============================] - 10s 169us/sample - loss: 0.0677 - val_loss: 0.0662\n",
      "Epoch 35/50\n",
      "60000/60000 [==============================] - 10s 165us/sample - loss: 0.0671 - val_loss: 0.0656\n",
      "Epoch 36/50\n",
      "60000/60000 [==============================] - 10s 165us/sample - loss: 0.0663 - val_loss: 0.0664\n",
      "Epoch 37/50\n",
      "60000/60000 [==============================] - 10s 164us/sample - loss: 0.0657 - val_loss: 0.0640\n",
      "Epoch 38/50\n",
      "60000/60000 [==============================] - 9s 155us/sample - loss: 0.0650 - val_loss: 0.0635\n",
      "Epoch 39/50\n",
      "60000/60000 [==============================] - 10s 167us/sample - loss: 0.0640 - val_loss: 0.0629\n",
      "Epoch 40/50\n",
      "60000/60000 [==============================] - 10s 166us/sample - loss: 0.0633 - val_loss: 0.0622\n",
      "Epoch 41/50\n",
      "60000/60000 [==============================] - 10s 163us/sample - loss: 0.0625 - val_loss: 0.0613\n",
      "Epoch 42/50\n",
      "60000/60000 [==============================] - 10s 167us/sample - loss: 0.0620 - val_loss: 0.0609\n",
      "Epoch 43/50\n",
      "60000/60000 [==============================] - 10s 164us/sample - loss: 0.0616 - val_loss: 0.0623\n",
      "Epoch 44/50\n",
      "60000/60000 [==============================] - 10s 166us/sample - loss: 0.0608 - val_loss: 0.0596\n",
      "Epoch 45/50\n",
      "60000/60000 [==============================] - 10s 165us/sample - loss: 0.0601 - val_loss: 0.0600\n",
      "Epoch 46/50\n",
      "60000/60000 [==============================] - 10s 164us/sample - loss: 0.0597 - val_loss: 0.0588\n",
      "Epoch 47/50\n",
      "60000/60000 [==============================] - 10s 167us/sample - loss: 0.0589 - val_loss: 0.0581\n",
      "Epoch 48/50\n",
      "60000/60000 [==============================] - 9s 158us/sample - loss: 0.0582 - val_loss: 0.0584\n",
      "Epoch 49/50\n",
      "60000/60000 [==============================] - 10s 160us/sample - loss: 0.0580 - val_loss: 0.0579\n",
      "Epoch 50/50\n",
      "60000/60000 [==============================] - 10s 166us/sample - loss: 0.0574 - val_loss: 0.0572\n"
     ]
    },
    {
     "data": {
      "text/plain": [
       "<tensorflow.python.keras.callbacks.History at 0x7fdae8150210>"
      ]
     },
     "execution_count": 203,
     "metadata": {},
     "output_type": "execute_result"
    }
   ],
   "source": [
    "x_train = np.atleast_3d(x_train)\n",
    "x_test = np.atleast_3d(x_test)\n",
    "\n",
    "\n",
    "autoencoder.fit(x_train, x_train,\n",
    "                epochs=50,\n",
    "                batch_size=512,\n",
    "                shuffle=True,\n",
    "                validation_data=(x_test, x_test))"
   ]
  },
  {
   "cell_type": "code",
   "execution_count": 208,
   "metadata": {},
   "outputs": [
    {
     "name": "stdout",
     "output_type": "stream",
     "text": [
      "/home/shuyu/497_MAT_Assignment/Revealing-Ferroelectric-Switching-Character-Using-Deep-Recurrent-Neural-Networks\n"
     ]
    }
   ],
   "source": [
    "cd Revealing-Ferroelectric-Switching-Character-Using-Deep-Recurrent-Neural-Networks/\n"
   ]
  },
  {
   "cell_type": "code",
   "execution_count": 209,
   "metadata": {},
   "outputs": [],
   "source": [
    "autoencoder.save('conv1d.h5')"
   ]
  },
  {
   "cell_type": "code",
   "execution_count": 193,
   "metadata": {},
   "outputs": [
    {
     "data": {
      "text/plain": [
       "<matplotlib.colorbar.Colorbar at 0x7fdb937b96d0>"
      ]
     },
     "execution_count": 193,
     "metadata": {},
     "output_type": "execute_result"
    },
    {
     "data": {
      "image/png": "[encoded data removed]",
      "text/plain": [
       "<Figure size 432x288 with 2 Axes>"
      ]
     },
     "metadata": {
      "needs_background": "light"
     },
     "output_type": "display_data"
    }
   ],
   "source": [
    "plt.imshow(x_train[0,:,0].reshape(28,28))\n",
    "plt.colorbar()"
   ]
  },
  {
   "cell_type": "code",
   "execution_count": 206,
   "metadata": {},
   "outputs": [],
   "source": [
    "decoded_image = autoencoder.predict(x_test)"
   ]
  },
  {
   "cell_type": "code",
   "execution_count": 207,
   "metadata": {},
   "outputs": [
    {
     "data": {
      "image/png": "[encoded data removed]",
      "text/plain": [
       "<Figure size 1440x288 with 20 Axes>"
      ]
     },
     "metadata": {
      "needs_background": "light"
     },
     "output_type": "display_data"
    }
   ],
   "source": [
    "# use Matplotlib (don't ask)\n",
    "import matplotlib.pyplot as plt\n",
    "\n",
    "\n",
    "\n",
    "n = 10  # how many digits we will display\n",
    "plt.figure(figsize=(20, 4))\n",
    "for i in range(n):\n",
    "    # display original\n",
    "    ax = plt.subplot(2, n, i + 1)\n",
    "    plt.imshow(x_test[i].reshape(28, 28))\n",
    "    plt.gray()\n",
    "    ax.get_xaxis().set_visible(False)\n",
    "    ax.get_yaxis().set_visible(False)\n",
    "\n",
    "    # display reconstruction\n",
    "    ax = plt.subplot(2, n, i + 1 + n)\n",
    "    plt.imshow(decoded_image[i].reshape(28, 28))\n",
    "    plt.gray()\n",
    "    ax.get_xaxis().set_visible(False)\n",
    "    ax.get_yaxis().set_visible(False)\n",
    "plt.show()"
   ]
  },
  {
   "cell_type": "code",
   "execution_count": 168,
   "metadata": {},
   "outputs": [
    {
     "data": {
      "text/plain": [
       "array([[[4.2098789e-03],\n",
       "        [5.0659644e-05],\n",
       "        [2.5362284e-05],\n",
       "        ...,\n",
       "        [2.6819066e-04],\n",
       "        [3.3557721e-04],\n",
       "        [4.4134855e-03]],\n",
       "\n",
       "       [[4.2098789e-03],\n",
       "        [5.0659644e-05],\n",
       "        [2.5362284e-05],\n",
       "        ...,\n",
       "        [2.6819066e-04],\n",
       "        [3.3557721e-04],\n",
       "        [4.4134855e-03]],\n",
       "\n",
       "       [[4.2098789e-03],\n",
       "        [5.0659644e-05],\n",
       "        [2.5362284e-05],\n",
       "        ...,\n",
       "        [2.6819066e-04],\n",
       "        [3.3557721e-04],\n",
       "        [4.4134855e-03]],\n",
       "\n",
       "       ...,\n",
       "\n",
       "       [[4.2098789e-03],\n",
       "        [5.0659644e-05],\n",
       "        [2.5362284e-05],\n",
       "        ...,\n",
       "        [2.6819066e-04],\n",
       "        [3.3557721e-04],\n",
       "        [4.4134855e-03]],\n",
       "\n",
       "       [[4.2098789e-03],\n",
       "        [5.0659644e-05],\n",
       "        [2.5362284e-05],\n",
       "        ...,\n",
       "        [2.6819066e-04],\n",
       "        [3.3557721e-04],\n",
       "        [4.4134855e-03]],\n",
       "\n",
       "       [[4.2098789e-03],\n",
       "        [5.0659644e-05],\n",
       "        [2.5362284e-05],\n",
       "        ...,\n",
       "        [2.6819066e-04],\n",
       "        [3.3557721e-04],\n",
       "        [4.4134855e-03]]], dtype=float32)"
      ]
     },
     "execution_count": 168,
     "metadata": {},
     "output_type": "execute_result"
    }
   ],
   "source": [
    "decoded_image"
   ]
  },
  {
   "cell_type": "code",
   "execution_count": null,
   "metadata": {},
   "outputs": [],
   "source": []
  },
  {
   "cell_type": "code",
   "execution_count": 122,
   "metadata": {},
   "outputs": [],
   "source": [
    "input_img = Input(shape=(784,1))\n",
    "encoded = Conv1D(128, kernel_size = 2, strides=2, activation='relu',data_format='channels_last')(input_img)\n",
    "encoded = Bidirectional(LSTM(16, return_sequences=False,\n",
    "                             activity_regularizer=l1(1e-4)))(encoded)\n",
    "repeat = RepeatVector(784)(encoded)\n",
    "#repeat = tf.transpose(repeat,(0,2,1))\n",
    "decoded = Conv1D(64, kernel_size = 2,strides=2, activation='relu',data_format='channels_last')(repeat)\n",
    "decoded = Conv1D(1, kernel_size = 2,strides=2, activation='linear',data_format='channels_last')(decoded)"
   ]
  },
  {
   "cell_type": "code",
   "execution_count": 123,
   "metadata": {},
   "outputs": [],
   "source": [
    "autoencoder = Model(input_img, decoded)\n",
    "autoencoder.compile(optimizer='adam', loss='mse')"
   ]
  },
  {
   "cell_type": "code",
   "execution_count": null,
   "metadata": {},
   "outputs": [],
   "source": []
  },
  {
   "cell_type": "code",
   "execution_count": null,
   "metadata": {},
   "outputs": [],
   "source": []
  },
  {
   "cell_type": "code",
   "execution_count": 124,
   "metadata": {},
   "outputs": [
    {
     "name": "stdout",
     "output_type": "stream",
     "text": [
      "Model: \"model_15\"\n",
      "_________________________________________________________________\n",
      "Layer (type)                 Output Shape              Param #   \n",
      "=================================================================\n",
      "input_23 (InputLayer)        [(None, 784, 1)]          0         \n",
      "_________________________________________________________________\n",
      "conv1d_76 (Conv1D)           (None, 392, 128)          384       \n",
      "_________________________________________________________________\n",
      "bidirectional_16 (Bidirectio (None, 32)                18560     \n",
      "_________________________________________________________________\n",
      "repeat_vector_16 (RepeatVect (None, 784, 32)           0         \n",
      "_________________________________________________________________\n",
      "conv1d_77 (Conv1D)           (None, 392, 64)           4160      \n",
      "_________________________________________________________________\n",
      "conv1d_78 (Conv1D)           (None, 196, 1)            129       \n",
      "=================================================================\n",
      "Total params: 23,233\n",
      "Trainable params: 23,233\n",
      "Non-trainable params: 0\n",
      "_________________________________________________________________\n"
     ]
    }
   ],
   "source": [
    "autoencoder.summary()"
   ]
  },
  {
   "cell_type": "code",
   "execution_count": null,
   "metadata": {},
   "outputs": [],
   "source": []
  },
  {
   "cell_type": "code",
   "execution_count": null,
   "metadata": {},
   "outputs": [],
   "source": []
  },
  {
   "cell_type": "code",
   "execution_count": 109,
   "metadata": {},
   "outputs": [],
   "source": [
    "input_img = Input(shape=(784,1))\n",
    "#attention = Attention()([repeat,repeat])\n",
    "#attention = Attention()([repeat,repeat])\n",
    "#encoded = Dense(256, activation='relu')(input_img)\n",
    "#encoded = tf.transpose(encoded, (0, 2, 1)) \n",
    "encoded = Conv1D(128, kernel_size = 2, strides=2, activation='relu',data_format='channels_last')(input_img)\n",
    "#encoded = Conv1D(64, kernel_size = 2,strides=2, activation='relu',data_format='channels_first')(encoded)\n",
    "encoded = Conv1D(32, kernel_size = 2,strides=2, activation='relu',data_format='channels_last')(encoded)\n",
    "\n",
    "encoded = tf.transpose(encoded, (0, 2, 1))\n",
    "encoded = Bidirectional(LSTM(16, return_sequences=False,\n",
    "                             activity_regularizer=l1(1e-4)))(encoded)\n",
    "\n",
    "\n",
    "embedding = Dense(16, activation='relu',activity_regularizer=l1(1e-4))(encoded)\n",
    "repeat = RepeatVector(784)(embedding)\n",
    "\n",
    "\n",
    "repeat = tf.transpose(repeat,(0,2,1))\n",
    "\n",
    "decoded = Conv1D(64, kernel_size = 2,strides=2, activation='relu',data_format='channels_last')(repeat)\n",
    "decoded = Conv1D(128, kernel_size = 2,strides=2, activation='relu',data_format='channels_last')(decoded)\n",
    "decoded = Conv1D(784, kernel_size = 2,strides=2, activation='relu',data_format='channels_last')(decoded)\n",
    "#decoded = Conv1D(784, kernel_size = 2,strides=2, activation='relu',data_format='channels_first')(decoded)\n",
    "decoded = tf.transpose(decoded, (0, 2, 1))\n",
    "# decoded = Bidirectional(LSTM(392, return_sequences=False,\n",
    "#                              activity_regularizer=l1(1e-4)))(decoded)\n",
    "decoded = Dense(1,activation='linear')(decoded)"
   ]
  },
  {
   "cell_type": "code",
   "execution_count": 114,
   "metadata": {},
   "outputs": [
    {
     "name": "stdout",
     "output_type": "stream",
     "text": [
      "Model: \"model_11\"\n",
      "_________________________________________________________________\n",
      "Layer (type)                 Output Shape              Param #   \n",
      "=================================================================\n",
      "input_20 (InputLayer)        [(None, 784, 1)]          0         \n",
      "_________________________________________________________________\n",
      "conv1d_65 (Conv1D)           (None, 392, 128)          384       \n",
      "_________________________________________________________________\n",
      "conv1d_66 (Conv1D)           (None, 196, 32)           8224      \n",
      "_________________________________________________________________\n",
      "tf_op_layer_transpose_48 (Te [(None, 32, 196)]         0         \n",
      "_________________________________________________________________\n",
      "bidirectional_13 (Bidirectio (None, 32)                27264     \n",
      "_________________________________________________________________\n",
      "dense_34 (Dense)             (None, 16)                528       \n",
      "_________________________________________________________________\n",
      "repeat_vector_13 (RepeatVect (None, 64, 16)            0         \n",
      "_________________________________________________________________\n",
      "tf_op_layer_transpose_49 (Te [(None, 16, 64)]          0         \n",
      "_________________________________________________________________\n",
      "conv1d_67 (Conv1D)           (None, 8, 64)             8256      \n",
      "_________________________________________________________________\n",
      "conv1d_68 (Conv1D)           (None, 4, 128)            16512     \n",
      "_________________________________________________________________\n",
      "conv1d_69 (Conv1D)           (None, 2, 784)            201488    \n",
      "_________________________________________________________________\n",
      "tf_op_layer_transpose_50 (Te [(None, 784, 2)]          0         \n",
      "_________________________________________________________________\n",
      "dense_35 (Dense)             (None, 784, 1)            3         \n",
      "=================================================================\n",
      "Total params: 262,659\n",
      "Trainable params: 262,659\n",
      "Non-trainable params: 0\n",
      "_________________________________________________________________\n"
     ]
    }
   ],
   "source": [
    "autoencoder.summary()"
   ]
  },
  {
   "cell_type": "code",
   "execution_count": 89,
   "metadata": {},
   "outputs": [
    {
     "data": {
      "text/plain": [
       "0.0"
      ]
     },
     "execution_count": 89,
     "metadata": {},
     "output_type": "execute_result"
    }
   ],
   "source": [
    "x_train[0,0]"
   ]
  },
  {
   "cell_type": "code",
   "execution_count": 117,
   "metadata": {},
   "outputs": [
    {
     "ename": "ValueError",
     "evalue": "Graph disconnected: cannot obtain value for tensor Tensor(\"input_20:0\", shape=(None, 784, 1), dtype=float32) at layer \"input_20\". The following previous layers were accessed without issue: []",
     "output_type": "error",
     "traceback": [
      "\u001b[0;31m---------------------------------------------------------------------------\u001b[0m",
      "\u001b[0;31mValueError\u001b[0m                                Traceback (most recent call last)",
      "\u001b[0;32m<ipython-input-117-796a7909a4a6>\u001b[0m in \u001b[0;36m<module>\u001b[0;34m\u001b[0m\n\u001b[0;32m----> 1\u001b[0;31m \u001b[0mautoencoder\u001b[0m \u001b[0;34m=\u001b[0m \u001b[0mModel\u001b[0m\u001b[0;34m(\u001b[0m\u001b[0minput_img\u001b[0m\u001b[0;34m,\u001b[0m \u001b[0mdecoded\u001b[0m\u001b[0;34m)\u001b[0m\u001b[0;34m\u001b[0m\u001b[0;34m\u001b[0m\u001b[0m\n\u001b[0m\u001b[1;32m      2\u001b[0m \u001b[0mautoencoder\u001b[0m\u001b[0;34m.\u001b[0m\u001b[0mcompile\u001b[0m\u001b[0;34m(\u001b[0m\u001b[0moptimizer\u001b[0m\u001b[0;34m=\u001b[0m\u001b[0;34m'adam'\u001b[0m\u001b[0;34m,\u001b[0m \u001b[0mloss\u001b[0m\u001b[0;34m=\u001b[0m\u001b[0;34m'mse'\u001b[0m\u001b[0;34m)\u001b[0m\u001b[0;34m\u001b[0m\u001b[0;34m\u001b[0m\u001b[0m\n",
      "\u001b[0;32m~/anaconda3/lib/python3.7/site-packages/tensorflow_core/python/keras/engine/training.py\u001b[0m in \u001b[0;36m__init__\u001b[0;34m(self, *args, **kwargs)\u001b[0m\n\u001b[1;32m    144\u001b[0m \u001b[0;34m\u001b[0m\u001b[0m\n\u001b[1;32m    145\u001b[0m   \u001b[0;32mdef\u001b[0m \u001b[0m__init__\u001b[0m\u001b[0;34m(\u001b[0m\u001b[0mself\u001b[0m\u001b[0;34m,\u001b[0m \u001b[0;34m*\u001b[0m\u001b[0margs\u001b[0m\u001b[0;34m,\u001b[0m \u001b[0;34m**\u001b[0m\u001b[0mkwargs\u001b[0m\u001b[0;34m)\u001b[0m\u001b[0;34m:\u001b[0m\u001b[0;34m\u001b[0m\u001b[0;34m\u001b[0m\u001b[0m\n\u001b[0;32m--> 146\u001b[0;31m     \u001b[0msuper\u001b[0m\u001b[0;34m(\u001b[0m\u001b[0mModel\u001b[0m\u001b[0;34m,\u001b[0m \u001b[0mself\u001b[0m\u001b[0;34m)\u001b[0m\u001b[0;34m.\u001b[0m\u001b[0m__init__\u001b[0m\u001b[0;34m(\u001b[0m\u001b[0;34m*\u001b[0m\u001b[0margs\u001b[0m\u001b[0;34m,\u001b[0m \u001b[0;34m**\u001b[0m\u001b[0mkwargs\u001b[0m\u001b[0;34m)\u001b[0m\u001b[0;34m\u001b[0m\u001b[0;34m\u001b[0m\u001b[0m\n\u001b[0m\u001b[1;32m    147\u001b[0m     \u001b[0m_keras_api_gauge\u001b[0m\u001b[0;34m.\u001b[0m\u001b[0mget_cell\u001b[0m\u001b[0;34m(\u001b[0m\u001b[0;34m'model'\u001b[0m\u001b[0;34m)\u001b[0m\u001b[0;34m.\u001b[0m\u001b[0mset\u001b[0m\u001b[0;34m(\u001b[0m\u001b[0;32mTrue\u001b[0m\u001b[0;34m)\u001b[0m\u001b[0;34m\u001b[0m\u001b[0;34m\u001b[0m\u001b[0m\n\u001b[1;32m    148\u001b[0m     \u001b[0;31m# initializing _distribution_strategy here since it is possible to call\u001b[0m\u001b[0;34m\u001b[0m\u001b[0;34m\u001b[0m\u001b[0;34m\u001b[0m\u001b[0m\n",
      "\u001b[0;32m~/anaconda3/lib/python3.7/site-packages/tensorflow_core/python/keras/engine/network.py\u001b[0m in \u001b[0;36m__init__\u001b[0;34m(self, *args, **kwargs)\u001b[0m\n\u001b[1;32m    167\u001b[0m         'inputs' in kwargs and 'outputs' in kwargs):\n\u001b[1;32m    168\u001b[0m       \u001b[0;31m# Graph network\u001b[0m\u001b[0;34m\u001b[0m\u001b[0;34m\u001b[0m\u001b[0;34m\u001b[0m\u001b[0m\n\u001b[0;32m--> 169\u001b[0;31m       \u001b[0mself\u001b[0m\u001b[0;34m.\u001b[0m\u001b[0m_init_graph_network\u001b[0m\u001b[0;34m(\u001b[0m\u001b[0;34m*\u001b[0m\u001b[0margs\u001b[0m\u001b[0;34m,\u001b[0m \u001b[0;34m**\u001b[0m\u001b[0mkwargs\u001b[0m\u001b[0;34m)\u001b[0m\u001b[0;34m\u001b[0m\u001b[0;34m\u001b[0m\u001b[0m\n\u001b[0m\u001b[1;32m    170\u001b[0m     \u001b[0;32melse\u001b[0m\u001b[0;34m:\u001b[0m\u001b[0;34m\u001b[0m\u001b[0;34m\u001b[0m\u001b[0m\n\u001b[1;32m    171\u001b[0m       \u001b[0;31m# Subclassed network\u001b[0m\u001b[0;34m\u001b[0m\u001b[0;34m\u001b[0m\u001b[0;34m\u001b[0m\u001b[0m\n",
      "\u001b[0;32m~/anaconda3/lib/python3.7/site-packages/tensorflow_core/python/training/tracking/base.py\u001b[0m in \u001b[0;36m_method_wrapper\u001b[0;34m(self, *args, **kwargs)\u001b[0m\n\u001b[1;32m    455\u001b[0m     \u001b[0mself\u001b[0m\u001b[0;34m.\u001b[0m\u001b[0m_self_setattr_tracking\u001b[0m \u001b[0;34m=\u001b[0m \u001b[0;32mFalse\u001b[0m  \u001b[0;31m# pylint: disable=protected-access\u001b[0m\u001b[0;34m\u001b[0m\u001b[0;34m\u001b[0m\u001b[0m\n\u001b[1;32m    456\u001b[0m     \u001b[0;32mtry\u001b[0m\u001b[0;34m:\u001b[0m\u001b[0;34m\u001b[0m\u001b[0;34m\u001b[0m\u001b[0m\n\u001b[0;32m--> 457\u001b[0;31m       \u001b[0mresult\u001b[0m \u001b[0;34m=\u001b[0m \u001b[0mmethod\u001b[0m\u001b[0;34m(\u001b[0m\u001b[0mself\u001b[0m\u001b[0;34m,\u001b[0m \u001b[0;34m*\u001b[0m\u001b[0margs\u001b[0m\u001b[0;34m,\u001b[0m \u001b[0;34m**\u001b[0m\u001b[0mkwargs\u001b[0m\u001b[0;34m)\u001b[0m\u001b[0;34m\u001b[0m\u001b[0;34m\u001b[0m\u001b[0m\n\u001b[0m\u001b[1;32m    458\u001b[0m     \u001b[0;32mfinally\u001b[0m\u001b[0;34m:\u001b[0m\u001b[0;34m\u001b[0m\u001b[0;34m\u001b[0m\u001b[0m\n\u001b[1;32m    459\u001b[0m       \u001b[0mself\u001b[0m\u001b[0;34m.\u001b[0m\u001b[0m_self_setattr_tracking\u001b[0m \u001b[0;34m=\u001b[0m \u001b[0mprevious_value\u001b[0m  \u001b[0;31m# pylint: disable=protected-access\u001b[0m\u001b[0;34m\u001b[0m\u001b[0;34m\u001b[0m\u001b[0m\n",
      "\u001b[0;32m~/anaconda3/lib/python3.7/site-packages/tensorflow_core/python/keras/engine/network.py\u001b[0m in \u001b[0;36m_init_graph_network\u001b[0;34m(self, inputs, outputs, name, **kwargs)\u001b[0m\n\u001b[1;32m    322\u001b[0m     \u001b[0;31m# Keep track of the network's nodes and layers.\u001b[0m\u001b[0;34m\u001b[0m\u001b[0;34m\u001b[0m\u001b[0;34m\u001b[0m\u001b[0m\n\u001b[1;32m    323\u001b[0m     nodes, nodes_by_depth, layers, _ = _map_graph_network(\n\u001b[0;32m--> 324\u001b[0;31m         self.inputs, self.outputs)\n\u001b[0m\u001b[1;32m    325\u001b[0m     \u001b[0mself\u001b[0m\u001b[0;34m.\u001b[0m\u001b[0m_network_nodes\u001b[0m \u001b[0;34m=\u001b[0m \u001b[0mnodes\u001b[0m\u001b[0;34m\u001b[0m\u001b[0;34m\u001b[0m\u001b[0m\n\u001b[1;32m    326\u001b[0m     \u001b[0mself\u001b[0m\u001b[0;34m.\u001b[0m\u001b[0m_nodes_by_depth\u001b[0m \u001b[0;34m=\u001b[0m \u001b[0mnodes_by_depth\u001b[0m\u001b[0;34m\u001b[0m\u001b[0;34m\u001b[0m\u001b[0m\n",
      "\u001b[0;32m~/anaconda3/lib/python3.7/site-packages/tensorflow_core/python/keras/engine/network.py\u001b[0m in \u001b[0;36m_map_graph_network\u001b[0;34m(inputs, outputs)\u001b[0m\n\u001b[1;32m   1674\u001b[0m                              \u001b[0;34m'The following previous layers '\u001b[0m\u001b[0;34m\u001b[0m\u001b[0;34m\u001b[0m\u001b[0m\n\u001b[1;32m   1675\u001b[0m                              \u001b[0;34m'were accessed without issue: '\u001b[0m \u001b[0;34m+\u001b[0m\u001b[0;34m\u001b[0m\u001b[0;34m\u001b[0m\u001b[0m\n\u001b[0;32m-> 1676\u001b[0;31m                              str(layers_with_complete_input))\n\u001b[0m\u001b[1;32m   1677\u001b[0m         \u001b[0;32mfor\u001b[0m \u001b[0mx\u001b[0m \u001b[0;32min\u001b[0m \u001b[0mnest\u001b[0m\u001b[0;34m.\u001b[0m\u001b[0mflatten\u001b[0m\u001b[0;34m(\u001b[0m\u001b[0mnode\u001b[0m\u001b[0;34m.\u001b[0m\u001b[0moutput_tensors\u001b[0m\u001b[0;34m)\u001b[0m\u001b[0;34m:\u001b[0m\u001b[0;34m\u001b[0m\u001b[0;34m\u001b[0m\u001b[0m\n\u001b[1;32m   1678\u001b[0m           \u001b[0mcomputable_tensors\u001b[0m\u001b[0;34m.\u001b[0m\u001b[0madd\u001b[0m\u001b[0;34m(\u001b[0m\u001b[0mid\u001b[0m\u001b[0;34m(\u001b[0m\u001b[0mx\u001b[0m\u001b[0;34m)\u001b[0m\u001b[0;34m)\u001b[0m\u001b[0;34m\u001b[0m\u001b[0;34m\u001b[0m\u001b[0m\n",
      "\u001b[0;31mValueError\u001b[0m: Graph disconnected: cannot obtain value for tensor Tensor(\"input_20:0\", shape=(None, 784, 1), dtype=float32) at layer \"input_20\". The following previous layers were accessed without issue: []"
     ]
    }
   ],
   "source": [
    "autoencoder = Model(input_img, decoded)\n",
    "autoencoder.compile(optimizer='adam', loss='mse')"
   ]
  },
  {
   "cell_type": "code",
   "execution_count": 102,
   "metadata": {},
   "outputs": [
    {
     "data": {
      "text/plain": [
       "(60000, 1, 784)"
      ]
     },
     "execution_count": 102,
     "metadata": {},
     "output_type": "execute_result"
    }
   ],
   "source": [
    ".shape"
   ]
  },
  {
   "cell_type": "code",
   "execution_count": 105,
   "metadata": {},
   "outputs": [
    {
     "ename": "ValueError",
     "evalue": "Error when checking input: expected input_16 to have shape (784, 1) but got array with shape (1, 784)",
     "output_type": "error",
     "traceback": [
      "\u001b[0;31m---------------------------------------------------------------------------\u001b[0m",
      "\u001b[0;31mValueError\u001b[0m                                Traceback (most recent call last)",
      "\u001b[0;32m<ipython-input-105-a242bc64321f>\u001b[0m in \u001b[0;36m<module>\u001b[0;34m\u001b[0m\n\u001b[1;32m      3\u001b[0m                 \u001b[0mbatch_size\u001b[0m\u001b[0;34m=\u001b[0m\u001b[0;36m256\u001b[0m\u001b[0;34m,\u001b[0m\u001b[0;34m\u001b[0m\u001b[0;34m\u001b[0m\u001b[0m\n\u001b[1;32m      4\u001b[0m                 \u001b[0mshuffle\u001b[0m\u001b[0;34m=\u001b[0m\u001b[0;32mTrue\u001b[0m\u001b[0;34m,\u001b[0m\u001b[0;34m\u001b[0m\u001b[0;34m\u001b[0m\u001b[0m\n\u001b[0;32m----> 5\u001b[0;31m                 validation_data=(x_test_3d, x_test_3d))\n\u001b[0m",
      "\u001b[0;32m~/anaconda3/lib/python3.7/site-packages/tensorflow_core/python/keras/engine/training.py\u001b[0m in \u001b[0;36mfit\u001b[0;34m(self, x, y, batch_size, epochs, verbose, callbacks, validation_split, validation_data, shuffle, class_weight, sample_weight, initial_epoch, steps_per_epoch, validation_steps, validation_freq, max_queue_size, workers, use_multiprocessing, **kwargs)\u001b[0m\n\u001b[1;32m    817\u001b[0m         \u001b[0mmax_queue_size\u001b[0m\u001b[0;34m=\u001b[0m\u001b[0mmax_queue_size\u001b[0m\u001b[0;34m,\u001b[0m\u001b[0;34m\u001b[0m\u001b[0;34m\u001b[0m\u001b[0m\n\u001b[1;32m    818\u001b[0m         \u001b[0mworkers\u001b[0m\u001b[0;34m=\u001b[0m\u001b[0mworkers\u001b[0m\u001b[0;34m,\u001b[0m\u001b[0;34m\u001b[0m\u001b[0;34m\u001b[0m\u001b[0m\n\u001b[0;32m--> 819\u001b[0;31m         use_multiprocessing=use_multiprocessing)\n\u001b[0m\u001b[1;32m    820\u001b[0m \u001b[0;34m\u001b[0m\u001b[0m\n\u001b[1;32m    821\u001b[0m   def evaluate(self,\n",
      "\u001b[0;32m~/anaconda3/lib/python3.7/site-packages/tensorflow_core/python/keras/engine/training_v2.py\u001b[0m in \u001b[0;36mfit\u001b[0;34m(self, model, x, y, batch_size, epochs, verbose, callbacks, validation_split, validation_data, shuffle, class_weight, sample_weight, initial_epoch, steps_per_epoch, validation_steps, validation_freq, max_queue_size, workers, use_multiprocessing, **kwargs)\u001b[0m\n\u001b[1;32m    233\u001b[0m           \u001b[0mmax_queue_size\u001b[0m\u001b[0;34m=\u001b[0m\u001b[0mmax_queue_size\u001b[0m\u001b[0;34m,\u001b[0m\u001b[0;34m\u001b[0m\u001b[0;34m\u001b[0m\u001b[0m\n\u001b[1;32m    234\u001b[0m           \u001b[0mworkers\u001b[0m\u001b[0;34m=\u001b[0m\u001b[0mworkers\u001b[0m\u001b[0;34m,\u001b[0m\u001b[0;34m\u001b[0m\u001b[0;34m\u001b[0m\u001b[0m\n\u001b[0;32m--> 235\u001b[0;31m           use_multiprocessing=use_multiprocessing)\n\u001b[0m\u001b[1;32m    236\u001b[0m \u001b[0;34m\u001b[0m\u001b[0m\n\u001b[1;32m    237\u001b[0m       \u001b[0mtotal_samples\u001b[0m \u001b[0;34m=\u001b[0m \u001b[0m_get_total_number_of_samples\u001b[0m\u001b[0;34m(\u001b[0m\u001b[0mtraining_data_adapter\u001b[0m\u001b[0;34m)\u001b[0m\u001b[0;34m\u001b[0m\u001b[0;34m\u001b[0m\u001b[0m\n",
      "\u001b[0;32m~/anaconda3/lib/python3.7/site-packages/tensorflow_core/python/keras/engine/training_v2.py\u001b[0m in \u001b[0;36m_process_training_inputs\u001b[0;34m(model, x, y, batch_size, epochs, sample_weights, class_weights, steps_per_epoch, validation_split, validation_data, validation_steps, shuffle, distribution_strategy, max_queue_size, workers, use_multiprocessing)\u001b[0m\n\u001b[1;32m    591\u001b[0m         \u001b[0mmax_queue_size\u001b[0m\u001b[0;34m=\u001b[0m\u001b[0mmax_queue_size\u001b[0m\u001b[0;34m,\u001b[0m\u001b[0;34m\u001b[0m\u001b[0;34m\u001b[0m\u001b[0m\n\u001b[1;32m    592\u001b[0m         \u001b[0mworkers\u001b[0m\u001b[0;34m=\u001b[0m\u001b[0mworkers\u001b[0m\u001b[0;34m,\u001b[0m\u001b[0;34m\u001b[0m\u001b[0;34m\u001b[0m\u001b[0m\n\u001b[0;32m--> 593\u001b[0;31m         use_multiprocessing=use_multiprocessing)\n\u001b[0m\u001b[1;32m    594\u001b[0m     \u001b[0mval_adapter\u001b[0m \u001b[0;34m=\u001b[0m \u001b[0;32mNone\u001b[0m\u001b[0;34m\u001b[0m\u001b[0;34m\u001b[0m\u001b[0m\n\u001b[1;32m    595\u001b[0m     \u001b[0;32mif\u001b[0m \u001b[0mvalidation_data\u001b[0m\u001b[0;34m:\u001b[0m\u001b[0;34m\u001b[0m\u001b[0;34m\u001b[0m\u001b[0m\n",
      "\u001b[0;32m~/anaconda3/lib/python3.7/site-packages/tensorflow_core/python/keras/engine/training_v2.py\u001b[0m in \u001b[0;36m_process_inputs\u001b[0;34m(model, mode, x, y, batch_size, epochs, sample_weights, class_weights, shuffle, steps, distribution_strategy, max_queue_size, workers, use_multiprocessing)\u001b[0m\n\u001b[1;32m    644\u001b[0m     \u001b[0mstandardize_function\u001b[0m \u001b[0;34m=\u001b[0m \u001b[0;32mNone\u001b[0m\u001b[0;34m\u001b[0m\u001b[0;34m\u001b[0m\u001b[0m\n\u001b[1;32m    645\u001b[0m     x, y, sample_weights = standardize(\n\u001b[0;32m--> 646\u001b[0;31m         x, y, sample_weight=sample_weights)\n\u001b[0m\u001b[1;32m    647\u001b[0m   \u001b[0;32melif\u001b[0m \u001b[0madapter_cls\u001b[0m \u001b[0;32mis\u001b[0m \u001b[0mdata_adapter\u001b[0m\u001b[0;34m.\u001b[0m\u001b[0mListsOfScalarsDataAdapter\u001b[0m\u001b[0;34m:\u001b[0m\u001b[0;34m\u001b[0m\u001b[0;34m\u001b[0m\u001b[0m\n\u001b[1;32m    648\u001b[0m     \u001b[0mstandardize_function\u001b[0m \u001b[0;34m=\u001b[0m \u001b[0mstandardize\u001b[0m\u001b[0;34m\u001b[0m\u001b[0;34m\u001b[0m\u001b[0m\n",
      "\u001b[0;32m~/anaconda3/lib/python3.7/site-packages/tensorflow_core/python/keras/engine/training.py\u001b[0m in \u001b[0;36m_standardize_user_data\u001b[0;34m(self, x, y, sample_weight, class_weight, batch_size, check_steps, steps_name, steps, validation_split, shuffle, extract_tensors_from_dataset)\u001b[0m\n\u001b[1;32m   2381\u001b[0m         \u001b[0mis_dataset\u001b[0m\u001b[0;34m=\u001b[0m\u001b[0mis_dataset\u001b[0m\u001b[0;34m,\u001b[0m\u001b[0;34m\u001b[0m\u001b[0;34m\u001b[0m\u001b[0m\n\u001b[1;32m   2382\u001b[0m         \u001b[0mclass_weight\u001b[0m\u001b[0;34m=\u001b[0m\u001b[0mclass_weight\u001b[0m\u001b[0;34m,\u001b[0m\u001b[0;34m\u001b[0m\u001b[0;34m\u001b[0m\u001b[0m\n\u001b[0;32m-> 2383\u001b[0;31m         batch_size=batch_size)\n\u001b[0m\u001b[1;32m   2384\u001b[0m \u001b[0;34m\u001b[0m\u001b[0m\n\u001b[1;32m   2385\u001b[0m   def _standardize_tensors(self, x, y, sample_weight, run_eagerly, dict_inputs,\n",
      "\u001b[0;32m~/anaconda3/lib/python3.7/site-packages/tensorflow_core/python/keras/engine/training.py\u001b[0m in \u001b[0;36m_standardize_tensors\u001b[0;34m(self, x, y, sample_weight, run_eagerly, dict_inputs, is_dataset, class_weight, batch_size)\u001b[0m\n\u001b[1;32m   2408\u001b[0m           \u001b[0mfeed_input_shapes\u001b[0m\u001b[0;34m,\u001b[0m\u001b[0;34m\u001b[0m\u001b[0;34m\u001b[0m\u001b[0m\n\u001b[1;32m   2409\u001b[0m           \u001b[0mcheck_batch_axis\u001b[0m\u001b[0;34m=\u001b[0m\u001b[0;32mFalse\u001b[0m\u001b[0;34m,\u001b[0m  \u001b[0;31m# Don't enforce the batch size.\u001b[0m\u001b[0;34m\u001b[0m\u001b[0;34m\u001b[0m\u001b[0m\n\u001b[0;32m-> 2410\u001b[0;31m           exception_prefix='input')\n\u001b[0m\u001b[1;32m   2411\u001b[0m \u001b[0;34m\u001b[0m\u001b[0m\n\u001b[1;32m   2412\u001b[0m     \u001b[0;31m# Get typespecs for the input data and sanitize it if necessary.\u001b[0m\u001b[0;34m\u001b[0m\u001b[0;34m\u001b[0m\u001b[0;34m\u001b[0m\u001b[0m\n",
      "\u001b[0;32m~/anaconda3/lib/python3.7/site-packages/tensorflow_core/python/keras/engine/training_utils.py\u001b[0m in \u001b[0;36mstandardize_input_data\u001b[0;34m(data, names, shapes, check_batch_axis, exception_prefix)\u001b[0m\n\u001b[1;32m    580\u001b[0m                              \u001b[0;34m': expected '\u001b[0m \u001b[0;34m+\u001b[0m \u001b[0mnames\u001b[0m\u001b[0;34m[\u001b[0m\u001b[0mi\u001b[0m\u001b[0;34m]\u001b[0m \u001b[0;34m+\u001b[0m \u001b[0;34m' to have shape '\u001b[0m \u001b[0;34m+\u001b[0m\u001b[0;34m\u001b[0m\u001b[0;34m\u001b[0m\u001b[0m\n\u001b[1;32m    581\u001b[0m                              \u001b[0mstr\u001b[0m\u001b[0;34m(\u001b[0m\u001b[0mshape\u001b[0m\u001b[0;34m)\u001b[0m \u001b[0;34m+\u001b[0m \u001b[0;34m' but got array with shape '\u001b[0m \u001b[0;34m+\u001b[0m\u001b[0;34m\u001b[0m\u001b[0;34m\u001b[0m\u001b[0m\n\u001b[0;32m--> 582\u001b[0;31m                              str(data_shape))\n\u001b[0m\u001b[1;32m    583\u001b[0m   \u001b[0;32mreturn\u001b[0m \u001b[0mdata\u001b[0m\u001b[0;34m\u001b[0m\u001b[0;34m\u001b[0m\u001b[0m\n\u001b[1;32m    584\u001b[0m \u001b[0;34m\u001b[0m\u001b[0m\n",
      "\u001b[0;31mValueError\u001b[0m: Error when checking input: expected input_16 to have shape (784, 1) but got array with shape (1, 784)"
     ]
    }
   ],
   "source": [
    "autoencoder.fit(x_train_3d, x_train_3d,\n",
    "                epochs=50,\n",
    "                batch_size=256,\n",
    "                shuffle=True,\n",
    "                validation_data=(x_test_3d, x_test_3d))"
   ]
  },
  {
   "cell_type": "code",
   "execution_count": null,
   "metadata": {},
   "outputs": [],
   "source": []
  },
  {
   "cell_type": "code",
   "execution_count": null,
   "metadata": {},
   "outputs": [],
   "source": []
  },
  {
   "cell_type": "code",
   "execution_count": null,
   "metadata": {},
   "outputs": [],
   "source": []
  },
  {
   "cell_type": "code",
   "execution_count": null,
   "metadata": {},
   "outputs": [],
   "source": []
  },
  {
   "cell_type": "code",
   "execution_count": 76,
   "metadata": {},
   "outputs": [
    {
     "data": {
      "text/plain": [
       "TensorShape([None, 784, 1])"
      ]
     },
     "execution_count": 76,
     "metadata": {},
     "output_type": "execute_result"
    }
   ],
   "source": [
    "input_img.shape"
   ]
  },
  {
   "cell_type": "code",
   "execution_count": 36,
   "metadata": {},
   "outputs": [],
   "source": [
    "layer_name = 'dense_4'\n",
    "intermediate_layer_model = Model(inputs=autoencoder.input,\n",
    "                                 outputs=autoencoder.get_layer(layer_name).output)\n",
    "intermediate_output = intermediate_layer_model.predict(x_test_3d)"
   ]
  },
  {
   "cell_type": "code",
   "execution_count": 37,
   "metadata": {},
   "outputs": [
    {
     "data": {
      "text/plain": [
       "array([0.06603657, 0.03901002, 0.01592879, 0.10585815, 0.18849578,\n",
       "       0.        , 0.07689537, 0.12213866, 0.1746031 , 0.        ,\n",
       "       0.08096126, 0.04012169, 0.        , 0.        , 0.07619524,\n",
       "       0.        ], dtype=float32)"
      ]
     },
     "execution_count": 37,
     "metadata": {},
     "output_type": "execute_result"
    }
   ],
   "source": [
    "intermediate_output[0]"
   ]
  },
  {
   "cell_type": "code",
   "execution_count": 73,
   "metadata": {},
   "outputs": [
    {
     "name": "stdout",
     "output_type": "stream",
     "text": [
      "Model: \"model_6\"\n",
      "__________________________________________________________________________________________________\n",
      "Layer (type)                    Output Shape         Param #     Connected to                     \n",
      "==================================================================================================\n",
      "input_7 (InputLayer)            [(None, 784, 1)]     0                                            \n",
      "__________________________________________________________________________________________________\n",
      "dense_16 (Dense)                (None, 784, 256)     512         input_7[0][0]                    \n",
      "__________________________________________________________________________________________________\n",
      "tf_op_layer_transpose_22 (Tenso [(None, 256, 784)]   0           dense_16[0][0]                   \n",
      "__________________________________________________________________________________________________\n",
      "conv1d_25 (Conv1D)              (None, 128, 128)     200832      tf_op_layer_transpose_22[0][0]   \n",
      "__________________________________________________________________________________________________\n",
      "conv1d_26 (Conv1D)              (None, 64, 32)       8224        conv1d_25[0][0]                  \n",
      "__________________________________________________________________________________________________\n",
      "tf_op_layer_transpose_23 (Tenso [(None, 32, 64)]     0           conv1d_26[0][0]                  \n",
      "__________________________________________________________________________________________________\n",
      "bidirectional_6 (Bidirectional) (None, 32)           10368       tf_op_layer_transpose_23[0][0]   \n",
      "__________________________________________________________________________________________________\n",
      "dense_17 (Dense)                (None, 16)           528         bidirectional_6[0][0]            \n",
      "__________________________________________________________________________________________________\n",
      "repeat_vector_6 (RepeatVector)  (None, 64, 16)       0           dense_17[0][0]                   \n",
      "__________________________________________________________________________________________________\n",
      "tf_op_layer_transpose_24 (Tenso [(None, 16, 64)]     0           repeat_vector_6[0][0]            \n",
      "__________________________________________________________________________________________________\n",
      "attention_4 (Attention)         (None, 16, 64)       0           tf_op_layer_transpose_24[0][0]   \n",
      "                                                                 tf_op_layer_transpose_24[0][0]   \n",
      "__________________________________________________________________________________________________\n",
      "conv1d_27 (Conv1D)              (None, 8, 64)        8256        attention_4[0][0]                \n",
      "__________________________________________________________________________________________________\n",
      "conv1d_28 (Conv1D)              (None, 4, 128)       16512       conv1d_27[0][0]                  \n",
      "__________________________________________________________________________________________________\n",
      "conv1d_29 (Conv1D)              (None, 2, 784)       201488      conv1d_28[0][0]                  \n",
      "__________________________________________________________________________________________________\n",
      "tf_op_layer_transpose_25 (Tenso [(None, 784, 2)]     0           conv1d_29[0][0]                  \n",
      "__________________________________________________________________________________________________\n",
      "dense_18 (Dense)                (None, 784, 1)       3           tf_op_layer_transpose_25[0][0]   \n",
      "==================================================================================================\n",
      "Total params: 446,723\n",
      "Trainable params: 446,723\n",
      "Non-trainable params: 0\n",
      "__________________________________________________________________________________________________\n"
     ]
    }
   ],
   "source": [
    "autoencoder.summary()"
   ]
  },
  {
   "cell_type": "code",
   "execution_count": 87,
   "metadata": {},
   "outputs": [
    {
     "data": {
      "text/plain": [
       "(60000, 784)"
      ]
     },
     "execution_count": 87,
     "metadata": {},
     "output_type": "execute_result"
    }
   ],
   "source": [
    "x_train.shape"
   ]
  },
  {
   "cell_type": "code",
   "execution_count": 24,
   "metadata": {},
   "outputs": [],
   "source": [
    "x_train_3d = np.atleast_3d(x_train)\n",
    "x_test_3d = np.atleast_3d(x_test)"
   ]
  },
  {
   "cell_type": "code",
   "execution_count": 34,
   "metadata": {},
   "outputs": [],
   "source": [
    "x = x_train_3d"
   ]
  },
  {
   "cell_type": "code",
   "execution_count": 54,
   "metadata": {},
   "outputs": [],
   "source": [
    "x = tf.transpose(x, (0, 2, 1)) "
   ]
  },
  {
   "cell_type": "code",
   "execution_count": 55,
   "metadata": {},
   "outputs": [
    {
     "data": {
      "text/plain": [
       "TensorShape([60000, 784, 1])"
      ]
     },
     "execution_count": 55,
     "metadata": {},
     "output_type": "execute_result"
    }
   ],
   "source": [
    "x.shape"
   ]
  },
  {
   "cell_type": "code",
   "execution_count": 42,
   "metadata": {},
   "outputs": [],
   "source": [
    "trian_3d = x"
   ]
  },
  {
   "cell_type": "code",
   "execution_count": 43,
   "metadata": {},
   "outputs": [],
   "source": [
    "y = x_test_3d"
   ]
  },
  {
   "cell_type": "code",
   "execution_count": 44,
   "metadata": {},
   "outputs": [],
   "source": [
    "y = tf.transpose(y, (0, 2, 1)) "
   ]
  },
  {
   "cell_type": "code",
   "execution_count": 40,
   "metadata": {},
   "outputs": [],
   "source": [
    "checkpointer = ModelCheckpoint(\"lste_toy\", monitor='loss', verbose=0, save_best_only=True)\n"
   ]
  },
  {
   "cell_type": "code",
   "execution_count": 69,
   "metadata": {},
   "outputs": [
    {
     "name": "stdout",
     "output_type": "stream",
     "text": [
      "Train on 60000 samples, validate on 10000 samples\n",
      "Epoch 1/50\n",
      "60000/60000 [==============================] - 73s 1ms/sample - loss: 0.0271 - val_loss: 0.0273\n",
      "Epoch 2/50\n",
      "60000/60000 [==============================] - 73s 1ms/sample - loss: 0.0271 - val_loss: 0.0273\n",
      "Epoch 3/50\n",
      "60000/60000 [==============================] - 73s 1ms/sample - loss: 0.0270 - val_loss: 0.0274\n",
      "Epoch 4/50\n",
      "60000/60000 [==============================] - 73s 1ms/sample - loss: 0.0270 - val_loss: 0.0272\n",
      "Epoch 5/50\n",
      "60000/60000 [==============================] - 76s 1ms/sample - loss: 0.0270 - val_loss: 0.0272\n",
      "Epoch 6/50\n",
      "60000/60000 [==============================] - 75s 1ms/sample - loss: 0.0269 - val_loss: 0.0271\n",
      "Epoch 7/50\n",
      "60000/60000 [==============================] - 75s 1ms/sample - loss: 0.0268 - val_loss: 0.0272\n",
      "Epoch 8/50\n",
      "60000/60000 [==============================] - 75s 1ms/sample - loss: 0.0268 - val_loss: 0.0272\n",
      "Epoch 9/50\n",
      "60000/60000 [==============================] - 75s 1ms/sample - loss: 0.0268 - val_loss: 0.0270\n",
      "Epoch 10/50\n",
      "60000/60000 [==============================] - 76s 1ms/sample - loss: 0.0267 - val_loss: 0.0272\n",
      "Epoch 11/50\n",
      "60000/60000 [==============================] - 75s 1ms/sample - loss: 0.0267 - val_loss: 0.0271\n",
      "Epoch 12/50\n",
      "60000/60000 [==============================] - 75s 1ms/sample - loss: 0.0267 - val_loss: 0.0272\n",
      "Epoch 13/50\n",
      "60000/60000 [==============================] - 75s 1ms/sample - loss: 0.0269 - val_loss: 0.0269\n",
      "Epoch 14/50\n",
      "60000/60000 [==============================] - 75s 1ms/sample - loss: 0.0265 - val_loss: 0.0269\n",
      "Epoch 15/50\n",
      "60000/60000 [==============================] - 75s 1ms/sample - loss: 0.0265 - val_loss: 0.0271\n",
      "Epoch 16/50\n",
      "60000/60000 [==============================] - 75s 1ms/sample - loss: 0.0265 - val_loss: 0.0268\n",
      "Epoch 17/50\n",
      "60000/60000 [==============================] - 74s 1ms/sample - loss: 0.0265 - val_loss: 0.0268\n",
      "Epoch 18/50\n",
      "60000/60000 [==============================] - 75s 1ms/sample - loss: 0.0264 - val_loss: 0.0268\n",
      "Epoch 19/50\n",
      "60000/60000 [==============================] - 74s 1ms/sample - loss: 0.0265 - val_loss: 0.0269\n",
      "Epoch 20/50\n",
      "60000/60000 [==============================] - 75s 1ms/sample - loss: 0.0264 - val_loss: 0.0269\n",
      "Epoch 21/50\n",
      "60000/60000 [==============================] - 75s 1ms/sample - loss: 0.0264 - val_loss: 0.0267\n",
      "Epoch 22/50\n",
      "60000/60000 [==============================] - 73s 1ms/sample - loss: 0.0263 - val_loss: 0.0267\n",
      "Epoch 23/50\n",
      "60000/60000 [==============================] - 73s 1ms/sample - loss: 0.0263 - val_loss: 0.0268\n",
      "Epoch 24/50\n",
      "60000/60000 [==============================] - 73s 1ms/sample - loss: 0.0263 - val_loss: 0.0266\n",
      "Epoch 25/50\n",
      "60000/60000 [==============================] - 74s 1ms/sample - loss: 0.0263 - val_loss: 0.0267\n",
      "Epoch 26/50\n",
      "60000/60000 [==============================] - 75s 1ms/sample - loss: 0.0262 - val_loss: 0.0269\n",
      "Epoch 27/50\n",
      "60000/60000 [==============================] - 74s 1ms/sample - loss: 0.0262 - val_loss: 0.0265\n",
      "Epoch 28/50\n",
      "60000/60000 [==============================] - 74s 1ms/sample - loss: 0.0262 - val_loss: 0.0265\n",
      "Epoch 29/50\n",
      "60000/60000 [==============================] - 74s 1ms/sample - loss: 0.0261 - val_loss: 0.0265\n",
      "Epoch 30/50\n",
      "60000/60000 [==============================] - 74s 1ms/sample - loss: 0.0261 - val_loss: 0.0266\n",
      "Epoch 31/50\n",
      "60000/60000 [==============================] - 74s 1ms/sample - loss: 0.0261 - val_loss: 0.0269\n",
      "Epoch 32/50\n",
      "60000/60000 [==============================] - 74s 1ms/sample - loss: 0.0260 - val_loss: 0.0265\n",
      "Epoch 33/50\n",
      "60000/60000 [==============================] - 74s 1ms/sample - loss: 0.0260 - val_loss: 0.0265\n",
      "Epoch 34/50\n",
      "60000/60000 [==============================] - 74s 1ms/sample - loss: 0.0260 - val_loss: 0.0265\n",
      "Epoch 35/50\n",
      "60000/60000 [==============================] - 74s 1ms/sample - loss: 0.0260 - val_loss: 0.0265\n",
      "Epoch 36/50\n",
      "60000/60000 [==============================] - 74s 1ms/sample - loss: 0.0260 - val_loss: 0.0268\n",
      "Epoch 37/50\n",
      "60000/60000 [==============================] - 74s 1ms/sample - loss: 0.0260 - val_loss: 0.0266\n",
      "Epoch 38/50\n",
      "60000/60000 [==============================] - 74s 1ms/sample - loss: 0.0259 - val_loss: 0.0262\n",
      "Epoch 39/50\n",
      "60000/60000 [==============================] - 74s 1ms/sample - loss: 0.0258 - val_loss: 0.0264\n",
      "Epoch 40/50\n",
      "60000/60000 [==============================] - 74s 1ms/sample - loss: 0.0259 - val_loss: 0.0263\n",
      "Epoch 41/50\n",
      "60000/60000 [==============================] - 74s 1ms/sample - loss: 0.0258 - val_loss: 0.0266\n",
      "Epoch 42/50\n",
      "60000/60000 [==============================] - 74s 1ms/sample - loss: 0.0258 - val_loss: 0.0264\n",
      "Epoch 43/50\n",
      "60000/60000 [==============================] - 73s 1ms/sample - loss: 0.0258 - val_loss: 0.0263\n",
      "Epoch 44/50\n",
      "60000/60000 [==============================] - 74s 1ms/sample - loss: 0.0258 - val_loss: 0.0263\n",
      "Epoch 45/50\n",
      "60000/60000 [==============================] - 74s 1ms/sample - loss: 0.0258 - val_loss: 0.0263\n",
      "Epoch 46/50\n",
      "60000/60000 [==============================] - 74s 1ms/sample - loss: 0.0257 - val_loss: 0.0262\n",
      "Epoch 47/50\n",
      "60000/60000 [==============================] - 74s 1ms/sample - loss: 0.0257 - val_loss: 0.0262\n",
      "Epoch 48/50\n",
      "60000/60000 [==============================] - 74s 1ms/sample - loss: 0.0257 - val_loss: 0.0262\n",
      "Epoch 49/50\n",
      "60000/60000 [==============================] - 74s 1ms/sample - loss: 0.0257 - val_loss: 0.0261\n",
      "Epoch 50/50\n",
      "60000/60000 [==============================] - 73s 1ms/sample - loss: 0.0257 - val_loss: 0.0264\n"
     ]
    },
    {
     "data": {
      "text/plain": [
       "<tensorflow.python.keras.callbacks.History at 0x7fdb97fa7110>"
      ]
     },
     "execution_count": 69,
     "metadata": {},
     "output_type": "execute_result"
    }
   ],
   "source": [
    "autoencoder.fit(x_train_3d, x_train_3d,\n",
    "                epochs=50,\n",
    "                batch_size=256,\n",
    "                shuffle=True,\n",
    "                validation_data=(x_test_3d, x_test_3d))"
   ]
  },
  {
   "cell_type": "code",
   "execution_count": 70,
   "metadata": {},
   "outputs": [],
   "source": [
    "decoded_imgs = autoencoder.predict(x_test_3d)"
   ]
  },
  {
   "cell_type": "code",
   "execution_count": 163,
   "metadata": {},
   "outputs": [
    {
     "data": {
      "image/png": "[encoded data removed]",
      "text/plain": [
       "<Figure size 1440x288 with 20 Axes>"
      ]
     },
     "metadata": {
      "needs_background": "light"
     },
     "output_type": "display_data"
    }
   ],
   "source": [
    "# use Matplotlib (don't ask)\n",
    "import matplotlib.pyplot as plt\n",
    "\n",
    "n = 10  # how many digits we will display\n",
    "plt.figure(figsize=(20, 4))\n",
    "for i in range(n):\n",
    "    # display original\n",
    "    ax = plt.subplot(2, n, i + 1)\n",
    "    plt.imshow(x_test_3d[i].reshape(28, 28))\n",
    "    plt.gray()\n",
    "    ax.get_xaxis().set_visible(False)\n",
    "    ax.get_yaxis().set_visible(False)\n",
    "\n",
    "    # display reconstruction\n",
    "    ax = plt.subplot(2, n, i + 1 + n)\n",
    "    plt.imshow(decoded_imgs[i].reshape(28, 28))\n",
    "    plt.gray()\n",
    "    ax.get_xaxis().set_visible(False)\n",
    "    ax.get_yaxis().set_visible(False)\n",
    "plt.show()"
   ]
  },
  {
   "cell_type": "code",
   "execution_count": 72,
   "metadata": {},
   "outputs": [],
   "source": [
    "autoencoder.save('toy_model_lstm_with_attention.h5')"
   ]
  },
  {
   "cell_type": "code",
   "execution_count": 107,
   "metadata": {},
   "outputs": [],
   "source": [
    "import os\n",
    "import random\n",
    "import numpy as np\n",
    "import json\n",
    "import matplotlib.pyplot\n",
    "import pickle\n",
    "from matplotlib.pyplot import imshow\n",
    "from PIL import Image\n",
    "from sklearn.manifold import TSNE"
   ]
  },
  {
   "cell_type": "code",
   "execution_count": null,
   "metadata": {},
   "outputs": [],
   "source": []
  },
  {
   "cell_type": "code",
   "execution_count": 38,
   "metadata": {},
   "outputs": [
    {
     "data": {
      "text/plain": [
       "[<matplotlib.lines.Line2D at 0x7fdb9a669290>]"
      ]
     },
     "execution_count": 38,
     "metadata": {},
     "output_type": "execute_result"
    },
    {
     "data": {
      "image/png": "[encoded data removed]",
      "text/plain": [
       "<Figure size 432x288 with 1 Axes>"
      ]
     },
     "metadata": {
      "needs_background": "light"
     },
     "output_type": "display_data"
    }
   ],
   "source": [
    "plt.plot(intermediate_output[0],'b.')"
   ]
  },
  {
   "cell_type": "code",
   "execution_count": null,
   "metadata": {},
   "outputs": [],
   "source": [
    "width = 4000\n",
    "height = 3000\n",
    "max_dim = 100\n",
    "\n",
    "full_image = Image.new('RGBA', (width, height))\n",
    "for img, x, y in zip(images, tx, ty):\n",
    "    tile = Image.open(img)\n",
    "    rs = max(1, tile.width/max_dim, tile.height/max_dim)\n",
    "    tile = tile.resize((int(tile.width/rs), int(tile.height/rs)), Image.ANTIALIAS)\n",
    "    full_image.paste(tile, (int((width-max_dim)*x), int((height-max_dim)*y)), mask=tile.convert('RGBA'))\n",
    "\n",
    "matplotlib.pyplot.figure(figsize = (16,12))\n",
    "imshow(full_image)"
   ]
  },
  {
   "cell_type": "code",
   "execution_count": null,
   "metadata": {},
   "outputs": [],
   "source": []
  },
  {
   "cell_type": "code",
   "execution_count": null,
   "metadata": {},
   "outputs": [],
   "source": []
  },
  {
   "cell_type": "code",
   "execution_count": null,
   "metadata": {},
   "outputs": [],
   "source": []
  },
  {
   "cell_type": "code",
   "execution_count": null,
   "metadata": {},
   "outputs": [],
   "source": []
  },
  {
   "cell_type": "code",
   "execution_count": null,
   "metadata": {},
   "outputs": [],
   "source": []
  },
  {
   "cell_type": "code",
   "execution_count": null,
   "metadata": {},
   "outputs": [],
   "source": []
  },
  {
   "cell_type": "code",
   "execution_count": null,
   "metadata": {},
   "outputs": [],
   "source": []
  }
 ],
 "metadata": {
  "kernelspec": {
   "display_name": "Python 3",
   "language": "python",
   "name": "python3"
  },
  "language_info": {
   "codemirror_mode": {
    "name": "ipython",
    "version": 3
   },
   "file_extension": ".py",
   "mimetype": "text/x-python",
   "name": "python",
   "nbconvert_exporter": "python",
   "pygments_lexer": "ipython3",
   "version": "3.7.4"
  }
 },
 "nbformat": 4,
 "nbformat_minor": 2
}
