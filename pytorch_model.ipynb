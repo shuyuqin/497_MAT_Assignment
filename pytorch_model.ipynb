{
 "cells": [
  {
   "cell_type": "code",
   "execution_count": 1,
   "metadata": {},
   "outputs": [
    {
     "name": "stdout",
     "output_type": "stream",
     "text": [
      "1.2.0\n"
     ]
    }
   ],
   "source": [
    "import torch\n",
    "print(torch.__version__)"
   ]
  },
  {
   "cell_type": "code",
   "execution_count": 35,
   "metadata": {},
   "outputs": [],
   "source": [
    "import numpy as np\n",
    "import matplotlib\n",
    "import matplotlib.pyplot as plt\n",
    "import keras\n",
    "from keras.models import Model\n",
    "from keras.layers import Input, LSTM, Dense\n",
    "from keras.models import Sequential, Input, Model\n",
    "from keras.layers import (Dense, Conv1D, Convolution2D, GRU, LSTM, Recurrent, Bidirectional, TimeDistributed,\n",
    "                          Dropout, Flatten, RepeatVector, Reshape, MaxPooling1D, UpSampling1D, BatchNormalization)\n",
    "from keras.layers.core import Lambda\n",
    "from keras.optimizers import Adam\n",
    "from keras.regularizers import l1\n",
    "from keras.models import load_model\n",
    "from sklearn import preprocessing\n",
    "from keras.models import load_model\n",
    "from sklearn.model_selection import GridSearchCV\n",
    "from keras.wrappers.scikit_learn import KerasClassifier\n",
    "from sklearn import linear_model\n",
    "import pandas as pd\n",
    "import torch\n",
    "import torch.nn as nn\n",
    "import torch.nn.functional as F\n",
    "import torch.optim as optim\n",
    "from scipy import special"
   ]
  },
  {
   "cell_type": "code",
   "execution_count": 3,
   "metadata": {},
   "outputs": [],
   "source": [
    "def function_gen(x, a, b, c, d, e, f, z1, z2, z3, z4, z5, z6, z7, z8, z9, z10, z11, z12):\n",
    "    y1 = a*(x-z1)**2 + b*(x-z2)**2 + c*(x-z3)**2 + d*(x-z4)**2 + e*(x-z5)**2 + f*(x-z6)**2\n",
    "    y2 = a*(x+z7)**2 + b*(x+z8)**2 + c*(x+z9)**2 + d*(x+z10)**2+ e*(x+z11)**2+ f*(x+z12)**2\n",
    "    return y1, y2"
   ]
  },
  {
   "cell_type": "markdown",
   "metadata": {},
   "source": [
    "$y_1 = a(x-z_1)^2+b(x-z_2)^2+c(x-z_3)^2+d(x-z_4)^2+e(x-z_5)^2+f(x-z_6)^2$\n",
    "\n",
    "$y_2 = a(x+z_7)^2+b(x+z_8)^2+c(x+z_9)^2+d(x+z_{10})^2+e(x+z_{11})^2+f(x+z_{12})^2$"
   ]
  },
  {
   "cell_type": "code",
   "execution_count": 17,
   "metadata": {},
   "outputs": [],
   "source": [
    "x = np.linspace(-10,10,100)\n",
    "y1 = []\n",
    "y2 = []\n",
    "a = []\n",
    "b = []\n",
    "c = []\n",
    "d = []\n",
    "e = []\n",
    "f = []\n",
    "z1 = np.random.uniform(0,12)\n",
    "z2 = np.random.uniform(0,12)\n",
    "z3 = np.random.uniform(0,12)\n",
    "z4 = np.random.uniform(0,12)\n",
    "z5 = np.random.uniform(0,12)\n",
    "z6 = np.random.uniform(0,12)\n",
    "z7 = np.random.uniform(0,12)\n",
    "z8 = np.random.uniform(0,12)\n",
    "z9 = np.random.uniform(0,12)\n",
    "z10 = np.random.uniform(0,12)\n",
    "z11 = np.random.uniform(0,12)\n",
    "z12 = np.random.uniform(0,12)\n",
    "    \n",
    "for k in range(10000):\n",
    "    a_ = np.random.normal(8, 1, 1)\n",
    "    b_ = np.random.normal(7, 2, 1)\n",
    "    c_ = np.random.normal(6, 3, 1)\n",
    "    d_ = np.random.normal(5, 4, 1)\n",
    "    e_ = np.random.normal(4, 5, 1)\n",
    "    f_ = np.random.normal(3, 7, 1)\n",
    "    y1_, y2_ = function_gen(x, a_, b_, c_, d_,e_,f_,z1,z2,z3,z4,z5,z6,z7,z8,z9,z10,z11,z12)\n",
    "    y1.append(y1_)\n",
    "    y2.append(y2_)\n",
    "    a.append(a_)\n",
    "    b.append(b_)\n",
    "    c.append(c_)\n",
    "    d.append(d_)\n",
    "    e.append(e_)\n",
    "    f.append(f_)\n",
    "        \n",
    "nor_y1 = preprocessing.normalize(y1)\n",
    "nor_y2 = preprocessing.normalize(y2)"
   ]
  },
  {
   "cell_type": "code",
   "execution_count": 4,
   "metadata": {},
   "outputs": [],
   "source": [
    "def s_1(b1, b2, Vbot, C1, D1):\n",
    "    s1 = (b1+b2)/2 + ((b2-b1)/2)*special.erfc((Vbot-C1)/D1)\n",
    "    return s1\n",
    "    \n",
    "def s_2(b3, b4, Vbot, C2, D2):\n",
    "    s2 = (b3+b4)/2 + ((b4-b3)/2)*special.erfc((Vbot-C2)/D2)\n",
    "    return s2\n",
    "\n",
    "def s_3(b5, b6, Vbot, C3, D3):\n",
    "    s3 = (b5+b6)/2 + ((b6-b5)/2)*special.erfc((Vbot-C3)/D3)\n",
    "    return s3\n",
    "\n",
    "def s_4(b7, b8, Vtop, C4, D4):\n",
    "    s4 = (b7+b8)/2 + ((b8-b7)/2)*special.erfc((Vtop-C4)/D4)\n",
    "    return s4\n",
    "\n",
    "def s_5(b9, b10, Vtop, C5, D5):\n",
    "    s5 = (b9+b10)/2 + ((b10-b9)/2)*special.erfc((Vtop-C5)/D5)\n",
    "    return s5\n",
    "\n",
    "def s_6(b11, b12, Vtop, C6, D6):\n",
    "    s6 = (b11+b12)/2 + ((b12-b11)/2)*special.erfc((Vtop-C6)/D6)\n",
    "    return s6"
   ]
  },
  {
   "cell_type": "code",
   "execution_count": 191,
   "metadata": {},
   "outputs": [],
   "source": [
    "def F_1(a1, a2, a3, a4, a7, Al1, Al2, Al3, s1, s2, s3, Vbot):\n",
    "    F1 = a1+(a2-a1)*(special.erfc((Vbot+Al1)/s1)+1)/2 + (a3-a2)*(special.erfc((Vbot+Al2)/s2)+1)/2 + (a4-a3)*(special.erfc((Vbot+Al3)/s3)+1)/2 + a7*Vbot\n",
    "    return F1\n",
    "\n",
    "def F_2(a1, a5, a6, a4, a7, Au1, Au2, Au3, s4, s5, s6, Vtop):\n",
    "    F2 = a1+(a5-a1)*(special.erfc((Vtop+Au1)/s4)+1)/2 + (a6-a5)*(special.erfc((Vtop+Au2)/s5)+1)/2 + (a4-a6)*(special.erfc((Vtop+Au3)/s6)+1)/2 + a7*Vtop\n",
    "    return F2\n",
    "    \n",
    "    \n",
    "    "
   ]
  },
  {
   "cell_type": "code",
   "execution_count": 192,
   "metadata": {},
   "outputs": [],
   "source": [
    "Vbot = np.linspace(-15,15,200)\n",
    "Vtop = np.linspace(-15,15,200)\n",
    "b1 = 1\n",
    "b2 = 2\n",
    "b3 = 1\n",
    "b4 = 2\n",
    "b5 = 1\n",
    "b6 = 2\n",
    "b7 = 1\n",
    "b8 = 2\n",
    "b9 = 1\n",
    "b10= 2\n",
    "b11= 1\n",
    "b12= 2\n",
    "C1 = 5\n",
    "C2 = 5\n",
    "C3 = 5\n",
    "C4 = 5\n",
    "C5 = 5\n",
    "C6 = 5\n",
    "D1 = 5\n",
    "D2 = 5\n",
    "D3 = 5\n",
    "D4 = 5\n",
    "D5 = 5\n",
    "D6 = 5\n",
    "a1 = 1\n",
    "a2 = 5\n",
    "a3 = 10\n",
    "a4 = 15\n",
    "a5 = 5\n",
    "a6 = 10\n",
    "a7 = 0.1\n",
    "Al1= 2\n",
    "Al2= 4\n",
    "Al3= 6\n",
    "Au1= -2\n",
    "Au2= -4\n",
    "Au3= -6"
   ]
  },
  {
   "cell_type": "code",
   "execution_count": 193,
   "metadata": {},
   "outputs": [],
   "source": [
    "s1 = s_1(b1, b2, Vbot, C1, D1)\n",
    "s2 = s_2(b3, b4, Vbot, C2, D2)\n",
    "s3 = s_3(b5, b6, Vbot, C3, D3)\n",
    "s4 = s_4(b7, b8, Vtop, C4, D4)\n",
    "s5 = s_5(b9, b10, Vtop, C5, D5)\n",
    "s6 = s_6(b11, b12, Vtop, C6, D6)\n"
   ]
  },
  {
   "cell_type": "code",
   "execution_count": 194,
   "metadata": {},
   "outputs": [],
   "source": [
    "F1 = F_1(a1, a2, a3, a4, a7, Al1, Al2, Al3, s1, s2, s3, Vbot)\n",
    "F2 = F_2(a1, a5, a6, a4, a7, Au1, Au2, Au3, s4, s5, s6, Vtop)"
   ]
  },
  {
   "cell_type": "code",
   "execution_count": 195,
   "metadata": {},
   "outputs": [
    {
     "data": {
      "text/plain": [
       "[<matplotlib.lines.Line2D at 0x1a4e950890>]"
      ]
     },
     "execution_count": 195,
     "metadata": {},
     "output_type": "execute_result"
    },
    {
     "data": {
      "image/png": "[encoded data removed]",
      "text/plain": [
       "<Figure size 432x288 with 1 Axes>"
      ]
     },
     "metadata": {
      "needs_background": "light"
     },
     "output_type": "display_data"
    }
   ],
   "source": [
    "plt.plot(Vbot,F1,'b')\n",
    "plt.plot(Vtop,F2,'r')"
   ]
  },
  {
   "cell_type": "code",
   "execution_count": null,
   "metadata": {},
   "outputs": [],
   "source": []
  },
  {
   "cell_type": "code",
   "execution_count": null,
   "metadata": {},
   "outputs": [],
   "source": []
  },
  {
   "cell_type": "code",
   "execution_count": null,
   "metadata": {},
   "outputs": [],
   "source": []
  },
  {
   "cell_type": "code",
   "execution_count": null,
   "metadata": {},
   "outputs": [],
   "source": []
  },
  {
   "cell_type": "code",
   "execution_count": 36,
   "metadata": {},
   "outputs": [],
   "source": [
    "def s_1(b1, b2, Vdc, b7, b5):\n",
    "    s1 = (b1+b2)/2 + ((b2-b1)/2)*special.erfc((Vdc-b7)/b5)\n",
    "    return s1\n",
    "    \n",
    "def s_2(b3, b4, Vdc, b8, b6):\n",
    "    s2 = (b3+b4)/2 + ((b4-b3)/2)*special.erfc((Vdc-b8)/b6)\n",
    "    return s2\n",
    "\n",
    "def F_1(a1, a2, a3, Vdc, Ec_, s1):\n",
    "    F1 = (a1+a2)/2 + (a2-a1)*special.erfc((Vdc-Ec_)/s1) + a3*Vdc\n",
    "    return F1\n",
    "\n",
    "def F_2(a1, a2, a3, Vdc, Ec, s2):\n",
    "    F2 = (a1+a2)/2 + (a2-a1)*special.erfc((Vdc-Ec)/s2) + a3*Vdc\n",
    "    return F2\n",
    "    "
   ]
  },
  {
   "cell_type": "code",
   "execution_count": 184,
   "metadata": {},
   "outputs": [],
   "source": [
    "b1 = 1\n",
    "b2 = 2\n",
    "b3 = 1\n",
    "b4 = 2.5\n",
    "b5 = 5\n",
    "b6 = 5\n",
    "b7 = 5\n",
    "b8 = 5\n",
    "Vdc = np.linspace(-10,10,100)\n",
    "Ec_ = -5\n",
    "Ec = 5\n",
    "a1 = 10\n",
    "a2 = 0\n",
    "a3 = 0.05"
   ]
  },
  {
   "cell_type": "code",
   "execution_count": 185,
   "metadata": {},
   "outputs": [],
   "source": [
    "s1 = s_1(b1, b2, Vdc, b7, b5)\n",
    "s2 = s_2(b3, b4, Vdc, b8, b6)"
   ]
  },
  {
   "cell_type": "code",
   "execution_count": 186,
   "metadata": {},
   "outputs": [],
   "source": [
    "F1 = F_1(a1, a2, a3, Vdc, Ec_, s1)\n",
    "F2 = F_2(a1, a2, a3, Vdc, Ec, s2)"
   ]
  },
  {
   "cell_type": "code",
   "execution_count": 187,
   "metadata": {},
   "outputs": [
    {
     "data": {
      "text/plain": [
       "[<matplotlib.lines.Line2D at 0x1a4e889a50>]"
      ]
     },
     "execution_count": 187,
     "metadata": {},
     "output_type": "execute_result"
    },
    {
     "data": {
      "image/png": "[encoded data removed]",
      "text/plain": [
       "<Figure size 432x288 with 1 Axes>"
      ]
     },
     "metadata": {
      "needs_background": "light"
     },
     "output_type": "display_data"
    }
   ],
   "source": [
    "plt.plot(Vdc,F1,'b')\n",
    "plt.plot(Vdc,F2,'r')"
   ]
  },
  {
   "cell_type": "code",
   "execution_count": null,
   "metadata": {},
   "outputs": [],
   "source": []
  },
  {
   "cell_type": "code",
   "execution_count": null,
   "metadata": {},
   "outputs": [],
   "source": []
  },
  {
   "cell_type": "code",
   "execution_count": null,
   "metadata": {},
   "outputs": [],
   "source": []
  },
  {
   "cell_type": "code",
   "execution_count": null,
   "metadata": {},
   "outputs": [],
   "source": []
  },
  {
   "cell_type": "code",
   "execution_count": 10,
   "metadata": {},
   "outputs": [
    {
     "data": {
      "text/plain": [
       "<torch._C.Generator at 0x111db87d0>"
      ]
     },
     "execution_count": 10,
     "metadata": {},
     "output_type": "execute_result"
    }
   ],
   "source": [
    "lstm = nn.LSTM(100, 100)"
   ]
  },
  {
   "cell_type": "code",
   "execution_count": 14,
   "metadata": {},
   "outputs": [
    {
     "name": "stdout",
     "output_type": "stream",
     "text": [
      "tensor([0.4425, 0.0958])\n"
     ]
    }
   ],
   "source": []
  },
  {
   "cell_type": "code",
   "execution_count": null,
   "metadata": {},
   "outputs": [],
   "source": []
  }
 ],
 "metadata": {
  "kernelspec": {
   "display_name": "Python 3",
   "language": "python",
   "name": "python3"
  },
  "language_info": {
   "codemirror_mode": {
    "name": "ipython",
    "version": 3
   },
   "file_extension": ".py",
   "mimetype": "text/x-python",
   "name": "python",
   "nbconvert_exporter": "python",
   "pygments_lexer": "ipython3",
   "version": "3.7.4"
  }
 },
 "nbformat": 4,
 "nbformat_minor": 2
}
