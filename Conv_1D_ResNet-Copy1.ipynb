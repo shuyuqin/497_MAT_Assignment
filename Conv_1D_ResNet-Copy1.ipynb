{
 "cells": [
  {
   "cell_type": "code",
   "execution_count": 1,
   "metadata": {},
   "outputs": [],
   "source": [
    "# print(K.tensorflow_backend._get_available_gpus())\n",
    "from __future__ import absolute_import, division, print_function, unicode_literals\n",
    "#\n",
    "import tensorflow as tf\n",
    "#import keras.backend.tensorflow_backend as KTF\n",
    "gpu_devices = tf.config.experimental.list_physical_devices('GPU')\n",
    "for device in gpu_devices:\n",
    "    tf.config.experimental.set_memory_growth(device,True)"
   ]
  },
  {
   "cell_type": "code",
   "execution_count": 2,
   "metadata": {},
   "outputs": [],
   "source": [
    "import numpy as np\n",
    "import matplotlib\n",
    "import matplotlib.pyplot as plt\n",
    "import tensorflow.keras.layers as layers\n",
    "import tensorflow.keras\n",
    "from tensorflow.keras.models import Model\n",
    "from tensorflow.keras.layers import Input, LSTM, Dense\n",
    "from tensorflow.keras.models import Sequential, Model\n",
    "from tensorflow.keras.layers import (Reshape,Attention,MaxPool1D,Dense, Conv1D, Convolution2D, GRU, LSTM, Bidirectional, TimeDistributed,\n",
    "                          Dropout, Flatten, LayerNormalization,RepeatVector, Reshape, MaxPooling1D, UpSampling1D, BatchNormalization)\n",
    "from tensorflow.keras.layers import Layer\n",
    "from tensorflow.keras.optimizers import Adam\n",
    "from tensorflow.keras.regularizers import l1, l2\n",
    "from tensorflow.keras.models import load_model\n",
    "from sklearn import preprocessing\n",
    "from tensorflow.keras.models import load_model\n",
    "from sklearn.model_selection import GridSearchCV\n",
    "from tensorflow.keras.wrappers.scikit_learn import KerasClassifier\n",
    "from sklearn import linear_model\n",
    "import pandas as pd\n",
    "import torch\n",
    "import torch.nn as nn\n",
    "import random\n",
    "#from keras import layers as layers\n",
    "import torch.nn.functional as F\n",
    "import torch.optim as optim\n",
    "from torch.autograd import Variable\n",
    "from scipy import special\n",
    "import torchvision.datasets as dsets\n",
    "import torchvision.transforms as transforms\n",
    "import tensorflow as tf\n",
    "import tensorflow.keras.backend as K\n",
    "from tensorflow.keras.callbacks import ModelCheckpoint\n",
    "#from keras_self_attention import SeqSelfAttention\n",
    "\n",
    "from sklearn.preprocessing import StandardScaler"
   ]
  },
  {
   "cell_type": "code",
   "execution_count": 3,
   "metadata": {},
   "outputs": [],
   "source": [
    "import os\n",
    "import random\n",
    "import numpy as np\n",
    "import json\n",
    "import matplotlib.pyplot\n",
    "import pickle\n",
    "from matplotlib.pyplot import imshow\n",
    "from PIL import Image\n",
    "from sklearn.manifold import TSNE"
   ]
  },
  {
   "cell_type": "code",
   "execution_count": 4,
   "metadata": {},
   "outputs": [
    {
     "name": "stderr",
     "output_type": "stream",
     "text": [
      "Using TensorFlow backend.\n"
     ]
    }
   ],
   "source": [
    "from keras.datasets import mnist\n",
    "import numpy as np\n",
    "(x_train, y_train), (x_test, y_test) = mnist.load_data()"
   ]
  },
  {
   "cell_type": "code",
   "execution_count": 5,
   "metadata": {},
   "outputs": [],
   "source": [
    "scaler = StandardScaler()\n",
    "\n",
    "x_train = x_train.reshape((len(x_train), np.prod(x_train.shape[1:])))\n",
    "x_test = x_test.reshape((len(x_test), np.prod(x_test.shape[1:])))\n",
    "\n",
    "x_train = scaler.fit_transform(x_train.astype('float32')) \n",
    "x_test = scaler.transform(x_test.astype('float32'))"
   ]
  },
  {
   "cell_type": "code",
   "execution_count": 6,
   "metadata": {},
   "outputs": [],
   "source": [
    "x_train = np.atleast_3d(x_train)\n",
    "x_test = np.atleast_3d(x_test)"
   ]
  },
  {
   "cell_type": "code",
   "execution_count": 7,
   "metadata": {},
   "outputs": [],
   "source": [
    "from tensorflow.keras.callbacks import ModelCheckpoint\n",
    "from sklearn.decomposition import NMF\n",
    "from scipy import io\n",
    "import numpy as np\n",
    "import os\n",
    "import os.path"
   ]
  },
  {
   "cell_type": "code",
   "execution_count": 8,
   "metadata": {},
   "outputs": [],
   "source": [
    "import warnings\n",
    "warnings.filterwarnings('ignore')\n",
    "import imp\n",
    "from matplotlib.ticker import FormatStrFormatter\n",
    "import matplotlib.pyplot as plt\n",
    "import codes.analysis.rnn as rnn\n",
    "import codes.util as util\n",
    "import codes.analysis.machine_learning as ml\n",
    "import codes.analysis as an\n",
    "import codes.processing as p\n",
    "import codes.viz as viz\n",
    "import codes.util.input_output as io_transfer"
   ]
  },
  {
   "cell_type": "code",
   "execution_count": 9,
   "metadata": {},
   "outputs": [],
   "source": [
    "imported = {'data': io.matlab.loadmat('./Raw_Data/Data.mat'),\n",
    "            'validation_data': io.matlab.loadmat('Raw_Data/loop_1.mat')}\n",
    "\n",
    "# extracts the important information from the raw data\n",
    "raw = {'voltage': imported['data']['Voltagedata_mixed'],\n",
    "       'piezoresponse': imported['data']['Loopdata_mixed'],\n",
    "       'amplitude': imported['data']['OutA2_mixed'],\n",
    "       'phase': imported['data']['OutPhi1_mixed'],\n",
    "       'resonance': imported['data']['Outw2_mixed'],\n",
    "       'quality_factor': imported['data']['OutQ2_mixed'],\n",
    "       'val_piezoresponse': imported['validation_data']['piezo_1'],\n",
    "       'val_resonance': imported['validation_data']['resonance_loop_1']}"
   ]
  },
  {
   "cell_type": "code",
   "execution_count": 10,
   "metadata": {},
   "outputs": [],
   "source": [
    "p.filters.range_filter(raw['resonance'], [1300, 1340])\n",
    "p.filters.range_filter(raw['val_resonance'], [1300, 1340])\n",
    "\n",
    "# interpolates data that is non-real. This happens when the SHO fit fails\n",
    "interpolated = {'voltage': raw['voltage'],\n",
    "                'piezoresponse': p.filters.clean_interpolate(raw['piezoresponse'],\n",
    "                                                             'linear').reshape(-1, raw['piezoresponse'].shape[2]),\n",
    "                'amplitude': p.filters.clean_interpolate(raw['amplitude'],\n",
    "                                                         'linear').reshape(-1, raw['amplitude'].shape[2]),\n",
    "                'phase': p.filters.clean_interpolate(raw['phase'],\n",
    "                                                     'linear').reshape(-1, raw['phase'].shape[2]),\n",
    "                'resonance': p.filters.clean_interpolate(raw['resonance'],\n",
    "                                                         'linear').reshape(-1, raw['resonance'].shape[2]),\n",
    "                'quality_factor': p.filters.clean_interpolate(raw['quality_factor'],\n",
    "                                                              'linear').reshape(-1, raw['quality_factor'].shape[2]),\n",
    "                'val_piezoresponse': p.filters.clean_interpolate(raw['val_piezoresponse'],\n",
    "                                                                  'linear').reshape(-1, raw['val_piezoresponse'].shape[2]),\n",
    "                'val_resonance': p.filters.clean_interpolate(raw['val_resonance'],\n",
    "                                                             'linear').reshape(-1, raw['val_resonance'].shape[2])}\n",
    "# Uses Savitzky-Golay filter to remove outlier points\n",
    "sg_filtered = {'voltage': raw['voltage'],\n",
    "               'piezoresponse': p.filters.savgol(interpolated['piezoresponse'], fit_type='linear'),\n",
    "               'amplitude': p.filters.savgol(interpolated['amplitude'], fit_type='linear'),\n",
    "               'phase': p.filters.savgol(interpolated['phase'], fit_type='linear'),\n",
    "               'resonance': p.filters.savgol(interpolated['resonance'], fit_type='linear'),\n",
    "               'quality_factor': p.filters.savgol(interpolated['quality_factor'], fit_type='linear'),\n",
    "               'val_piezoresponse': p.filters.savgol(interpolated['val_piezoresponse'], fit_type='linear'),\n",
    "               'val_resonance': p.filters.savgol(interpolated['val_resonance'], fit_type='linear')}\n",
    "\n",
    "# normalized the data. This is important for training Neural Networks\n",
    "normalized = {'voltage': raw['voltage'],\n",
    "              'piezoresponse': p.filters.normalize(sg_filtered['piezoresponse']),\n",
    "              'amplitude': p.filters.normalize(sg_filtered['amplitude']),\n",
    "              'phase': p.filters.normalize(sg_filtered['phase']),\n",
    "              'resonance': p.filters.normalize(sg_filtered['resonance']),\n",
    "              'quality_factor': p.filters.normalize(sg_filtered['quality_factor']),\n",
    "              'val_piezoresponse': p.filters.normalize(sg_filtered['val_piezoresponse'],\n",
    "                                                       sg_filtered['piezoresponse']),\n",
    "              'val_resonance': p.filters.normalize(sg_filtered['val_resonance'],\n",
    "                                                   sg_filtered['resonance'])}"
   ]
  },
  {
   "cell_type": "code",
   "execution_count": 11,
   "metadata": {},
   "outputs": [
    {
     "name": "stdout",
     "output_type": "stream",
     "text": [
      "Python: 3.7.4 (default, Aug 13 2019, 20:35:49) \n",
      "[GCC 7.3.0]\n",
      "scipy: 1.4.1\n",
      "numpy: 1.17.2\n",
      "matplotlib: 2.2.3\n",
      "pandas: 0.25.1\n",
      "sklearn: 0.22.1\n"
     ]
    }
   ],
   "source": [
    "import sys\n",
    "print('Python: {}'.format(sys.version))\n",
    "# scipy\n",
    "import scipy\n",
    "print('scipy: {}'.format(scipy.__version__))\n",
    "# numpy\n",
    "import numpy\n",
    "print('numpy: {}'.format(numpy.__version__))\n",
    "# matplotlib\n",
    "import matplotlib\n",
    "print('matplotlib: {}'.format(matplotlib.__version__))\n",
    "# pandas\n",
    "import pandas\n",
    "print('pandas: {}'.format(pandas.__version__))\n",
    "# scikit-learn\n",
    "import sklearn\n",
    "print('sklearn: {}'.format(sklearn.__version__))"
   ]
  },
  {
   "cell_type": "code",
   "execution_count": 12,
   "metadata": {},
   "outputs": [],
   "source": [
    "X = np.atleast_3d(normalized['piezoresponse'])\n",
    "Y = np.atleast_3d(normalized['val_piezoresponse'])"
   ]
  },
  {
   "cell_type": "code",
   "execution_count": 13,
   "metadata": {},
   "outputs": [
    {
     "ename": "SyntaxError",
     "evalue": "unexpected EOF while parsing (<ipython-input-13-4f4b0a258941>, line 1)",
     "output_type": "error",
     "traceback": [
      "\u001b[0;36m  File \u001b[0;32m\"<ipython-input-13-4f4b0a258941>\"\u001b[0;36m, line \u001b[0;32m1\u001b[0m\n\u001b[0;31m    def Conv_1D_Block():\u001b[0m\n\u001b[0m                        ^\u001b[0m\n\u001b[0;31mSyntaxError\u001b[0m\u001b[0;31m:\u001b[0m unexpected EOF while parsing\n"
     ]
    }
   ],
   "source": [
    "def Conv_1D_Block(X, size, n_step, drop_frac, l1_norm):\n",
    "    X_shortcut = X"
   ]
  },
  {
   "cell_type": "code",
   "execution_count": null,
   "metadata": {},
   "outputs": [],
   "source": []
  },
  {
   "cell_type": "markdown",
   "metadata": {},
   "source": [
    "Lstm autoencoder resnet model"
   ]
  },
  {
   "cell_type": "code",
   "execution_count": null,
   "metadata": {},
   "outputs": [],
   "source": [
    "def encode_identity_block(X, stage, block, size, n_step, drop_frac, l1_norm):\n",
    "    conv_name_base = 'res' + str(stage) + block + '_branch'\n",
    "    bn_name_base = 'enconde' + str(stage) + block + '_branch'\n",
    "\n",
    "    X_shortcut = X\n",
    "    X = layers.Bidirectional(LSTM(size, return_sequences=True, dropout=drop_frac,\n",
    "                                  activity_regularizer=l1(l1_norm)), input_shape=(n_step, 1))(X)\n",
    "\n",
    "    # X = layers.BatchNormalization(axis = 1, name = bn_name_base + '2a')(X)\n",
    "    X = layers.Activation('relu')(X)\n",
    "\n",
    "    X = layers.Bidirectional(LSTM(size, return_sequences=True, dropout=drop_frac,\n",
    "                                  activity_regularizer=l1(l1_norm)), input_shape=(n_step, 1))(X)\n",
    "\n",
    "    # X = layers.BatchNormalization(axis = 1, name = bn_name_base + '2b')(X)\n",
    "    X = layers.Activation('relu')(X)\n",
    "\n",
    "    X = layers.Bidirectional(LSTM(size, return_sequences=True, dropout=drop_frac,\n",
    "                                  activity_regularizer=l1(l1_norm)), input_shape=(n_step, 1))(X)\n",
    "\n",
    "    \n",
    "\n",
    "    X = layers.add([X, X_shortcut])\n",
    "   # X = layers.BatchNormalization(axis = 1, name = bn_name_base + '2c')(X)\n",
    "    X = layers.Activation('relu')(X)\n",
    "\n",
    "    return X\n",
    "\n",
    "\n",
    "def decode_identity_block(X, stage, block, size, n_step, drop_frac, l1_norm):\n",
    "    conv_name_base = 'res' + str(stage) + block + '_branch'\n",
    "    bn_name_base = 'decode' + str(stage) + block + '_branch'\n",
    "\n",
    "    X_shortcut = X\n",
    "    X = layers.Bidirectional(LSTM(size, return_sequences=True, dropout=drop_frac,\n",
    "                                  activity_regularizer=l1(l1_norm)))(X)\n",
    "    # X = layers.BatchNormalization(axis = 1, name = bn_name_base + '2a')(X)\n",
    "    X = layers.Activation('relu')(X)\n",
    "\n",
    "    X = layers.Bidirectional(LSTM(size, return_sequences=True, dropout=drop_frac,\n",
    "                                  activity_regularizer=l1(l1_norm)))(X)\n",
    "\n",
    "    # X = layers.BatchNormalization(axis = 1, name = bn_name_base + '2b')(X)\n",
    "    X = layers.Activation('relu')(X)\n",
    "\n",
    "    X = layers.Bidirectional(LSTM(size, return_sequences=True, dropout=drop_frac,\n",
    "                                  activity_regularizer=l1(l1_norm)))(X)\n",
    "    # \n",
    "\n",
    "    X = layers.add([X, X_shortcut])\n",
    "   # X = layers.BatchNormalization(axis = 1, name = bn_name_base + '2c')(X)\n",
    "    X = layers.Activation('relu')(X)\n",
    "\n",
    "    return X\n",
    "\n",
    "\n",
    "def ResNet50(lr=3e-5, size=128, drop_frac=0, n_step=96, embedding=16, l1_norm=1e-5):\n",
    "    X_input = layers.Input(shape=(n_step, 1))\n",
    "    X = X_input\n",
    "\n",
    "    X = encode_identity_block(X, 2, 'b', size, n_step, drop_frac, l1_norm)\n",
    "    X = encode_identity_block(X, 2, 'c', size, n_step, drop_frac, l1_norm)\n",
    "    X = encode_identity_block(X, 2, 'd', size, n_step, drop_frac, l1_norm)\n",
    "\n",
    "    X = layers.Bidirectional(LSTM(size, return_sequences=False, dropout=drop_frac,\n",
    "                                  activity_regularizer=l1(l1_norm)), input_shape=(n_step, 1))(X)\n",
    "    #X = layers.BatchNormalization(axis=1, name='last_encode')(X)\n",
    "    X = layers.Activation('relu')(X)\n",
    "    X = layers.Dense(embedding, activation='relu', name='embedding_layer', activity_regularizer=l1(l1_norm))(X)\n",
    "    X = layers.RepeatVector(n_step)(X)\n",
    "\n",
    "    X = layers.Bidirectional(LSTM(size, return_sequences=True, dropout=drop_frac,\n",
    "                                  activity_regularizer=l1(l1_norm)))(X)\n",
    "\n",
    "    # X = layers.BatchNormalization(axis = 1, name = 'fires_decode')(X)\n",
    "    X = layers.Activation('relu')(X)\n",
    "\n",
    "    X = decode_identity_block(X, 2, 'b', size, n_step, drop_frac, l1_norm)\n",
    "    X = decode_identity_block(X, 2, 'c', size, n_step, drop_frac, l1_norm)\n",
    "    X = decode_identity_block(X, 2, 'd', size, n_step, drop_frac, l1_norm)\n",
    "\n",
    "    X = layers.BatchNormalization(axis=1, name='batch_normal')(X)\n",
    "    X = layers.TimeDistributed(Dense(1, activation='linear'))(X)\n",
    "    model = Model(inputs=X_input, outputs=X, name='ResNet50')\n",
    "    model.compile(Adam(lr), loss='mse')\n",
    "\n",
    "    return model"
   ]
  },
  {
   "cell_type": "code",
   "execution_count": null,
   "metadata": {},
   "outputs": [],
   "source": []
  },
  {
   "cell_type": "markdown",
   "metadata": {},
   "source": [
    "Convolutional 1D with Attention model"
   ]
  },
  {
   "cell_type": "code",
   "execution_count": null,
   "metadata": {},
   "outputs": [],
   "source": [
    "def Conv_Atten():\n",
    "    input_img = Input(shape=(96, 1))  \n",
    "\n",
    "#x = Dense(128, activation='relu')(input_img)\n",
    "\n",
    "    x = Conv1D(128, 3, activation='relu', padding='same')(input_img)\n",
    "    x = tf.transpose(x, (0, 2, 1)) \n",
    "    x = Attention()([x,x])\n",
    "    x = tf.transpose(x, (0, 2, 1)) \n",
    "    x = MaxPooling1D(2, padding='same')(x)\n",
    "    x = Conv1D(128, 3, activation='relu', padding='same')(x)\n",
    "    x = tf.transpose(x, (0, 2, 1)) \n",
    "    x = Attention()([x,x])\n",
    "    x = tf.transpose(x, (0, 2, 1)) \n",
    "    x = MaxPooling1D(2, padding='same')(x)\n",
    "# x = Conv1D(128, 3, activation='relu', padding='same')(x)\n",
    "# encoded = MaxPooling1D(2, padding='same')(x)\n",
    "    x = tf.transpose(x, (0, 2, 1)) \n",
    "    encoded = Bidirectional(LSTM(32, return_sequences=False))(x)\n",
    "# # at this point the representation is (4, 4, 8) i.e. 128-dimensional\n",
    "    embedding = Dense(24, activation='relu',activity_regularizer=l1(1e-3))(encoded)\n",
    "    repeat = RepeatVector(128)(embedding)\n",
    "    x = tf.transpose(repeat, (0, 2, 1)) \n",
    "    x = Conv1D(128, 3, activation='relu', padding='same')(x)\n",
    "    x = tf.transpose(x, (0, 2, 1)) \n",
    "    x = Attention()([x,x])\n",
    "    x = tf.transpose(x, (0, 2, 1)) \n",
    "    x = UpSampling1D(2)(x)\n",
    "    x = Conv1D(128, 3, activation='relu', padding='same')(x)\n",
    "    x = tf.transpose(x, (0, 2, 1)) \n",
    "    x = Attention()([x,x])\n",
    "    x = tf.transpose(x, (0, 2, 1)) \n",
    "    x = UpSampling1D(2)(x)\n",
    "    decoded = Conv1D(1, 3, activation='linear', padding='same')(x)\n",
    "#x = UpSampling1D(2)(x)\n",
    "\n",
    "\n",
    "    model = Model(input_img, decoded,name = 'Convolutional_1D_with_Attention')\n",
    "    model.compile(Adam(2e-5), loss='mse')\n",
    "    return model"
   ]
  },
  {
   "cell_type": "code",
   "execution_count": null,
   "metadata": {},
   "outputs": [],
   "source": []
  },
  {
   "cell_type": "code",
   "execution_count": null,
   "metadata": {},
   "outputs": [],
   "source": []
  },
  {
   "cell_type": "code",
   "execution_count": null,
   "metadata": {},
   "outputs": [],
   "source": []
  },
  {
   "cell_type": "code",
   "execution_count": null,
   "metadata": {},
   "outputs": [],
   "source": []
  },
  {
   "cell_type": "code",
   "execution_count": null,
   "metadata": {},
   "outputs": [],
   "source": []
  },
  {
   "cell_type": "code",
   "execution_count": null,
   "metadata": {},
   "outputs": [],
   "source": []
  },
  {
   "cell_type": "code",
   "execution_count": null,
   "metadata": {},
   "outputs": [],
   "source": []
  },
  {
   "cell_type": "code",
   "execution_count": null,
   "metadata": {},
   "outputs": [],
   "source": []
  },
  {
   "cell_type": "code",
   "execution_count": null,
   "metadata": {},
   "outputs": [],
   "source": []
  },
  {
   "cell_type": "code",
   "execution_count": null,
   "metadata": {},
   "outputs": [],
   "source": []
  },
  {
   "cell_type": "code",
   "execution_count": null,
   "metadata": {},
   "outputs": [],
   "source": []
  },
  {
   "cell_type": "code",
   "execution_count": null,
   "metadata": {},
   "outputs": [],
   "source": []
  },
  {
   "cell_type": "code",
   "execution_count": null,
   "metadata": {},
   "outputs": [],
   "source": []
  },
  {
   "cell_type": "code",
   "execution_count": null,
   "metadata": {},
   "outputs": [],
   "source": []
  },
  {
   "cell_type": "code",
   "execution_count": null,
   "metadata": {},
   "outputs": [],
   "source": []
  },
  {
   "cell_type": "code",
   "execution_count": null,
   "metadata": {},
   "outputs": [],
   "source": []
  },
  {
   "cell_type": "code",
   "execution_count": null,
   "metadata": {},
   "outputs": [],
   "source": []
  },
  {
   "cell_type": "code",
   "execution_count": null,
   "metadata": {},
   "outputs": [],
   "source": []
  },
  {
   "cell_type": "code",
   "execution_count": null,
   "metadata": {},
   "outputs": [],
   "source": []
  },
  {
   "cell_type": "code",
   "execution_count": null,
   "metadata": {},
   "outputs": [],
   "source": []
  },
  {
   "cell_type": "code",
   "execution_count": null,
   "metadata": {},
   "outputs": [],
   "source": []
  },
  {
   "cell_type": "code",
   "execution_count": null,
   "metadata": {},
   "outputs": [],
   "source": []
  },
  {
   "cell_type": "code",
   "execution_count": null,
   "metadata": {},
   "outputs": [],
   "source": []
  },
  {
   "cell_type": "code",
   "execution_count": null,
   "metadata": {},
   "outputs": [],
   "source": []
  },
  {
   "cell_type": "code",
   "execution_count": null,
   "metadata": {},
   "outputs": [],
   "source": []
  },
  {
   "cell_type": "code",
   "execution_count": null,
   "metadata": {},
   "outputs": [],
   "source": []
  },
  {
   "cell_type": "code",
   "execution_count": null,
   "metadata": {},
   "outputs": [],
   "source": []
  },
  {
   "cell_type": "code",
   "execution_count": null,
   "metadata": {},
   "outputs": [],
   "source": []
  },
  {
   "cell_type": "code",
   "execution_count": null,
   "metadata": {},
   "outputs": [],
   "source": []
  },
  {
   "cell_type": "code",
   "execution_count": null,
   "metadata": {},
   "outputs": [],
   "source": []
  },
  {
   "cell_type": "code",
   "execution_count": null,
   "metadata": {},
   "outputs": [],
   "source": []
  },
  {
   "cell_type": "code",
   "execution_count": null,
   "metadata": {},
   "outputs": [],
   "source": []
  },
  {
   "cell_type": "code",
   "execution_count": null,
   "metadata": {},
   "outputs": [],
   "source": []
  },
  {
   "cell_type": "code",
   "execution_count": null,
   "metadata": {},
   "outputs": [],
   "source": []
  },
  {
   "cell_type": "code",
   "execution_count": null,
   "metadata": {},
   "outputs": [],
   "source": []
  },
  {
   "cell_type": "code",
   "execution_count": null,
   "metadata": {},
   "outputs": [],
   "source": []
  },
  {
   "cell_type": "code",
   "execution_count": null,
   "metadata": {},
   "outputs": [],
   "source": []
  },
  {
   "cell_type": "code",
   "execution_count": null,
   "metadata": {},
   "outputs": [],
   "source": []
  },
  {
   "cell_type": "code",
   "execution_count": null,
   "metadata": {},
   "outputs": [],
   "source": []
  },
  {
   "cell_type": "code",
   "execution_count": null,
   "metadata": {},
   "outputs": [],
   "source": []
  },
  {
   "cell_type": "code",
   "execution_count": null,
   "metadata": {},
   "outputs": [],
   "source": []
  },
  {
   "cell_type": "code",
   "execution_count": null,
   "metadata": {},
   "outputs": [],
   "source": []
  },
  {
   "cell_type": "code",
   "execution_count": null,
   "metadata": {},
   "outputs": [],
   "source": []
  },
  {
   "cell_type": "code",
   "execution_count": null,
   "metadata": {},
   "outputs": [],
   "source": []
  },
  {
   "cell_type": "code",
   "execution_count": null,
   "metadata": {},
   "outputs": [],
   "source": []
  },
  {
   "cell_type": "code",
   "execution_count": null,
   "metadata": {},
   "outputs": [],
   "source": []
  },
  {
   "cell_type": "code",
   "execution_count": null,
   "metadata": {},
   "outputs": [],
   "source": []
  },
  {
   "cell_type": "code",
   "execution_count": null,
   "metadata": {},
   "outputs": [],
   "source": []
  },
  {
   "cell_type": "code",
   "execution_count": null,
   "metadata": {},
   "outputs": [],
   "source": []
  },
  {
   "cell_type": "code",
   "execution_count": null,
   "metadata": {},
   "outputs": [],
   "source": []
  },
  {
   "cell_type": "code",
   "execution_count": null,
   "metadata": {},
   "outputs": [],
   "source": []
  },
  {
   "cell_type": "code",
   "execution_count": null,
   "metadata": {},
   "outputs": [],
   "source": []
  },
  {
   "cell_type": "code",
   "execution_count": null,
   "metadata": {},
   "outputs": [],
   "source": []
  },
  {
   "cell_type": "code",
   "execution_count": null,
   "metadata": {},
   "outputs": [],
   "source": []
  }
 ],
 "metadata": {
  "kernelspec": {
   "display_name": "Python 3",
   "language": "python",
   "name": "python3"
  },
  "language_info": {
   "codemirror_mode": {
    "name": "ipython",
    "version": 3
   },
   "file_extension": ".py",
   "mimetype": "text/x-python",
   "name": "python",
   "nbconvert_exporter": "python",
   "pygments_lexer": "ipython3",
   "version": "3.7.4"
  }
 },
 "nbformat": 4,
 "nbformat_minor": 2
}
